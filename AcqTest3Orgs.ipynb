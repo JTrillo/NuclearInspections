{
 "cells": [
  {
   "cell_type": "markdown",
   "metadata": {},
   "source": [
    "# Times obtained during acquisition test (3 Orgs - 1 Peer Node per Org)"
   ]
  },
  {
   "cell_type": "markdown",
   "metadata": {},
   "source": [
    "### Imports"
   ]
  },
  {
   "cell_type": "code",
   "execution_count": 1,
   "metadata": {},
   "outputs": [],
   "source": [
    "import threading\n",
    "import requests\n",
    "import json\n",
    "import random\n",
    "from acquisitor import *"
   ]
  },
  {
   "cell_type": "markdown",
   "metadata": {},
   "source": [
    "### Global variables"
   ]
  },
  {
   "cell_type": "code",
   "execution_count": 2,
   "metadata": {},
   "outputs": [],
   "source": [
    "API_ENDPOINT = \"http://35.195.161.115:3000/api/\"\n",
    "NS = \"ertis.uma.nuclear\""
   ]
  },
  {
   "cell_type": "markdown",
   "metadata": {},
   "source": [
    "### Function"
   ]
  },
  {
   "cell_type": "code",
   "execution_count": 3,
   "metadata": {},
   "outputs": [],
   "source": [
    "def addAcquisitionTest(num_acquisitors, num_tubes):\n",
    "    acquisitor_threads = []\n",
    "    acquisitions_per_worker = int(num_tubes/num_acquisitors)\n",
    "\n",
    "    # Check for next acquisition id\n",
    "    resource_url = f\"{API_ENDPOINT}{NS}.Acquisition\"\n",
    "    r = requests.get(resource_url)\n",
    "    next_id = len(r.json()) + 1\n",
    "\n",
    "    # Create threads\n",
    "    for i in range(num_acquisitors):\n",
    "        thread = Acquisitor(i, f\"Acquisitor-{i}\", acquisitions_per_worker, next_id+acquisitions_per_worker*i, API_ENDPOINT, NS)\n",
    "        acquisitor_threads.append(thread)\n",
    "\n",
    "    # Start threads\n",
    "    for i in range(num_acquisitors):\n",
    "        acquisitor_threads[i].start()\n",
    "\n",
    "    # Join threads\n",
    "    for i in range(num_acquisitors):\n",
    "        acquisitor_threads[i].join()\n",
    "        \n",
    "    # Print results\n",
    "    min = acquisitor_threads[0].min\n",
    "    avg = acquisitor_threads[0].avg\n",
    "    max = acquisitor_threads[0].max\n",
    "    acquisitor_threads[0].printResults()\n",
    "    for i in range(1, num_acquisitors):\n",
    "        if acquisitor_threads[i].min < min:\n",
    "            min = acquisitor_threads[i].min\n",
    "\n",
    "        avg = avg + acquisitor_threads[i].avg\n",
    "\n",
    "        if acquisitor_threads[i].max > max:\n",
    "            max = acquisitor_threads[i].max\n",
    "\n",
    "        acquisitor_threads[i].printResults()\n",
    "\n",
    "    print(f\"MIN ADD ACQ --> {min}\")\n",
    "    print(f\"AVG ADD ACQ --> {avg/num_acquisitors}\")\n",
    "    print(f\"MAX ADD ACQ --> {max}\")"
   ]
  },
  {
   "cell_type": "markdown",
   "metadata": {},
   "source": [
    "### Execution of the test with one single acquisitor (acquisition tx also triggers the execution of an analysis)"
   ]
  },
  {
   "cell_type": "code",
   "execution_count": 4,
   "metadata": {},
   "outputs": [
    {
     "name": "stdout",
     "output_type": "stream",
     "text": [
      "Acquisitor Acquisitor-0 has started\n"
     ]
    },
    {
     "name": "stderr",
     "output_type": "stream",
     "text": [
      "Exception in thread Thread-6:\n",
      "Traceback (most recent call last):\n",
      "  File \"c:\\users\\joaquin\\appdata\\local\\programs\\python\\python36-32\\lib\\site-packages\\urllib3\\connection.py\", line 141, in _new_conn\n",
      "    (self.host, self.port), self.timeout, **extra_kw)\n",
      "  File \"c:\\users\\joaquin\\appdata\\local\\programs\\python\\python36-32\\lib\\site-packages\\urllib3\\util\\connection.py\", line 83, in create_connection\n",
      "    raise err\n",
      "  File \"c:\\users\\joaquin\\appdata\\local\\programs\\python\\python36-32\\lib\\site-packages\\urllib3\\util\\connection.py\", line 73, in create_connection\n",
      "    sock.connect(sa)\n",
      "ConnectionRefusedError: [WinError 10061] No se puede establecer una conexión ya que el equipo de destino denegó expresamente dicha conexión\n",
      "\n",
      "During handling of the above exception, another exception occurred:\n",
      "\n",
      "Traceback (most recent call last):\n",
      "  File \"c:\\users\\joaquin\\appdata\\local\\programs\\python\\python36-32\\lib\\site-packages\\urllib3\\connectionpool.py\", line 601, in urlopen\n",
      "    chunked=chunked)\n",
      "  File \"c:\\users\\joaquin\\appdata\\local\\programs\\python\\python36-32\\lib\\site-packages\\urllib3\\connectionpool.py\", line 357, in _make_request\n",
      "    conn.request(method, url, **httplib_request_kw)\n",
      "  File \"c:\\users\\joaquin\\appdata\\local\\programs\\python\\python36-32\\lib\\http\\client.py\", line 1239, in request\n",
      "    self._send_request(method, url, body, headers, encode_chunked)\n",
      "  File \"c:\\users\\joaquin\\appdata\\local\\programs\\python\\python36-32\\lib\\http\\client.py\", line 1285, in _send_request\n",
      "    self.endheaders(body, encode_chunked=encode_chunked)\n",
      "  File \"c:\\users\\joaquin\\appdata\\local\\programs\\python\\python36-32\\lib\\http\\client.py\", line 1234, in endheaders\n",
      "    self._send_output(message_body, encode_chunked=encode_chunked)\n",
      "  File \"c:\\users\\joaquin\\appdata\\local\\programs\\python\\python36-32\\lib\\http\\client.py\", line 1026, in _send_output\n",
      "    self.send(msg)\n",
      "  File \"c:\\users\\joaquin\\appdata\\local\\programs\\python\\python36-32\\lib\\http\\client.py\", line 964, in send\n",
      "    self.connect()\n",
      "  File \"c:\\users\\joaquin\\appdata\\local\\programs\\python\\python36-32\\lib\\site-packages\\urllib3\\connection.py\", line 166, in connect\n",
      "    conn = self._new_conn()\n",
      "  File \"c:\\users\\joaquin\\appdata\\local\\programs\\python\\python36-32\\lib\\site-packages\\urllib3\\connection.py\", line 150, in _new_conn\n",
      "    self, \"Failed to establish a new connection: %s\" % e)\n",
      "urllib3.exceptions.NewConnectionError: <urllib3.connection.HTTPConnection object at 0x0681D890>: Failed to establish a new connection: [WinError 10061] No se puede establecer una conexión ya que el equipo de destino denegó expresamente dicha conexión\n",
      "\n",
      "During handling of the above exception, another exception occurred:\n",
      "\n",
      "Traceback (most recent call last):\n",
      "  File \"c:\\users\\joaquin\\appdata\\local\\programs\\python\\python36-32\\lib\\site-packages\\requests\\adapters.py\", line 449, in send\n",
      "    timeout=timeout\n",
      "  File \"c:\\users\\joaquin\\appdata\\local\\programs\\python\\python36-32\\lib\\site-packages\\urllib3\\connectionpool.py\", line 639, in urlopen\n",
      "    _stacktrace=sys.exc_info()[2])\n",
      "  File \"c:\\users\\joaquin\\appdata\\local\\programs\\python\\python36-32\\lib\\site-packages\\urllib3\\util\\retry.py\", line 388, in increment\n",
      "    raise MaxRetryError(_pool, url, error or ResponseError(cause))\n",
      "urllib3.exceptions.MaxRetryError: HTTPConnectionPool(host='35.195.161.115', port=3000): Max retries exceeded with url: /api/ertis.uma.nuclear.AddAcquisition (Caused by NewConnectionError('<urllib3.connection.HTTPConnection object at 0x0681D890>: Failed to establish a new connection: [WinError 10061] No se puede establecer una conexión ya que el equipo de destino denegó expresamente dicha conexión',))\n",
      "\n",
      "During handling of the above exception, another exception occurred:\n",
      "\n",
      "Traceback (most recent call last):\n",
      "  File \"c:\\users\\joaquin\\appdata\\local\\programs\\python\\python36-32\\lib\\threading.py\", line 916, in _bootstrap_inner\n",
      "    self.run()\n",
      "  File \"C:\\Users\\Joaquin\\Desktop\\Nuclear\\NuclearInspections\\acquisitor.py\", line 28, in run\n",
      "    self.addMultipleAcquisitions()\n",
      "  File \"C:\\Users\\Joaquin\\Desktop\\Nuclear\\NuclearInspections\\acquisitor.py\", line 49, in addMultipleAcquisitions\n",
      "    elapsedtime = self.addAcquisition(i, filename, hash_value)\n",
      "  File \"C:\\Users\\Joaquin\\Desktop\\Nuclear\\NuclearInspections\\acquisitor.py\", line 111, in addAcquisition\n",
      "    r = requests.post(resource_url, data=data)\n",
      "  File \"c:\\users\\joaquin\\appdata\\local\\programs\\python\\python36-32\\lib\\site-packages\\requests\\api.py\", line 116, in post\n",
      "    return request('post', url, data=data, json=json, **kwargs)\n",
      "  File \"c:\\users\\joaquin\\appdata\\local\\programs\\python\\python36-32\\lib\\site-packages\\requests\\api.py\", line 60, in request\n",
      "    return session.request(method=method, url=url, **kwargs)\n",
      "  File \"c:\\users\\joaquin\\appdata\\local\\programs\\python\\python36-32\\lib\\site-packages\\requests\\sessions.py\", line 533, in request\n",
      "    resp = self.send(prep, **send_kwargs)\n",
      "  File \"c:\\users\\joaquin\\appdata\\local\\programs\\python\\python36-32\\lib\\site-packages\\requests\\sessions.py\", line 646, in send\n",
      "    r = adapter.send(request, **kwargs)\n",
      "  File \"c:\\users\\joaquin\\appdata\\local\\programs\\python\\python36-32\\lib\\site-packages\\requests\\adapters.py\", line 516, in send\n",
      "    raise ConnectionError(e, request=request)\n",
      "requests.exceptions.ConnectionError: HTTPConnectionPool(host='35.195.161.115', port=3000): Max retries exceeded with url: /api/ertis.uma.nuclear.AddAcquisition (Caused by NewConnectionError('<urllib3.connection.HTTPConnection object at 0x0681D890>: Failed to establish a new connection: [WinError 10061] No se puede establecer una conexión ya que el equipo de destino denegó expresamente dicha conexión',))\n",
      "\n"
     ]
    },
    {
     "ename": "AttributeError",
     "evalue": "'Acquisitor' object has no attribute 'min'",
     "output_type": "error",
     "traceback": [
      "\u001b[1;31m---------------------------------------------------------------------------\u001b[0m",
      "\u001b[1;31mAttributeError\u001b[0m                            Traceback (most recent call last)",
      "\u001b[1;32m<ipython-input-4-32142c11bbec>\u001b[0m in \u001b[0;36m<module>\u001b[1;34m\u001b[0m\n\u001b[1;32m----> 1\u001b[1;33m \u001b[0maddAcquisitionTest\u001b[0m\u001b[1;33m(\u001b[0m\u001b[1;36m1\u001b[0m\u001b[1;33m,\u001b[0m \u001b[1;36m100\u001b[0m\u001b[1;33m)\u001b[0m \u001b[1;31m#Acquisitors, Acquisitions to do\u001b[0m\u001b[1;33m\u001b[0m\u001b[0m\n\u001b[0m",
      "\u001b[1;32m<ipython-input-3-ab9248952f72>\u001b[0m in \u001b[0;36maddAcquisitionTest\u001b[1;34m(num_acquisitors, num_tubes)\u001b[0m\n\u001b[0;32m     22\u001b[0m \u001b[1;33m\u001b[0m\u001b[0m\n\u001b[0;32m     23\u001b[0m     \u001b[1;31m# Print results\u001b[0m\u001b[1;33m\u001b[0m\u001b[1;33m\u001b[0m\u001b[0m\n\u001b[1;32m---> 24\u001b[1;33m     \u001b[0mmin\u001b[0m \u001b[1;33m=\u001b[0m \u001b[0macquisitor_threads\u001b[0m\u001b[1;33m[\u001b[0m\u001b[1;36m0\u001b[0m\u001b[1;33m]\u001b[0m\u001b[1;33m.\u001b[0m\u001b[0mmin\u001b[0m\u001b[1;33m\u001b[0m\u001b[0m\n\u001b[0m\u001b[0;32m     25\u001b[0m     \u001b[0mavg\u001b[0m \u001b[1;33m=\u001b[0m \u001b[0macquisitor_threads\u001b[0m\u001b[1;33m[\u001b[0m\u001b[1;36m0\u001b[0m\u001b[1;33m]\u001b[0m\u001b[1;33m.\u001b[0m\u001b[0mavg\u001b[0m\u001b[1;33m\u001b[0m\u001b[0m\n\u001b[0;32m     26\u001b[0m     \u001b[0mmax\u001b[0m \u001b[1;33m=\u001b[0m \u001b[0macquisitor_threads\u001b[0m\u001b[1;33m[\u001b[0m\u001b[1;36m0\u001b[0m\u001b[1;33m]\u001b[0m\u001b[1;33m.\u001b[0m\u001b[0mmax\u001b[0m\u001b[1;33m\u001b[0m\u001b[0m\n",
      "\u001b[1;31mAttributeError\u001b[0m: 'Acquisitor' object has no attribute 'min'"
     ]
    }
   ],
   "source": [
    "addAcquisitionTest(1, 100) #Acquisitors, Acquisitions to do"
   ]
  },
  {
   "cell_type": "code",
   "execution_count": null,
   "metadata": {},
   "outputs": [],
   "source": []
  }
 ],
 "metadata": {
  "kernelspec": {
   "display_name": "Python 3",
   "language": "python",
   "name": "python3"
  },
  "language_info": {
   "codemirror_mode": {
    "name": "ipython",
    "version": 3
   },
   "file_extension": ".py",
   "mimetype": "text/x-python",
   "name": "python",
   "nbconvert_exporter": "python",
   "pygments_lexer": "ipython3",
   "version": "3.6.4"
  }
 },
 "nbformat": 4,
 "nbformat_minor": 2
}
