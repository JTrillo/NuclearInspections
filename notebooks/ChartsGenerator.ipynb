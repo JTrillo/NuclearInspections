{
 "cells": [
  {
   "cell_type": "markdown",
   "metadata": {},
   "source": [
    "# Charts generation notebook"
   ]
  },
  {
   "cell_type": "markdown",
   "metadata": {},
   "source": [
    "### Imports"
   ]
  },
  {
   "cell_type": "code",
   "execution_count": 1,
   "metadata": {},
   "outputs": [
    {
     "data": {
      "text/html": [
       "        <script type=\"text/javascript\">\n",
       "        window.PlotlyConfig = {MathJaxConfig: 'local'};\n",
       "        if (window.MathJax) {MathJax.Hub.Config({SVG: {font: \"STIX-Web\"}});}\n",
       "        if (typeof require !== 'undefined') {\n",
       "        require.undef(\"plotly\");\n",
       "        requirejs.config({\n",
       "            paths: {\n",
       "                'plotly': ['https://cdn.plot.ly/plotly-latest.min']\n",
       "            }\n",
       "        });\n",
       "        require(['plotly'], function(Plotly) {\n",
       "            window._Plotly = Plotly;\n",
       "        });\n",
       "        }\n",
       "        </script>\n",
       "        "
      ]
     },
     "metadata": {},
     "output_type": "display_data"
    }
   ],
   "source": [
    "import sys\n",
    "sys.path.insert(1, '..\\code')\n",
    "from charts import *\n",
    "import plotly\n",
    "plotly.offline.init_notebook_mode(connected=True)"
   ]
  },
  {
   "cell_type": "markdown",
   "metadata": {},
   "source": [
    "### Average times when executing tx 'AddAcquisition' (250 KB file size)"
   ]
  },
  {
   "cell_type": "code",
   "execution_count": 2,
   "metadata": {},
   "outputs": [
    {
     "data": {
      "application/vnd.plotly.v1+json": {
       "config": {
        "plotlyServerURL": "https://plot.ly"
       },
       "data": [
        {
         "mode": "lines",
         "name": "3 Orgs net",
         "type": "scatter",
         "uid": "ebb19aa3-3522-41e3-bb24-08af5cf0920c",
         "x": [
          500,
          1000,
          1500
         ],
         "y": [
          1.2557,
          1.2584,
          1.2733
         ]
        },
        {
         "mode": "lines",
         "name": "5 Orgs net",
         "type": "scatter",
         "uid": "dad51e53-79ba-402b-9098-36d25bc103fb",
         "x": [
          500,
          1000,
          1500
         ],
         "y": [
          1.316,
          1.3037,
          1.2938
         ]
        }
       ],
       "layout": {
        "barmode": "group",
        "title": {
         "text": "Executing transaction 'AddAcquisition' with different number of tubes (250 KB)"
        },
        "xaxis": {
         "range": [
          500,
          1500
         ],
         "title": {
          "text": "Number of tubes"
         }
        },
        "yaxis": {
         "range": [
          1,
          4
         ],
         "title": {
          "text": "Average response time (s)"
         }
        }
       }
      },
      "text/html": [
       "<div>\n",
       "        \n",
       "        \n",
       "            <div id=\"2af2f5f6-8bc0-4b44-9a3d-b8cca0dd2b04\" class=\"plotly-graph-div\" style=\"height:525px; width:100%;\"></div>\n",
       "            <script type=\"text/javascript\">\n",
       "                require([\"plotly\"], function(Plotly) {\n",
       "                    window.PLOTLYENV=window.PLOTLYENV || {};\n",
       "                    window.PLOTLYENV.BASE_URL='https://plot.ly';\n",
       "                    \n",
       "                if (document.getElementById(\"2af2f5f6-8bc0-4b44-9a3d-b8cca0dd2b04\")) {\n",
       "                    Plotly.newPlot(\n",
       "                        '2af2f5f6-8bc0-4b44-9a3d-b8cca0dd2b04',\n",
       "                        [{\"mode\": \"lines\", \"name\": \"3 Orgs net\", \"type\": \"scatter\", \"uid\": \"ebb19aa3-3522-41e3-bb24-08af5cf0920c\", \"x\": [500, 1000, 1500], \"y\": [1.2557, 1.2584, 1.2733]}, {\"mode\": \"lines\", \"name\": \"5 Orgs net\", \"type\": \"scatter\", \"uid\": \"dad51e53-79ba-402b-9098-36d25bc103fb\", \"x\": [500, 1000, 1500], \"y\": [1.316, 1.3037, 1.2938]}],\n",
       "                        {\"barmode\": \"group\", \"title\": {\"text\": \"Executing transaction 'AddAcquisition' with different number of tubes (250 KB)\"}, \"xaxis\": {\"range\": [500, 1500], \"title\": {\"text\": \"Number of tubes\"}}, \"yaxis\": {\"range\": [1.0, 4.0], \"title\": {\"text\": \"Average response time (s)\"}}},\n",
       "                        {\"plotlyServerURL\": \"https://plot.ly\", \"responsive\": true}\n",
       "                    ).then(function(){\n",
       "                            \n",
       "var gd = document.getElementById('2af2f5f6-8bc0-4b44-9a3d-b8cca0dd2b04');\n",
       "var x = new MutationObserver(function (mutations, observer) {{\n",
       "        var display = window.getComputedStyle(gd).display;\n",
       "        if (!display || display === 'none') {{\n",
       "            console.log([gd, 'removed!']);\n",
       "            Plotly.purge(gd);\n",
       "            observer.disconnect();\n",
       "        }}\n",
       "}});\n",
       "\n",
       "// Listen for the removal of the full notebook cells\n",
       "var notebookContainer = gd.closest('#notebook-container');\n",
       "if (notebookContainer) {{\n",
       "    x.observe(notebookContainer, {childList: true});\n",
       "}}\n",
       "\n",
       "// Listen for the clearing of the current output cell\n",
       "var outputEl = gd.closest('.output');\n",
       "if (outputEl) {{\n",
       "    x.observe(outputEl, {childList: true});\n",
       "}}\n",
       "\n",
       "                        })\n",
       "                };\n",
       "                });\n",
       "            </script>\n",
       "        </div>"
      ]
     },
     "metadata": {},
     "output_type": "display_data"
    }
   ],
   "source": [
    "# 3 Orgs net data\n",
    "threeOrgs = [1.2557, 1.2584, 1.2733]\n",
    "# 5 Orgs net data\n",
    "fiveOrgs = [1.3160, 1.3037, 1.2938]\n",
    "\n",
    "#avgAcquisition(\"250 KB\", threeOrgs)\n",
    "avgAcquisition(\"250 KB\", threeOrgs, fiveOrgs)"
   ]
  },
  {
   "cell_type": "markdown",
   "metadata": {},
   "source": [
    "### Elapsed time adding one acquisition per tube, with different number of tubes (250 KB file size)"
   ]
  },
  {
   "cell_type": "code",
   "execution_count": 3,
   "metadata": {},
   "outputs": [
    {
     "data": {
      "application/vnd.plotly.v1+json": {
       "config": {
        "plotlyServerURL": "https://plot.ly"
       },
       "data": [
        {
         "mode": "lines",
         "name": "3 Orgs net",
         "type": "scatter",
         "uid": "02df221a-1f40-4170-9512-7bc350e790d6",
         "x": [
          500,
          1000,
          1500
         ],
         "y": [
          862.7493,
          1738.8425,
          2625.2902
         ]
        },
        {
         "mode": "lines",
         "name": "5 Orgs net",
         "type": "scatter",
         "uid": "0a06f580-046f-4c7b-b758-932d7655bc0b",
         "x": [
          500,
          1000,
          1500
         ],
         "y": [
          1054.9542,
          1919.9872,
          2711.5517
         ]
        }
       ],
       "layout": {
        "barmode": "group",
        "title": {
         "text": "Elapsed time adding one acquisition per tube, with different number of tubes (250 KB)"
        },
        "xaxis": {
         "range": [
          500,
          1500
         ],
         "title": {
          "text": "Number of tubes"
         }
        },
        "yaxis": {
         "title": {
          "text": "Total elapsed time (s)"
         }
        }
       }
      },
      "text/html": [
       "<div>\n",
       "        \n",
       "        \n",
       "            <div id=\"3f07fe43-c7e7-41ce-9a1c-54a1fc15110b\" class=\"plotly-graph-div\" style=\"height:525px; width:100%;\"></div>\n",
       "            <script type=\"text/javascript\">\n",
       "                require([\"plotly\"], function(Plotly) {\n",
       "                    window.PLOTLYENV=window.PLOTLYENV || {};\n",
       "                    window.PLOTLYENV.BASE_URL='https://plot.ly';\n",
       "                    \n",
       "                if (document.getElementById(\"3f07fe43-c7e7-41ce-9a1c-54a1fc15110b\")) {\n",
       "                    Plotly.newPlot(\n",
       "                        '3f07fe43-c7e7-41ce-9a1c-54a1fc15110b',\n",
       "                        [{\"mode\": \"lines\", \"name\": \"3 Orgs net\", \"type\": \"scatter\", \"uid\": \"02df221a-1f40-4170-9512-7bc350e790d6\", \"x\": [500, 1000, 1500], \"y\": [862.7493, 1738.8425, 2625.2902]}, {\"mode\": \"lines\", \"name\": \"5 Orgs net\", \"type\": \"scatter\", \"uid\": \"0a06f580-046f-4c7b-b758-932d7655bc0b\", \"x\": [500, 1000, 1500], \"y\": [1054.9542, 1919.9872, 2711.5517]}],\n",
       "                        {\"barmode\": \"group\", \"title\": {\"text\": \"Elapsed time adding one acquisition per tube, with different number of tubes (250 KB)\"}, \"xaxis\": {\"range\": [500, 1500], \"title\": {\"text\": \"Number of tubes\"}}, \"yaxis\": {\"title\": {\"text\": \"Total elapsed time (s)\"}}},\n",
       "                        {\"plotlyServerURL\": \"https://plot.ly\", \"responsive\": true}\n",
       "                    ).then(function(){\n",
       "                            \n",
       "var gd = document.getElementById('3f07fe43-c7e7-41ce-9a1c-54a1fc15110b');\n",
       "var x = new MutationObserver(function (mutations, observer) {{\n",
       "        var display = window.getComputedStyle(gd).display;\n",
       "        if (!display || display === 'none') {{\n",
       "            console.log([gd, 'removed!']);\n",
       "            Plotly.purge(gd);\n",
       "            observer.disconnect();\n",
       "        }}\n",
       "}});\n",
       "\n",
       "// Listen for the removal of the full notebook cells\n",
       "var notebookContainer = gd.closest('#notebook-container');\n",
       "if (notebookContainer) {{\n",
       "    x.observe(notebookContainer, {childList: true});\n",
       "}}\n",
       "\n",
       "// Listen for the clearing of the current output cell\n",
       "var outputEl = gd.closest('.output');\n",
       "if (outputEl) {{\n",
       "    x.observe(outputEl, {childList: true});\n",
       "}}\n",
       "\n",
       "                        })\n",
       "                };\n",
       "                });\n",
       "            </script>\n",
       "        </div>"
      ]
     },
     "metadata": {},
     "output_type": "display_data"
    }
   ],
   "source": [
    "# 3 Orgs net data\n",
    "threeOrgs = [862.7493, 1738.8425, 2625.2902]\n",
    "# 5 Orgs net data\n",
    "fiveOrgs = [1054.9542, 1919.9872, 2711.5517]\n",
    "\n",
    "#totalAcquisition(\"250 KB\", threeOrgs)\n",
    "totalAcquisition(\"250 KB\", threeOrgs, fiveOrgs)"
   ]
  },
  {
   "cell_type": "markdown",
   "metadata": {},
   "source": [
    "### Average times when executing tx 'AddAutomaticAnalysis' (250 KB file size)"
   ]
  },
  {
   "cell_type": "code",
   "execution_count": 4,
   "metadata": {},
   "outputs": [
    {
     "data": {
      "application/vnd.plotly.v1+json": {
       "config": {
        "plotlyServerURL": "https://plot.ly"
       },
       "data": [
        {
         "mode": "lines",
         "name": "3 Orgs net",
         "type": "scatter",
         "uid": "09e7b3b5-2f87-49f3-a84c-475593d389f5",
         "x": [
          500,
          1000,
          1500
         ],
         "y": [
          14.5715,
          14.1668,
          14.8436
         ]
        },
        {
         "mode": "lines",
         "name": "5 Orgs net",
         "type": "scatter",
         "uid": "8206ffe5-4bfc-4b6c-9bc4-36cc1b0d3773",
         "x": [
          500,
          1000,
          1500
         ],
         "y": [
          15.2297,
          16.172,
          16.3144
         ]
        }
       ],
       "layout": {
        "barmode": "group",
        "title": {
         "text": "Executing transaction 'AddAutomaticAnalysis' with different number of tubes (250 KB)"
        },
        "xaxis": {
         "range": [
          500,
          1500
         ],
         "title": {
          "text": "Number of tubes"
         }
        },
        "yaxis": {
         "range": [
          10,
          17
         ],
         "title": {
          "text": "Average response time (s)"
         }
        }
       }
      },
      "text/html": [
       "<div>\n",
       "        \n",
       "        \n",
       "            <div id=\"c4846db8-692a-4bc8-82c1-973158d67e85\" class=\"plotly-graph-div\" style=\"height:525px; width:100%;\"></div>\n",
       "            <script type=\"text/javascript\">\n",
       "                require([\"plotly\"], function(Plotly) {\n",
       "                    window.PLOTLYENV=window.PLOTLYENV || {};\n",
       "                    window.PLOTLYENV.BASE_URL='https://plot.ly';\n",
       "                    \n",
       "                if (document.getElementById(\"c4846db8-692a-4bc8-82c1-973158d67e85\")) {\n",
       "                    Plotly.newPlot(\n",
       "                        'c4846db8-692a-4bc8-82c1-973158d67e85',\n",
       "                        [{\"mode\": \"lines\", \"name\": \"3 Orgs net\", \"type\": \"scatter\", \"uid\": \"09e7b3b5-2f87-49f3-a84c-475593d389f5\", \"x\": [500, 1000, 1500], \"y\": [14.5715, 14.1668, 14.8436]}, {\"mode\": \"lines\", \"name\": \"5 Orgs net\", \"type\": \"scatter\", \"uid\": \"8206ffe5-4bfc-4b6c-9bc4-36cc1b0d3773\", \"x\": [500, 1000, 1500], \"y\": [15.2297, 16.172, 16.3144]}],\n",
       "                        {\"barmode\": \"group\", \"title\": {\"text\": \"Executing transaction 'AddAutomaticAnalysis' with different number of tubes (250 KB)\"}, \"xaxis\": {\"range\": [500, 1500], \"title\": {\"text\": \"Number of tubes\"}}, \"yaxis\": {\"range\": [10.0, 17.0], \"title\": {\"text\": \"Average response time (s)\"}}},\n",
       "                        {\"plotlyServerURL\": \"https://plot.ly\", \"responsive\": true}\n",
       "                    ).then(function(){\n",
       "                            \n",
       "var gd = document.getElementById('c4846db8-692a-4bc8-82c1-973158d67e85');\n",
       "var x = new MutationObserver(function (mutations, observer) {{\n",
       "        var display = window.getComputedStyle(gd).display;\n",
       "        if (!display || display === 'none') {{\n",
       "            console.log([gd, 'removed!']);\n",
       "            Plotly.purge(gd);\n",
       "            observer.disconnect();\n",
       "        }}\n",
       "}});\n",
       "\n",
       "// Listen for the removal of the full notebook cells\n",
       "var notebookContainer = gd.closest('#notebook-container');\n",
       "if (notebookContainer) {{\n",
       "    x.observe(notebookContainer, {childList: true});\n",
       "}}\n",
       "\n",
       "// Listen for the clearing of the current output cell\n",
       "var outputEl = gd.closest('.output');\n",
       "if (outputEl) {{\n",
       "    x.observe(outputEl, {childList: true});\n",
       "}}\n",
       "\n",
       "                        })\n",
       "                };\n",
       "                });\n",
       "            </script>\n",
       "        </div>"
      ]
     },
     "metadata": {},
     "output_type": "display_data"
    }
   ],
   "source": [
    "# 3 Orgs net data\n",
    "threeOrgs = [14.5715, 14.1668, 14.8436]\n",
    "# 5 Orgs net data\n",
    "fiveOrgs = [15.2297, 16.1720, 16.3144]\n",
    "\n",
    "#avgAutoAnalysis(\"250 KB\", threeOrgs)\n",
    "avgAutoAnalysis(\"250 KB\", threeOrgs, fiveOrgs)"
   ]
  },
  {
   "cell_type": "markdown",
   "metadata": {},
   "source": [
    "### Elapsed time adding one automatic analysis per acquisition (250 KB file size)"
   ]
  },
  {
   "cell_type": "code",
   "execution_count": 5,
   "metadata": {},
   "outputs": [
    {
     "data": {
      "application/vnd.plotly.v1+json": {
       "config": {
        "plotlyServerURL": "https://plot.ly"
       },
       "data": [
        {
         "mode": "lines",
         "name": "3 Orgs net",
         "type": "scatter",
         "uid": "1a079d45-7377-428c-ab4b-e5072dbab232",
         "x": [
          500,
          1000,
          1500
         ],
         "y": [
          7463.6009,
          14518.7505,
          22794.0377
         ]
        },
        {
         "mode": "lines",
         "name": "5 Orgs net",
         "type": "scatter",
         "uid": "b63c6c73-de16-4865-b331-a08415992bed",
         "x": [
          500,
          1000,
          1500
         ],
         "y": [
          7797.885,
          16492.8621,
          24951.5748
         ]
        }
       ],
       "layout": {
        "barmode": "group",
        "title": {
         "text": "Elapsed tiem adding one automatic analysis per acquisition, with different number of tubes (250 KB)"
        },
        "xaxis": {
         "range": [
          500,
          1500
         ],
         "title": {
          "text": "Number of tubes"
         }
        },
        "yaxis": {
         "title": {
          "text": "Total elapsed time (s)"
         }
        }
       }
      },
      "text/html": [
       "<div>\n",
       "        \n",
       "        \n",
       "            <div id=\"05cfbe95-5bae-46e1-88e8-00b787d5cc85\" class=\"plotly-graph-div\" style=\"height:525px; width:100%;\"></div>\n",
       "            <script type=\"text/javascript\">\n",
       "                require([\"plotly\"], function(Plotly) {\n",
       "                    window.PLOTLYENV=window.PLOTLYENV || {};\n",
       "                    window.PLOTLYENV.BASE_URL='https://plot.ly';\n",
       "                    \n",
       "                if (document.getElementById(\"05cfbe95-5bae-46e1-88e8-00b787d5cc85\")) {\n",
       "                    Plotly.newPlot(\n",
       "                        '05cfbe95-5bae-46e1-88e8-00b787d5cc85',\n",
       "                        [{\"mode\": \"lines\", \"name\": \"3 Orgs net\", \"type\": \"scatter\", \"uid\": \"1a079d45-7377-428c-ab4b-e5072dbab232\", \"x\": [500, 1000, 1500], \"y\": [7463.6009, 14518.7505, 22794.0377]}, {\"mode\": \"lines\", \"name\": \"5 Orgs net\", \"type\": \"scatter\", \"uid\": \"b63c6c73-de16-4865-b331-a08415992bed\", \"x\": [500, 1000, 1500], \"y\": [7797.885, 16492.8621, 24951.5748]}],\n",
       "                        {\"barmode\": \"group\", \"title\": {\"text\": \"Elapsed tiem adding one automatic analysis per acquisition, with different number of tubes (250 KB)\"}, \"xaxis\": {\"range\": [500, 1500], \"title\": {\"text\": \"Number of tubes\"}}, \"yaxis\": {\"title\": {\"text\": \"Total elapsed time (s)\"}}},\n",
       "                        {\"plotlyServerURL\": \"https://plot.ly\", \"responsive\": true}\n",
       "                    ).then(function(){\n",
       "                            \n",
       "var gd = document.getElementById('05cfbe95-5bae-46e1-88e8-00b787d5cc85');\n",
       "var x = new MutationObserver(function (mutations, observer) {{\n",
       "        var display = window.getComputedStyle(gd).display;\n",
       "        if (!display || display === 'none') {{\n",
       "            console.log([gd, 'removed!']);\n",
       "            Plotly.purge(gd);\n",
       "            observer.disconnect();\n",
       "        }}\n",
       "}});\n",
       "\n",
       "// Listen for the removal of the full notebook cells\n",
       "var notebookContainer = gd.closest('#notebook-container');\n",
       "if (notebookContainer) {{\n",
       "    x.observe(notebookContainer, {childList: true});\n",
       "}}\n",
       "\n",
       "// Listen for the clearing of the current output cell\n",
       "var outputEl = gd.closest('.output');\n",
       "if (outputEl) {{\n",
       "    x.observe(outputEl, {childList: true});\n",
       "}}\n",
       "\n",
       "                        })\n",
       "                };\n",
       "                });\n",
       "            </script>\n",
       "        </div>"
      ]
     },
     "metadata": {},
     "output_type": "display_data"
    }
   ],
   "source": [
    "# 3 Orgs net data\n",
    "threeOrgs = [7463.6009, 14518.7505, 22794.0377]\n",
    "# 5 Orgs net data\n",
    "fiveOrgs = [7797.8850, 16492.8621, 24951.5748]\n",
    "\n",
    "#totalAutoAnalysis(\"250 KB\", threeOrgs)\n",
    "totalAutoAnalysis(\"250 KB\", threeOrgs, fiveOrgs)"
   ]
  },
  {
   "cell_type": "markdown",
   "metadata": {},
   "source": [
    "### Average times when executing tx 'AddAnalysis' (250 KB file size) by analysts"
   ]
  },
  {
   "cell_type": "code",
   "execution_count": 6,
   "metadata": {},
   "outputs": [
    {
     "data": {
      "application/vnd.plotly.v1+json": {
       "config": {
        "plotlyServerURL": "https://plot.ly"
       },
       "data": [
        {
         "mode": "lines",
         "name": "3 Orgs net (10 analysts per role)",
         "type": "scatter",
         "uid": "d322947b-ac2f-4dca-81c9-c147b748ec52",
         "x": [
          500,
          1000,
          1500
         ],
         "y": [
          1.4509,
          1.2117,
          1.2511
         ]
        },
        {
         "mode": "lines",
         "name": "3 Orgs net (20 analysts per role)",
         "type": "scatter",
         "uid": "6de8c748-89bb-4091-877a-e51d217ffa88",
         "x": [
          500,
          1000,
          1500
         ],
         "y": [
          1.6969,
          1.3378,
          1.2801
         ]
        },
        {
         "mode": "lines",
         "name": "5 Orgs net (10 analysts per role)",
         "type": "scatter",
         "uid": "cc105d0d-b2e0-422c-b71e-589ceb1d2e0e",
         "x": [
          500,
          1000,
          1500
         ],
         "y": [
          1.5105,
          1.3361,
          1.3891
         ]
        },
        {
         "mode": "lines",
         "name": "5 Orgs net (20 analysts per role)",
         "type": "scatter",
         "uid": "3d6fe656-89f8-48f3-9ced-e2767c204e99",
         "x": [
          500,
          1000,
          1500
         ],
         "y": [
          1.7422,
          1.5659,
          1.3711
         ]
        }
       ],
       "layout": {
        "barmode": "group",
        "title": {
         "text": "Executing transaction 'AddAnalysis' with different number of tubes and different number of analysts (250 KB)"
        },
        "xaxis": {
         "range": [
          500,
          1500
         ],
         "title": {
          "text": "Number of tubes"
         }
        },
        "yaxis": {
         "range": [
          1,
          4
         ],
         "title": {
          "text": "Average response time (s)"
         }
        }
       }
      },
      "text/html": [
       "<div>\n",
       "        \n",
       "        \n",
       "            <div id=\"ededee01-5f0a-46a2-a0f4-dcf7317b8ab0\" class=\"plotly-graph-div\" style=\"height:525px; width:100%;\"></div>\n",
       "            <script type=\"text/javascript\">\n",
       "                require([\"plotly\"], function(Plotly) {\n",
       "                    window.PLOTLYENV=window.PLOTLYENV || {};\n",
       "                    window.PLOTLYENV.BASE_URL='https://plot.ly';\n",
       "                    \n",
       "                if (document.getElementById(\"ededee01-5f0a-46a2-a0f4-dcf7317b8ab0\")) {\n",
       "                    Plotly.newPlot(\n",
       "                        'ededee01-5f0a-46a2-a0f4-dcf7317b8ab0',\n",
       "                        [{\"mode\": \"lines\", \"name\": \"3 Orgs net (10 analysts per role)\", \"type\": \"scatter\", \"uid\": \"d322947b-ac2f-4dca-81c9-c147b748ec52\", \"x\": [500, 1000, 1500], \"y\": [1.4509, 1.2117, 1.2511]}, {\"mode\": \"lines\", \"name\": \"3 Orgs net (20 analysts per role)\", \"type\": \"scatter\", \"uid\": \"6de8c748-89bb-4091-877a-e51d217ffa88\", \"x\": [500, 1000, 1500], \"y\": [1.6969, 1.3378, 1.2801]}, {\"mode\": \"lines\", \"name\": \"5 Orgs net (10 analysts per role)\", \"type\": \"scatter\", \"uid\": \"cc105d0d-b2e0-422c-b71e-589ceb1d2e0e\", \"x\": [500, 1000, 1500], \"y\": [1.5105, 1.3361, 1.3891]}, {\"mode\": \"lines\", \"name\": \"5 Orgs net (20 analysts per role)\", \"type\": \"scatter\", \"uid\": \"3d6fe656-89f8-48f3-9ced-e2767c204e99\", \"x\": [500, 1000, 1500], \"y\": [1.7422, 1.5659, 1.3711]}],\n",
       "                        {\"barmode\": \"group\", \"title\": {\"text\": \"Executing transaction 'AddAnalysis' with different number of tubes and different number of analysts (250 KB)\"}, \"xaxis\": {\"range\": [500, 1500], \"title\": {\"text\": \"Number of tubes\"}}, \"yaxis\": {\"range\": [1.0, 4.0], \"title\": {\"text\": \"Average response time (s)\"}}},\n",
       "                        {\"plotlyServerURL\": \"https://plot.ly\", \"responsive\": true}\n",
       "                    ).then(function(){\n",
       "                            \n",
       "var gd = document.getElementById('ededee01-5f0a-46a2-a0f4-dcf7317b8ab0');\n",
       "var x = new MutationObserver(function (mutations, observer) {{\n",
       "        var display = window.getComputedStyle(gd).display;\n",
       "        if (!display || display === 'none') {{\n",
       "            console.log([gd, 'removed!']);\n",
       "            Plotly.purge(gd);\n",
       "            observer.disconnect();\n",
       "        }}\n",
       "}});\n",
       "\n",
       "// Listen for the removal of the full notebook cells\n",
       "var notebookContainer = gd.closest('#notebook-container');\n",
       "if (notebookContainer) {{\n",
       "    x.observe(notebookContainer, {childList: true});\n",
       "}}\n",
       "\n",
       "// Listen for the clearing of the current output cell\n",
       "var outputEl = gd.closest('.output');\n",
       "if (outputEl) {{\n",
       "    x.observe(outputEl, {childList: true});\n",
       "}}\n",
       "\n",
       "                        })\n",
       "                };\n",
       "                });\n",
       "            </script>\n",
       "        </div>"
      ]
     },
     "metadata": {},
     "output_type": "display_data"
    }
   ],
   "source": [
    "# 3 Orgs net data\n",
    "threeOrgs10 = [1.4509, 1.2117, 1.2511]\n",
    "threeOrgs20 = [1.6969, 1.3378, 1.2801]\n",
    "# 5 Orgs net data\n",
    "fiveOrgs10 = [1.5105, 1.3361, 1.3891]\n",
    "fiveOrgs20 = [1.7422, 1.5659, 1.3711]\n",
    "\n",
    "#avgAnalysis(\"250 KB\", threeOrgs10, threeOrgs20)\n",
    "avgAnalysis(\"250 KB\", threeOrgs10, threeOrgs20, fiveOrgs10, fiveOrgs20)"
   ]
  },
  {
   "cell_type": "markdown",
   "metadata": {},
   "source": [
    "### Elapsed time adding two analyses per acquisition with different number of analysts (250 KB file size)"
   ]
  },
  {
   "cell_type": "code",
   "execution_count": 7,
   "metadata": {},
   "outputs": [
    {
     "data": {
      "application/vnd.plotly.v1+json": {
       "config": {
        "plotlyServerURL": "https://plot.ly"
       },
       "data": [
        {
         "mode": "lines",
         "name": "3 Orgs net (10 analysts per role)",
         "type": "scatter",
         "uid": "378f2692-a5b0-4f5e-a532-5f8a7832f844",
         "x": [
          500,
          1000,
          1500
         ],
         "y": [
          1148.1137,
          2248.1675,
          3363.0079
         ]
        },
        {
         "mode": "lines",
         "name": "3 Orgs net (20 analysts per role)",
         "type": "scatter",
         "uid": "94373e93-533e-4fb9-a487-0d3c6479d3e4",
         "x": [
          500,
          1000,
          1500
         ],
         "y": [
          598.9733,
          1144.5899,
          1702.0179
         ]
        },
        {
         "mode": "lines",
         "name": "5 Orgs net (10 analysts per role)",
         "type": "scatter",
         "uid": "d017f129-67d0-4c76-8cb2-9a18094c0dc6",
         "x": [
          500,
          1000,
          1500
         ],
         "y": [
          1146.1426,
          2280.5195,
          3421.8409
         ]
        },
        {
         "mode": "lines",
         "name": "5 Orgs net (20 analysts per role)",
         "type": "scatter",
         "uid": "9fa69158-fa9e-4734-aa26-505cc5161aeb",
         "x": [
          500,
          1000,
          1500
         ],
         "y": [
          612.9806,
          1179.4412,
          1721.3345
         ]
        }
       ],
       "layout": {
        "barmode": "group",
        "title": {
         "text": "Elapsed time adding one analysis per acquisition by primary and secondary analysts, with different number of tubes and different number of analysts (250 KB)"
        },
        "xaxis": {
         "range": [
          500,
          1500
         ],
         "title": {
          "text": "Number of tubes"
         }
        },
        "yaxis": {
         "title": {
          "text": "Average response time (s)"
         }
        }
       }
      },
      "text/html": [
       "<div>\n",
       "        \n",
       "        \n",
       "            <div id=\"71e289f9-ee37-4c2d-b21e-88e1a77d3df5\" class=\"plotly-graph-div\" style=\"height:525px; width:100%;\"></div>\n",
       "            <script type=\"text/javascript\">\n",
       "                require([\"plotly\"], function(Plotly) {\n",
       "                    window.PLOTLYENV=window.PLOTLYENV || {};\n",
       "                    window.PLOTLYENV.BASE_URL='https://plot.ly';\n",
       "                    \n",
       "                if (document.getElementById(\"71e289f9-ee37-4c2d-b21e-88e1a77d3df5\")) {\n",
       "                    Plotly.newPlot(\n",
       "                        '71e289f9-ee37-4c2d-b21e-88e1a77d3df5',\n",
       "                        [{\"mode\": \"lines\", \"name\": \"3 Orgs net (10 analysts per role)\", \"type\": \"scatter\", \"uid\": \"378f2692-a5b0-4f5e-a532-5f8a7832f844\", \"x\": [500, 1000, 1500], \"y\": [1148.1137, 2248.1675, 3363.0079]}, {\"mode\": \"lines\", \"name\": \"3 Orgs net (20 analysts per role)\", \"type\": \"scatter\", \"uid\": \"94373e93-533e-4fb9-a487-0d3c6479d3e4\", \"x\": [500, 1000, 1500], \"y\": [598.9733, 1144.5899, 1702.0179]}, {\"mode\": \"lines\", \"name\": \"5 Orgs net (10 analysts per role)\", \"type\": \"scatter\", \"uid\": \"d017f129-67d0-4c76-8cb2-9a18094c0dc6\", \"x\": [500, 1000, 1500], \"y\": [1146.1426, 2280.5195, 3421.8409]}, {\"mode\": \"lines\", \"name\": \"5 Orgs net (20 analysts per role)\", \"type\": \"scatter\", \"uid\": \"9fa69158-fa9e-4734-aa26-505cc5161aeb\", \"x\": [500, 1000, 1500], \"y\": [612.9806, 1179.4412, 1721.3345]}],\n",
       "                        {\"barmode\": \"group\", \"title\": {\"text\": \"Elapsed time adding one analysis per acquisition by primary and secondary analysts, with different number of tubes and different number of analysts (250 KB)\"}, \"xaxis\": {\"range\": [500, 1500], \"title\": {\"text\": \"Number of tubes\"}}, \"yaxis\": {\"title\": {\"text\": \"Average response time (s)\"}}},\n",
       "                        {\"plotlyServerURL\": \"https://plot.ly\", \"responsive\": true}\n",
       "                    ).then(function(){\n",
       "                            \n",
       "var gd = document.getElementById('71e289f9-ee37-4c2d-b21e-88e1a77d3df5');\n",
       "var x = new MutationObserver(function (mutations, observer) {{\n",
       "        var display = window.getComputedStyle(gd).display;\n",
       "        if (!display || display === 'none') {{\n",
       "            console.log([gd, 'removed!']);\n",
       "            Plotly.purge(gd);\n",
       "            observer.disconnect();\n",
       "        }}\n",
       "}});\n",
       "\n",
       "// Listen for the removal of the full notebook cells\n",
       "var notebookContainer = gd.closest('#notebook-container');\n",
       "if (notebookContainer) {{\n",
       "    x.observe(notebookContainer, {childList: true});\n",
       "}}\n",
       "\n",
       "// Listen for the clearing of the current output cell\n",
       "var outputEl = gd.closest('.output');\n",
       "if (outputEl) {{\n",
       "    x.observe(outputEl, {childList: true});\n",
       "}}\n",
       "\n",
       "                        })\n",
       "                };\n",
       "                });\n",
       "            </script>\n",
       "        </div>"
      ]
     },
     "metadata": {},
     "output_type": "display_data"
    }
   ],
   "source": [
    "# 3 Orgs net data\n",
    "threeOrgs10 = [1148.1137, 2248.1675, 3363.0079]\n",
    "threeOrgs20 = [598.9733, 1144.5899, 1702.0179]\n",
    "# 5 Orgs net data\n",
    "fiveOrgs10 = [1146.1426, 2280.5195, 3421.8409]\n",
    "fiveOrgs20 = [612.9806, 1179.4412, 1721.3345]\n",
    "\n",
    "#totalAnalysis(\"250 KB\", threeOrgs10, threeOrgs20)\n",
    "totalAnalysis(\"250 KB\", threeOrgs10, threeOrgs20, fiveOrgs10, fiveOrgs20)"
   ]
  },
  {
   "cell_type": "markdown",
   "metadata": {},
   "source": [
    "### Average times when executing tx 'AddAnalysis' (250 KB file size) by advanced analysts"
   ]
  },
  {
   "cell_type": "code",
   "execution_count": 8,
   "metadata": {},
   "outputs": [
    {
     "data": {
      "application/vnd.plotly.v1+json": {
       "config": {
        "plotlyServerURL": "https://plot.ly"
       },
       "data": [
        {
         "mode": "lines",
         "name": "3 Orgs net (10 advanced analysts)",
         "type": "scatter",
         "uid": "bbb4994c-dcd8-47f6-8cf6-4d6d723a4eba",
         "x": [
          500,
          1000,
          1500
         ],
         "y": [
          1.2625,
          1.25,
          1.3666
         ]
        },
        {
         "mode": "lines",
         "name": "3 Orgs net (20 advanced analysts)",
         "type": "scatter",
         "uid": "2272a563-f378-49aa-98a2-76a3cebedf90",
         "x": [
          500,
          1000,
          1500
         ],
         "y": [
          1.4535,
          1.2945,
          1.2611
         ]
        }
       ],
       "layout": {
        "barmode": "group",
        "title": {
         "text": "Executing transaction 'AddAnalysis' with different number of tubes and different number of advanced analysts (250 KB)"
        },
        "xaxis": {
         "range": [
          500,
          1500
         ],
         "title": {
          "text": "Number of tubes"
         }
        },
        "yaxis": {
         "range": [
          1,
          4
         ],
         "title": {
          "text": "Average response time (s)"
         }
        }
       }
      },
      "text/html": [
       "<div>\n",
       "        \n",
       "        \n",
       "            <div id=\"04b222cb-77c6-4db1-9153-dec000d7fe80\" class=\"plotly-graph-div\" style=\"height:525px; width:100%;\"></div>\n",
       "            <script type=\"text/javascript\">\n",
       "                require([\"plotly\"], function(Plotly) {\n",
       "                    window.PLOTLYENV=window.PLOTLYENV || {};\n",
       "                    window.PLOTLYENV.BASE_URL='https://plot.ly';\n",
       "                    \n",
       "                if (document.getElementById(\"04b222cb-77c6-4db1-9153-dec000d7fe80\")) {\n",
       "                    Plotly.newPlot(\n",
       "                        '04b222cb-77c6-4db1-9153-dec000d7fe80',\n",
       "                        [{\"mode\": \"lines\", \"name\": \"3 Orgs net (10 advanced analysts)\", \"type\": \"scatter\", \"uid\": \"bbb4994c-dcd8-47f6-8cf6-4d6d723a4eba\", \"x\": [500, 1000, 1500], \"y\": [1.2625, 1.25, 1.3666]}, {\"mode\": \"lines\", \"name\": \"3 Orgs net (20 advanced analysts)\", \"type\": \"scatter\", \"uid\": \"2272a563-f378-49aa-98a2-76a3cebedf90\", \"x\": [500, 1000, 1500], \"y\": [1.4535, 1.2945, 1.2611]}],\n",
       "                        {\"barmode\": \"group\", \"title\": {\"text\": \"Executing transaction 'AddAnalysis' with different number of tubes and different number of advanced analysts (250 KB)\"}, \"xaxis\": {\"range\": [500, 1500], \"title\": {\"text\": \"Number of tubes\"}}, \"yaxis\": {\"range\": [1.0, 4.0], \"title\": {\"text\": \"Average response time (s)\"}}},\n",
       "                        {\"plotlyServerURL\": \"https://plot.ly\", \"responsive\": true}\n",
       "                    ).then(function(){\n",
       "                            \n",
       "var gd = document.getElementById('04b222cb-77c6-4db1-9153-dec000d7fe80');\n",
       "var x = new MutationObserver(function (mutations, observer) {{\n",
       "        var display = window.getComputedStyle(gd).display;\n",
       "        if (!display || display === 'none') {{\n",
       "            console.log([gd, 'removed!']);\n",
       "            Plotly.purge(gd);\n",
       "            observer.disconnect();\n",
       "        }}\n",
       "}});\n",
       "\n",
       "// Listen for the removal of the full notebook cells\n",
       "var notebookContainer = gd.closest('#notebook-container');\n",
       "if (notebookContainer) {{\n",
       "    x.observe(notebookContainer, {childList: true});\n",
       "}}\n",
       "\n",
       "// Listen for the clearing of the current output cell\n",
       "var outputEl = gd.closest('.output');\n",
       "if (outputEl) {{\n",
       "    x.observe(outputEl, {childList: true});\n",
       "}}\n",
       "\n",
       "                        })\n",
       "                };\n",
       "                });\n",
       "            </script>\n",
       "        </div>"
      ]
     },
     "metadata": {},
     "output_type": "display_data"
    }
   ],
   "source": [
    "# 3 Orgs net data\n",
    "threeOrgs10 = [1.2625, 1.2500, 1.3666]\n",
    "threeOrgs20 = [1.4535, 1.2945, 1.2611]\n",
    "# 5 Orgs net data\n",
    "#fiveOrgs10 = [1.3117, 1.3353, -]\n",
    "#fiveOrgs20 = [1.6839, 1.4699, -]\n",
    "\n",
    "avgResolution(\"250 KB\", threeOrgs10, threeOrgs20)\n",
    "#avgResolution(\"250 KB\", threeOrgs10, threeOrgs20, fiveOrgs10, fiveOrgs20)"
   ]
  },
  {
   "cell_type": "markdown",
   "metadata": {},
   "source": [
    "### Elapsed time adding one resolution per acquisition with different number of advanced analysts (250 KB file size)"
   ]
  },
  {
   "cell_type": "code",
   "execution_count": 9,
   "metadata": {},
   "outputs": [
    {
     "data": {
      "application/vnd.plotly.v1+json": {
       "config": {
        "plotlyServerURL": "https://plot.ly"
       },
       "data": [
        {
         "mode": "lines",
         "name": "3 Orgs net (10 advanced analysts)",
         "type": "scatter",
         "uid": "466ba65c-c386-4b9b-8556-612ccb2d3116",
         "x": [
          500,
          1000,
          1500
         ],
         "y": [
          1127.5345,
          2230.7146,
          3378.8443
         ]
        },
        {
         "mode": "lines",
         "name": "3 Orgs net (20 advanced analysts)",
         "type": "scatter",
         "uid": "0eedbf5a-f3f2-4997-8166-77611730a47e",
         "x": [
          500,
          1000,
          1500
         ],
         "y": [
          582.8463,
          1126.3205,
          1696.8571
         ]
        }
       ],
       "layout": {
        "barmode": "group",
        "title": {
         "text": "Elapsed time adding one analysis per acquisition by advanced analysts, with different number of tubes and different number of analysts (250 KB)"
        },
        "xaxis": {
         "range": [
          500,
          1500
         ],
         "title": {
          "text": "Number of tubes"
         }
        },
        "yaxis": {
         "title": {
          "text": "Average response time (s)"
         }
        }
       }
      },
      "text/html": [
       "<div>\n",
       "        \n",
       "        \n",
       "            <div id=\"a37d7da5-2352-4d78-a5ef-6da589a4fd63\" class=\"plotly-graph-div\" style=\"height:525px; width:100%;\"></div>\n",
       "            <script type=\"text/javascript\">\n",
       "                require([\"plotly\"], function(Plotly) {\n",
       "                    window.PLOTLYENV=window.PLOTLYENV || {};\n",
       "                    window.PLOTLYENV.BASE_URL='https://plot.ly';\n",
       "                    \n",
       "                if (document.getElementById(\"a37d7da5-2352-4d78-a5ef-6da589a4fd63\")) {\n",
       "                    Plotly.newPlot(\n",
       "                        'a37d7da5-2352-4d78-a5ef-6da589a4fd63',\n",
       "                        [{\"mode\": \"lines\", \"name\": \"3 Orgs net (10 advanced analysts)\", \"type\": \"scatter\", \"uid\": \"466ba65c-c386-4b9b-8556-612ccb2d3116\", \"x\": [500, 1000, 1500], \"y\": [1127.5345, 2230.7146, 3378.8443]}, {\"mode\": \"lines\", \"name\": \"3 Orgs net (20 advanced analysts)\", \"type\": \"scatter\", \"uid\": \"0eedbf5a-f3f2-4997-8166-77611730a47e\", \"x\": [500, 1000, 1500], \"y\": [582.8463, 1126.3205, 1696.8571]}],\n",
       "                        {\"barmode\": \"group\", \"title\": {\"text\": \"Elapsed time adding one analysis per acquisition by advanced analysts, with different number of tubes and different number of analysts (250 KB)\"}, \"xaxis\": {\"range\": [500, 1500], \"title\": {\"text\": \"Number of tubes\"}}, \"yaxis\": {\"title\": {\"text\": \"Average response time (s)\"}}},\n",
       "                        {\"plotlyServerURL\": \"https://plot.ly\", \"responsive\": true}\n",
       "                    ).then(function(){\n",
       "                            \n",
       "var gd = document.getElementById('a37d7da5-2352-4d78-a5ef-6da589a4fd63');\n",
       "var x = new MutationObserver(function (mutations, observer) {{\n",
       "        var display = window.getComputedStyle(gd).display;\n",
       "        if (!display || display === 'none') {{\n",
       "            console.log([gd, 'removed!']);\n",
       "            Plotly.purge(gd);\n",
       "            observer.disconnect();\n",
       "        }}\n",
       "}});\n",
       "\n",
       "// Listen for the removal of the full notebook cells\n",
       "var notebookContainer = gd.closest('#notebook-container');\n",
       "if (notebookContainer) {{\n",
       "    x.observe(notebookContainer, {childList: true});\n",
       "}}\n",
       "\n",
       "// Listen for the clearing of the current output cell\n",
       "var outputEl = gd.closest('.output');\n",
       "if (outputEl) {{\n",
       "    x.observe(outputEl, {childList: true});\n",
       "}}\n",
       "\n",
       "                        })\n",
       "                };\n",
       "                });\n",
       "            </script>\n",
       "        </div>"
      ]
     },
     "metadata": {},
     "output_type": "display_data"
    }
   ],
   "source": [
    "# 3 Orgs net data\n",
    "threeOrgs10 = [1127.5345, 2230.7146, 3378.8443]\n",
    "threeOrgs20 = [582.8463, 1126.3205, 1696.8571]\n",
    "# 5 Orgs net data\n",
    "#fiveOrgs10 = [1133.3466, 2254.7335, -]\n",
    "#fiveOrgs20 = [589.8071, 1160.5390, -]\n",
    "\n",
    "totalResolution(\"250 KB\", threeOrgs10, threeOrgs20)\n",
    "#totalResolution(\"250 KB\", threeOrgs10, threeOrgs20, fiveOrgs10, fiveOrgs20)"
   ]
  }
 ],
 "metadata": {
  "kernelspec": {
   "display_name": "Python 3",
   "language": "python",
   "name": "python3"
  },
  "language_info": {
   "codemirror_mode": {
    "name": "ipython",
    "version": 3
   },
   "file_extension": ".py",
   "mimetype": "text/x-python",
   "name": "python",
   "nbconvert_exporter": "python",
   "pygments_lexer": "ipython3",
   "version": "3.6.4"
  }
 },
 "nbformat": 4,
 "nbformat_minor": 2
}
