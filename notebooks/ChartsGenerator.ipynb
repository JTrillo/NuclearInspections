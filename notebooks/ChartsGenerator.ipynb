{
 "cells": [
  {
   "cell_type": "markdown",
   "metadata": {},
   "source": [
    "# Charts generation notebook"
   ]
  },
  {
   "cell_type": "markdown",
   "metadata": {},
   "source": [
    "### Imports"
   ]
  },
  {
   "cell_type": "code",
   "execution_count": 1,
   "metadata": {},
   "outputs": [
    {
     "data": {
      "text/html": [
       "        <script type=\"text/javascript\">\n",
       "        window.PlotlyConfig = {MathJaxConfig: 'local'};\n",
       "        if (window.MathJax) {MathJax.Hub.Config({SVG: {font: \"STIX-Web\"}});}\n",
       "        if (typeof require !== 'undefined') {\n",
       "        require.undef(\"plotly\");\n",
       "        requirejs.config({\n",
       "            paths: {\n",
       "                'plotly': ['https://cdn.plot.ly/plotly-latest.min']\n",
       "            }\n",
       "        });\n",
       "        require(['plotly'], function(Plotly) {\n",
       "            window._Plotly = Plotly;\n",
       "        });\n",
       "        }\n",
       "        </script>\n",
       "        "
      ]
     },
     "metadata": {},
     "output_type": "display_data"
    }
   ],
   "source": [
    "import sys\n",
    "sys.path.insert(1, '..\\code')\n",
    "from charts import *\n",
    "import plotly\n",
    "plotly.offline.init_notebook_mode(connected=True)"
   ]
  },
  {
   "cell_type": "markdown",
   "metadata": {},
   "source": [
    "### Average times when executing tx 'AddAcquisition' (250 KB file size)"
   ]
  },
  {
   "cell_type": "code",
   "execution_count": 2,
   "metadata": {},
   "outputs": [
    {
     "data": {
      "application/vnd.plotly.v1+json": {
       "config": {
        "plotlyServerURL": "https://plot.ly"
       },
       "data": [
        {
         "mode": "lines",
         "name": "3 Orgs net",
         "type": "scatter",
         "uid": "56915421-e7bb-4db0-a10f-c7652d56b599",
         "x": [
          500,
          1000,
          1500
         ],
         "y": [
          1.2557,
          1.2584,
          1.2733
         ]
        }
       ],
       "layout": {
        "barmode": "group",
        "title": {
         "text": "Executing transaction 'AddAcquisition' with different number of tubes (250 KB)"
        },
        "xaxis": {
         "range": [
          500,
          1500
         ],
         "title": {
          "text": "Number of tubes"
         }
        },
        "yaxis": {
         "range": [
          1,
          2
         ],
         "title": {
          "text": "Average response time (s)"
         }
        }
       }
      },
      "text/html": [
       "<div>\n",
       "        \n",
       "        \n",
       "            <div id=\"e1b88072-a164-429a-ae80-99d1c0a02ca6\" class=\"plotly-graph-div\" style=\"height:525px; width:100%;\"></div>\n",
       "            <script type=\"text/javascript\">\n",
       "                require([\"plotly\"], function(Plotly) {\n",
       "                    window.PLOTLYENV=window.PLOTLYENV || {};\n",
       "                    window.PLOTLYENV.BASE_URL='https://plot.ly';\n",
       "                    \n",
       "                if (document.getElementById(\"e1b88072-a164-429a-ae80-99d1c0a02ca6\")) {\n",
       "                    Plotly.newPlot(\n",
       "                        'e1b88072-a164-429a-ae80-99d1c0a02ca6',\n",
       "                        [{\"mode\": \"lines\", \"name\": \"3 Orgs net\", \"type\": \"scatter\", \"uid\": \"56915421-e7bb-4db0-a10f-c7652d56b599\", \"x\": [500, 1000, 1500], \"y\": [1.2557, 1.2584, 1.2733]}],\n",
       "                        {\"barmode\": \"group\", \"title\": {\"text\": \"Executing transaction 'AddAcquisition' with different number of tubes (250 KB)\"}, \"xaxis\": {\"range\": [500, 1500], \"title\": {\"text\": \"Number of tubes\"}}, \"yaxis\": {\"range\": [1.0, 2.0], \"title\": {\"text\": \"Average response time (s)\"}}},\n",
       "                        {\"plotlyServerURL\": \"https://plot.ly\", \"responsive\": true}\n",
       "                    ).then(function(){\n",
       "                            \n",
       "var gd = document.getElementById('e1b88072-a164-429a-ae80-99d1c0a02ca6');\n",
       "var x = new MutationObserver(function (mutations, observer) {{\n",
       "        var display = window.getComputedStyle(gd).display;\n",
       "        if (!display || display === 'none') {{\n",
       "            console.log([gd, 'removed!']);\n",
       "            Plotly.purge(gd);\n",
       "            observer.disconnect();\n",
       "        }}\n",
       "}});\n",
       "\n",
       "// Listen for the removal of the full notebook cells\n",
       "var notebookContainer = gd.closest('#notebook-container');\n",
       "if (notebookContainer) {{\n",
       "    x.observe(notebookContainer, {childList: true});\n",
       "}}\n",
       "\n",
       "// Listen for the clearing of the current output cell\n",
       "var outputEl = gd.closest('.output');\n",
       "if (outputEl) {{\n",
       "    x.observe(outputEl, {childList: true});\n",
       "}}\n",
       "\n",
       "                        })\n",
       "                };\n",
       "                });\n",
       "            </script>\n",
       "        </div>"
      ]
     },
     "metadata": {},
     "output_type": "display_data"
    }
   ],
   "source": [
    "# 3 Orgs net data\n",
    "threeOrgs = [1.2557, 1.2584, 1.2733]\n",
    "# 5 Orgs net data\n",
    "#fiveOrgs = [2.2852, 2.1202, 1.8744]\n",
    "\n",
    "avgAcquisition(\"250 KB\", threeOrgs)\n",
    "#avgAcquisition(\"250 KB\", threeOrgs, fiveOrgs)"
   ]
  },
  {
   "cell_type": "markdown",
   "metadata": {},
   "source": [
    "### Average times when executing tx 'AddAutomaticAnalysis' (250 KB file size)"
   ]
  },
  {
   "cell_type": "code",
   "execution_count": 3,
   "metadata": {},
   "outputs": [
    {
     "data": {
      "application/vnd.plotly.v1+json": {
       "config": {
        "plotlyServerURL": "https://plot.ly"
       },
       "data": [
        {
         "mode": "lines",
         "name": "3 Orgs net",
         "type": "scatter",
         "uid": "631033e0-1343-4a6a-929f-b9cb04bcaddb",
         "x": [
          500,
          1000,
          1500
         ],
         "y": [
          14.5715,
          14.1668,
          14.8436
         ]
        }
       ],
       "layout": {
        "barmode": "group",
        "title": {
         "text": "Executing transaction 'AddAutomaticAnalysis' with different number of tubes (250 KB)"
        },
        "xaxis": {
         "range": [
          500,
          1500
         ],
         "title": {
          "text": "Number of tubes"
         }
        },
        "yaxis": {
         "range": [
          13,
          16
         ],
         "title": {
          "text": "Average response time (s)"
         }
        }
       }
      },
      "text/html": [
       "<div>\n",
       "        \n",
       "        \n",
       "            <div id=\"a280f313-bf15-446c-a97e-bb4510c07fd3\" class=\"plotly-graph-div\" style=\"height:525px; width:100%;\"></div>\n",
       "            <script type=\"text/javascript\">\n",
       "                require([\"plotly\"], function(Plotly) {\n",
       "                    window.PLOTLYENV=window.PLOTLYENV || {};\n",
       "                    window.PLOTLYENV.BASE_URL='https://plot.ly';\n",
       "                    \n",
       "                if (document.getElementById(\"a280f313-bf15-446c-a97e-bb4510c07fd3\")) {\n",
       "                    Plotly.newPlot(\n",
       "                        'a280f313-bf15-446c-a97e-bb4510c07fd3',\n",
       "                        [{\"mode\": \"lines\", \"name\": \"3 Orgs net\", \"type\": \"scatter\", \"uid\": \"631033e0-1343-4a6a-929f-b9cb04bcaddb\", \"x\": [500, 1000, 1500], \"y\": [14.5715, 14.1668, 14.8436]}],\n",
       "                        {\"barmode\": \"group\", \"title\": {\"text\": \"Executing transaction 'AddAutomaticAnalysis' with different number of tubes (250 KB)\"}, \"xaxis\": {\"range\": [500, 1500], \"title\": {\"text\": \"Number of tubes\"}}, \"yaxis\": {\"range\": [13.0, 16.0], \"title\": {\"text\": \"Average response time (s)\"}}},\n",
       "                        {\"plotlyServerURL\": \"https://plot.ly\", \"responsive\": true}\n",
       "                    ).then(function(){\n",
       "                            \n",
       "var gd = document.getElementById('a280f313-bf15-446c-a97e-bb4510c07fd3');\n",
       "var x = new MutationObserver(function (mutations, observer) {{\n",
       "        var display = window.getComputedStyle(gd).display;\n",
       "        if (!display || display === 'none') {{\n",
       "            console.log([gd, 'removed!']);\n",
       "            Plotly.purge(gd);\n",
       "            observer.disconnect();\n",
       "        }}\n",
       "}});\n",
       "\n",
       "// Listen for the removal of the full notebook cells\n",
       "var notebookContainer = gd.closest('#notebook-container');\n",
       "if (notebookContainer) {{\n",
       "    x.observe(notebookContainer, {childList: true});\n",
       "}}\n",
       "\n",
       "// Listen for the clearing of the current output cell\n",
       "var outputEl = gd.closest('.output');\n",
       "if (outputEl) {{\n",
       "    x.observe(outputEl, {childList: true});\n",
       "}}\n",
       "\n",
       "                        })\n",
       "                };\n",
       "                });\n",
       "            </script>\n",
       "        </div>"
      ]
     },
     "metadata": {},
     "output_type": "display_data"
    }
   ],
   "source": [
    "# 3 Orgs net data\n",
    "threeOrgs = [14.5715, 14.1668, 14.8436]\n",
    "# 5 Orgs net data\n",
    "#fiveOrgs = [2.2852, 2.1202, 1.8744]\n",
    "\n",
    "avgAutoAnalysis(\"250 KB\", threeOrgs)\n",
    "#avgAutoAnalysis(\"250 KB\", threeOrgs, fiveOrgs)"
   ]
  },
  {
   "cell_type": "markdown",
   "metadata": {},
   "source": [
    "### Average times when executing tx 'AddAnalysis' (250 KB file size) by analysts"
   ]
  },
  {
   "cell_type": "code",
   "execution_count": 4,
   "metadata": {},
   "outputs": [
    {
     "data": {
      "application/vnd.plotly.v1+json": {
       "config": {
        "plotlyServerURL": "https://plot.ly"
       },
       "data": [
        {
         "mode": "lines",
         "name": "3 Orgs net (10 analysts per role)",
         "type": "scatter",
         "uid": "25a9ae87-1287-4cf9-a15b-08146848eb36",
         "x": [
          500,
          1000,
          1500
         ],
         "y": [
          1.4509,
          1.3605,
          1.3605
         ]
        },
        {
         "mode": "lines",
         "name": "3 Orgs net (20 analysts per role)",
         "type": "scatter",
         "uid": "b98dc935-fdc8-49f5-b5fb-1deb6ce63d95",
         "x": [
          500,
          1000,
          1500
         ],
         "y": [
          1.6969,
          1.661,
          1.661
         ]
        }
       ],
       "layout": {
        "barmode": "group",
        "title": {
         "text": "Executing transaction 'AddAnalysis' with different number of tubes and different number of analysts"
        },
        "xaxis": {
         "range": [
          500,
          1500
         ],
         "title": {
          "text": "Number of tubes"
         }
        },
        "yaxis": {
         "range": [
          1,
          2
         ],
         "title": {
          "text": "Average response time (s)"
         }
        }
       }
      },
      "text/html": [
       "<div>\n",
       "        \n",
       "        \n",
       "            <div id=\"8ed152ce-21cc-4bf9-be8f-4c1ec4867b87\" class=\"plotly-graph-div\" style=\"height:525px; width:100%;\"></div>\n",
       "            <script type=\"text/javascript\">\n",
       "                require([\"plotly\"], function(Plotly) {\n",
       "                    window.PLOTLYENV=window.PLOTLYENV || {};\n",
       "                    window.PLOTLYENV.BASE_URL='https://plot.ly';\n",
       "                    \n",
       "                if (document.getElementById(\"8ed152ce-21cc-4bf9-be8f-4c1ec4867b87\")) {\n",
       "                    Plotly.newPlot(\n",
       "                        '8ed152ce-21cc-4bf9-be8f-4c1ec4867b87',\n",
       "                        [{\"mode\": \"lines\", \"name\": \"3 Orgs net (10 analysts per role)\", \"type\": \"scatter\", \"uid\": \"25a9ae87-1287-4cf9-a15b-08146848eb36\", \"x\": [500, 1000, 1500], \"y\": [1.4509, 1.3605, 1.3605]}, {\"mode\": \"lines\", \"name\": \"3 Orgs net (20 analysts per role)\", \"type\": \"scatter\", \"uid\": \"b98dc935-fdc8-49f5-b5fb-1deb6ce63d95\", \"x\": [500, 1000, 1500], \"y\": [1.6969, 1.661, 1.661]}],\n",
       "                        {\"barmode\": \"group\", \"title\": {\"text\": \"Executing transaction 'AddAnalysis' with different number of tubes and different number of analysts\"}, \"xaxis\": {\"range\": [500, 1500], \"title\": {\"text\": \"Number of tubes\"}}, \"yaxis\": {\"range\": [1.0, 2.0], \"title\": {\"text\": \"Average response time (s)\"}}},\n",
       "                        {\"plotlyServerURL\": \"https://plot.ly\", \"responsive\": true}\n",
       "                    ).then(function(){\n",
       "                            \n",
       "var gd = document.getElementById('8ed152ce-21cc-4bf9-be8f-4c1ec4867b87');\n",
       "var x = new MutationObserver(function (mutations, observer) {{\n",
       "        var display = window.getComputedStyle(gd).display;\n",
       "        if (!display || display === 'none') {{\n",
       "            console.log([gd, 'removed!']);\n",
       "            Plotly.purge(gd);\n",
       "            observer.disconnect();\n",
       "        }}\n",
       "}});\n",
       "\n",
       "// Listen for the removal of the full notebook cells\n",
       "var notebookContainer = gd.closest('#notebook-container');\n",
       "if (notebookContainer) {{\n",
       "    x.observe(notebookContainer, {childList: true});\n",
       "}}\n",
       "\n",
       "// Listen for the clearing of the current output cell\n",
       "var outputEl = gd.closest('.output');\n",
       "if (outputEl) {{\n",
       "    x.observe(outputEl, {childList: true});\n",
       "}}\n",
       "\n",
       "                        })\n",
       "                };\n",
       "                });\n",
       "            </script>\n",
       "        </div>"
      ]
     },
     "metadata": {},
     "output_type": "display_data"
    }
   ],
   "source": [
    "# 3 Orgs net data\n",
    "threeOrgs10 = [1.4509, 1.3605, 1.3605] #el último valor aún es dummy\n",
    "threeOrgs20 = [1.6969, 1.6610, 1.6610] #el último valor aún es dummy\n",
    "# 5 Orgs net data\n",
    "#fiveOrgs10 = [2.2852, 2.1202, 1.8744]\n",
    "#fiveOrgs20 = [2.2852, 2.1202, 1.8744]\n",
    "\n",
    "avgAnalysis(\"250 KB\", threeOrgs10, threeOrgs20)\n",
    "#avgAnalysis(\"250 KB\", threeOrgs10, threeOrgs20, fiveOrgs10, fiveOrgs20)"
   ]
  },
  {
   "cell_type": "markdown",
   "metadata": {},
   "source": [
    "### Average times when executing tx 'AddAnalysis' (250 KB file size) by advanced analysts"
   ]
  },
  {
   "cell_type": "code",
   "execution_count": 5,
   "metadata": {},
   "outputs": [
    {
     "data": {
      "application/vnd.plotly.v1+json": {
       "config": {
        "plotlyServerURL": "https://plot.ly"
       },
       "data": [
        {
         "mode": "lines",
         "name": "3 Orgs net (10 advanced analysts)",
         "type": "scatter",
         "uid": "e20bacd0-d6a3-4f7f-a887-11bf7d0fdb04",
         "x": [
          500,
          1000,
          1500
         ],
         "y": [
          1.2625,
          1.2734,
          1.2734
         ]
        },
        {
         "mode": "lines",
         "name": "3 Orgs net (20 advanced analysts)",
         "type": "scatter",
         "uid": "fd0dc49d-af09-44f6-b498-10eea3339126",
         "x": [
          500,
          1000,
          1500
         ],
         "y": [
          1.4535,
          1.5661,
          1.5661
         ]
        }
       ],
       "layout": {
        "barmode": "group",
        "title": {
         "text": "Executing transaction 'AddAnalysis' with different number of tubes and different number of advanced analysts"
        },
        "xaxis": {
         "range": [
          500,
          1500
         ],
         "title": {
          "text": "Number of tubes"
         }
        },
        "yaxis": {
         "range": [
          1,
          2
         ],
         "title": {
          "text": "Average response time (s)"
         }
        }
       }
      },
      "text/html": [
       "<div>\n",
       "        \n",
       "        \n",
       "            <div id=\"e5aeea25-1561-41d8-941b-b786b2aa0c1d\" class=\"plotly-graph-div\" style=\"height:525px; width:100%;\"></div>\n",
       "            <script type=\"text/javascript\">\n",
       "                require([\"plotly\"], function(Plotly) {\n",
       "                    window.PLOTLYENV=window.PLOTLYENV || {};\n",
       "                    window.PLOTLYENV.BASE_URL='https://plot.ly';\n",
       "                    \n",
       "                if (document.getElementById(\"e5aeea25-1561-41d8-941b-b786b2aa0c1d\")) {\n",
       "                    Plotly.newPlot(\n",
       "                        'e5aeea25-1561-41d8-941b-b786b2aa0c1d',\n",
       "                        [{\"mode\": \"lines\", \"name\": \"3 Orgs net (10 advanced analysts)\", \"type\": \"scatter\", \"uid\": \"e20bacd0-d6a3-4f7f-a887-11bf7d0fdb04\", \"x\": [500, 1000, 1500], \"y\": [1.2625, 1.2734, 1.2734]}, {\"mode\": \"lines\", \"name\": \"3 Orgs net (20 advanced analysts)\", \"type\": \"scatter\", \"uid\": \"fd0dc49d-af09-44f6-b498-10eea3339126\", \"x\": [500, 1000, 1500], \"y\": [1.4535, 1.5661, 1.5661]}],\n",
       "                        {\"barmode\": \"group\", \"title\": {\"text\": \"Executing transaction 'AddAnalysis' with different number of tubes and different number of advanced analysts\"}, \"xaxis\": {\"range\": [500, 1500], \"title\": {\"text\": \"Number of tubes\"}}, \"yaxis\": {\"range\": [1.0, 2.0], \"title\": {\"text\": \"Average response time (s)\"}}},\n",
       "                        {\"plotlyServerURL\": \"https://plot.ly\", \"responsive\": true}\n",
       "                    ).then(function(){\n",
       "                            \n",
       "var gd = document.getElementById('e5aeea25-1561-41d8-941b-b786b2aa0c1d');\n",
       "var x = new MutationObserver(function (mutations, observer) {{\n",
       "        var display = window.getComputedStyle(gd).display;\n",
       "        if (!display || display === 'none') {{\n",
       "            console.log([gd, 'removed!']);\n",
       "            Plotly.purge(gd);\n",
       "            observer.disconnect();\n",
       "        }}\n",
       "}});\n",
       "\n",
       "// Listen for the removal of the full notebook cells\n",
       "var notebookContainer = gd.closest('#notebook-container');\n",
       "if (notebookContainer) {{\n",
       "    x.observe(notebookContainer, {childList: true});\n",
       "}}\n",
       "\n",
       "// Listen for the clearing of the current output cell\n",
       "var outputEl = gd.closest('.output');\n",
       "if (outputEl) {{\n",
       "    x.observe(outputEl, {childList: true});\n",
       "}}\n",
       "\n",
       "                        })\n",
       "                };\n",
       "                });\n",
       "            </script>\n",
       "        </div>"
      ]
     },
     "metadata": {},
     "output_type": "display_data"
    }
   ],
   "source": [
    "# 3 Orgs net data\n",
    "threeOrgs10 = [1.2625, 1.2734, 1.2734] #el último valor aún es dummy\n",
    "threeOrgs20 = [1.4535, 1.5661, 1.5661] #el último valor aún es dummy\n",
    "# 5 Orgs net data\n",
    "#fiveOrgs10 = [2.2852, 2.1202, 1.8744]\n",
    "#fiveOrgs20 = [2.2852, 2.1202, 1.8744]\n",
    "\n",
    "avgResolution(\"250 KB\", threeOrgs10, threeOrgs20)\n",
    "#avgResolution(\"250 KB\", threeOrgs10, threeOrgs20, fiveOrgs10, fiveOrgs20)"
   ]
  },
  {
   "cell_type": "markdown",
   "metadata": {},
   "source": [
    "### Average times when executing tx 'AddAnalysis' (ANTIGUO)"
   ]
  },
  {
   "cell_type": "code",
   "execution_count": 2,
   "metadata": {},
   "outputs": [
    {
     "data": {
      "application/vnd.plotly.v1+json": {
       "config": {
        "plotlyServerURL": "https://plot.ly"
       },
       "data": [
        {
         "mode": "lines",
         "name": "3 Orgs net",
         "type": "scatter",
         "uid": "1bfb0de8-dcb9-4888-be73-318a116d183f",
         "x": [
          1,
          2,
          5,
          10,
          25,
          50
         ],
         "y": [
          2.2678,
          2.111,
          1.7615,
          1.6341,
          1.6353,
          2.1609
         ]
        },
        {
         "mode": "lines",
         "name": "5 Orgs net",
         "type": "scatter",
         "uid": "8f248491-b03f-4342-9605-5106fa320882",
         "x": [
          1,
          2,
          5,
          10,
          25,
          50
         ],
         "y": [
          2.2852,
          2.1202,
          1.8744,
          1.6636,
          1.7236,
          2.9366
         ]
        }
       ],
       "layout": {
        "barmode": "group",
        "title": {
         "text": "Executing transaction 'AddAnalysis' with different number of analysts"
        },
        "xaxis": {
         "title": {
          "text": "Number of analysts working at same time"
         }
        },
        "yaxis": {
         "title": {
          "text": "Average response time (s)"
         }
        }
       }
      },
      "text/html": [
       "<div>\n",
       "        \n",
       "        \n",
       "            <div id=\"8711c531-7f63-48d6-98cc-3a237f3072b3\" class=\"plotly-graph-div\" style=\"height:525px; width:100%;\"></div>\n",
       "            <script type=\"text/javascript\">\n",
       "                require([\"plotly\"], function(Plotly) {\n",
       "                    window.PLOTLYENV=window.PLOTLYENV || {};\n",
       "                    window.PLOTLYENV.BASE_URL='https://plot.ly';\n",
       "                    \n",
       "                if (document.getElementById(\"8711c531-7f63-48d6-98cc-3a237f3072b3\")) {\n",
       "                    Plotly.newPlot(\n",
       "                        '8711c531-7f63-48d6-98cc-3a237f3072b3',\n",
       "                        [{\"mode\": \"lines\", \"name\": \"3 Orgs net\", \"type\": \"scatter\", \"uid\": \"1bfb0de8-dcb9-4888-be73-318a116d183f\", \"x\": [1, 2, 5, 10, 25, 50], \"y\": [2.2678, 2.111, 1.7615, 1.6341, 1.6353, 2.1609]}, {\"mode\": \"lines\", \"name\": \"5 Orgs net\", \"type\": \"scatter\", \"uid\": \"8f248491-b03f-4342-9605-5106fa320882\", \"x\": [1, 2, 5, 10, 25, 50], \"y\": [2.2852, 2.1202, 1.8744, 1.6636, 1.7236, 2.9366]}],\n",
       "                        {\"barmode\": \"group\", \"title\": {\"text\": \"Executing transaction 'AddAnalysis' with different number of analysts\"}, \"xaxis\": {\"title\": {\"text\": \"Number of analysts working at same time\"}}, \"yaxis\": {\"title\": {\"text\": \"Average response time (s)\"}}},\n",
       "                        {\"plotlyServerURL\": \"https://plot.ly\", \"responsive\": true}\n",
       "                    ).then(function(){\n",
       "                            \n",
       "var gd = document.getElementById('8711c531-7f63-48d6-98cc-3a237f3072b3');\n",
       "var x = new MutationObserver(function (mutations, observer) {{\n",
       "        var display = window.getComputedStyle(gd).display;\n",
       "        if (!display || display === 'none') {{\n",
       "            console.log([gd, 'removed!']);\n",
       "            Plotly.purge(gd);\n",
       "            observer.disconnect();\n",
       "        }}\n",
       "}});\n",
       "\n",
       "// Listen for the removal of the full notebook cells\n",
       "var notebookContainer = gd.closest('#notebook-container');\n",
       "if (notebookContainer) {{\n",
       "    x.observe(notebookContainer, {childList: true});\n",
       "}}\n",
       "\n",
       "// Listen for the clearing of the current output cell\n",
       "var outputEl = gd.closest('.output');\n",
       "if (outputEl) {{\n",
       "    x.observe(outputEl, {childList: true});\n",
       "}}\n",
       "\n",
       "                        })\n",
       "                };\n",
       "                });\n",
       "            </script>\n",
       "        </div>"
      ]
     },
     "metadata": {},
     "output_type": "display_data"
    }
   ],
   "source": [
    "# 3 Orgs net data\n",
    "threeOrgs = [2.2678, 2.111, 1.7615, 1.6341, 1.6353, 2.1609]\n",
    "# 5 Orgs net data\n",
    "fiveOrgs = [2.2852, 2.1202, 1.8744, 1.6636, 1.7236, 2.9366]\n",
    "\n",
    "avgAnalysis(threeOrgs, fiveOrgs)"
   ]
  },
  {
   "cell_type": "markdown",
   "metadata": {},
   "source": [
    "### Average times when retrieving acquisition data (ANTIGUO)"
   ]
  },
  {
   "cell_type": "code",
   "execution_count": 3,
   "metadata": {},
   "outputs": [
    {
     "data": {
      "application/vnd.plotly.v1+json": {
       "config": {
        "plotlyServerURL": "https://plot.ly"
       },
       "data": [
        {
         "mode": "lines",
         "name": "3 Orgs net",
         "type": "scatter",
         "uid": "45d6bd0d-e28c-43e7-9498-cd0750ee5bd5",
         "x": [
          1,
          2,
          5,
          10,
          25,
          50
         ],
         "y": [
          0.1405,
          0.1698,
          0.2312,
          0.3057,
          0.9404,
          1.8678
         ]
        },
        {
         "mode": "lines",
         "name": "5 Orgs net",
         "type": "scatter",
         "uid": "ba3cabab-0ede-4b8b-90e6-25d05e26c629",
         "x": [
          1,
          2,
          5,
          10,
          25,
          50
         ],
         "y": [
          0.1497,
          0.1729,
          0.2464,
          0.3989,
          1.0756,
          3.16
         ]
        }
       ],
       "layout": {
        "barmode": "group",
        "title": {
         "text": "Retrieving acquisition data with different number of analysts"
        },
        "xaxis": {
         "title": {
          "text": "Number of analysts working at same time"
         }
        },
        "yaxis": {
         "title": {
          "text": "Average response time (s)"
         }
        }
       }
      },
      "text/html": [
       "<div>\n",
       "        \n",
       "        \n",
       "            <div id=\"cf998142-ce78-46a4-a2d0-de269e5bd251\" class=\"plotly-graph-div\" style=\"height:525px; width:100%;\"></div>\n",
       "            <script type=\"text/javascript\">\n",
       "                require([\"plotly\"], function(Plotly) {\n",
       "                    window.PLOTLYENV=window.PLOTLYENV || {};\n",
       "                    window.PLOTLYENV.BASE_URL='https://plot.ly';\n",
       "                    \n",
       "                if (document.getElementById(\"cf998142-ce78-46a4-a2d0-de269e5bd251\")) {\n",
       "                    Plotly.newPlot(\n",
       "                        'cf998142-ce78-46a4-a2d0-de269e5bd251',\n",
       "                        [{\"mode\": \"lines\", \"name\": \"3 Orgs net\", \"type\": \"scatter\", \"uid\": \"45d6bd0d-e28c-43e7-9498-cd0750ee5bd5\", \"x\": [1, 2, 5, 10, 25, 50], \"y\": [0.1405, 0.1698, 0.2312, 0.3057, 0.9404, 1.8678]}, {\"mode\": \"lines\", \"name\": \"5 Orgs net\", \"type\": \"scatter\", \"uid\": \"ba3cabab-0ede-4b8b-90e6-25d05e26c629\", \"x\": [1, 2, 5, 10, 25, 50], \"y\": [0.1497, 0.1729, 0.2464, 0.3989, 1.0756, 3.16]}],\n",
       "                        {\"barmode\": \"group\", \"title\": {\"text\": \"Retrieving acquisition data with different number of analysts\"}, \"xaxis\": {\"title\": {\"text\": \"Number of analysts working at same time\"}}, \"yaxis\": {\"title\": {\"text\": \"Average response time (s)\"}}},\n",
       "                        {\"plotlyServerURL\": \"https://plot.ly\", \"responsive\": true}\n",
       "                    ).then(function(){\n",
       "                            \n",
       "var gd = document.getElementById('cf998142-ce78-46a4-a2d0-de269e5bd251');\n",
       "var x = new MutationObserver(function (mutations, observer) {{\n",
       "        var display = window.getComputedStyle(gd).display;\n",
       "        if (!display || display === 'none') {{\n",
       "            console.log([gd, 'removed!']);\n",
       "            Plotly.purge(gd);\n",
       "            observer.disconnect();\n",
       "        }}\n",
       "}});\n",
       "\n",
       "// Listen for the removal of the full notebook cells\n",
       "var notebookContainer = gd.closest('#notebook-container');\n",
       "if (notebookContainer) {{\n",
       "    x.observe(notebookContainer, {childList: true});\n",
       "}}\n",
       "\n",
       "// Listen for the clearing of the current output cell\n",
       "var outputEl = gd.closest('.output');\n",
       "if (outputEl) {{\n",
       "    x.observe(outputEl, {childList: true});\n",
       "}}\n",
       "\n",
       "                        })\n",
       "                };\n",
       "                });\n",
       "            </script>\n",
       "        </div>"
      ]
     },
     "metadata": {},
     "output_type": "display_data"
    }
   ],
   "source": [
    "# 3 Orgs net data\n",
    "threeOrgs = [0.1405, 0.1698, 0.2312, 0.3057, 0.9404, 1.8678]\n",
    "# 5 Orgs net data\n",
    "fiveOrgs = [0.1497, 0.1729, 0.2464, 0.3989, 1.0756, 3.16]\n",
    "\n",
    "avgGetAcquisitions(threeOrgs, fiveOrgs)"
   ]
  },
  {
   "cell_type": "markdown",
   "metadata": {},
   "source": [
    "### Average times when retrieving analysis data (ANTIGUO)"
   ]
  },
  {
   "cell_type": "code",
   "execution_count": 4,
   "metadata": {},
   "outputs": [
    {
     "data": {
      "application/vnd.plotly.v1+json": {
       "config": {
        "plotlyServerURL": "https://plot.ly"
       },
       "data": [
        {
         "mode": "lines",
         "name": "3 Orgs net",
         "type": "scatter",
         "uid": "1f8a8a87-7ad7-4653-9dd3-a10ed5ccd54c",
         "x": [
          1,
          2,
          5,
          10,
          25,
          50
         ],
         "y": [
          0.1879,
          0.1903,
          0.2257,
          0.2603,
          0.4653,
          1.3312
         ]
        },
        {
         "mode": "lines",
         "name": "5 Orgs net",
         "type": "scatter",
         "uid": "0e5683e6-c11b-4b78-83e7-256988c5fb36",
         "x": [
          1,
          2,
          5,
          10,
          25,
          50
         ],
         "y": [
          0.198,
          0.2001,
          0.2109,
          0.2697,
          0.4459,
          1.27
         ]
        }
       ],
       "layout": {
        "barmode": "group",
        "title": {
         "text": "Retrieving previous analyses data with different number of advanced analysts"
        },
        "xaxis": {
         "title": {
          "text": "Number of advanced analysts working at same time"
         }
        },
        "yaxis": {
         "title": {
          "text": "Average response time (s)"
         }
        }
       }
      },
      "text/html": [
       "<div>\n",
       "        \n",
       "        \n",
       "            <div id=\"07d33fc5-9d66-44cc-bd43-53faa55c2d62\" class=\"plotly-graph-div\" style=\"height:525px; width:100%;\"></div>\n",
       "            <script type=\"text/javascript\">\n",
       "                require([\"plotly\"], function(Plotly) {\n",
       "                    window.PLOTLYENV=window.PLOTLYENV || {};\n",
       "                    window.PLOTLYENV.BASE_URL='https://plot.ly';\n",
       "                    \n",
       "                if (document.getElementById(\"07d33fc5-9d66-44cc-bd43-53faa55c2d62\")) {\n",
       "                    Plotly.newPlot(\n",
       "                        '07d33fc5-9d66-44cc-bd43-53faa55c2d62',\n",
       "                        [{\"mode\": \"lines\", \"name\": \"3 Orgs net\", \"type\": \"scatter\", \"uid\": \"1f8a8a87-7ad7-4653-9dd3-a10ed5ccd54c\", \"x\": [1, 2, 5, 10, 25, 50], \"y\": [0.1879, 0.1903, 0.2257, 0.2603, 0.4653, 1.3312]}, {\"mode\": \"lines\", \"name\": \"5 Orgs net\", \"type\": \"scatter\", \"uid\": \"0e5683e6-c11b-4b78-83e7-256988c5fb36\", \"x\": [1, 2, 5, 10, 25, 50], \"y\": [0.198, 0.2001, 0.2109, 0.2697, 0.4459, 1.27]}],\n",
       "                        {\"barmode\": \"group\", \"title\": {\"text\": \"Retrieving previous analyses data with different number of advanced analysts\"}, \"xaxis\": {\"title\": {\"text\": \"Number of advanced analysts working at same time\"}}, \"yaxis\": {\"title\": {\"text\": \"Average response time (s)\"}}},\n",
       "                        {\"plotlyServerURL\": \"https://plot.ly\", \"responsive\": true}\n",
       "                    ).then(function(){\n",
       "                            \n",
       "var gd = document.getElementById('07d33fc5-9d66-44cc-bd43-53faa55c2d62');\n",
       "var x = new MutationObserver(function (mutations, observer) {{\n",
       "        var display = window.getComputedStyle(gd).display;\n",
       "        if (!display || display === 'none') {{\n",
       "            console.log([gd, 'removed!']);\n",
       "            Plotly.purge(gd);\n",
       "            observer.disconnect();\n",
       "        }}\n",
       "}});\n",
       "\n",
       "// Listen for the removal of the full notebook cells\n",
       "var notebookContainer = gd.closest('#notebook-container');\n",
       "if (notebookContainer) {{\n",
       "    x.observe(notebookContainer, {childList: true});\n",
       "}}\n",
       "\n",
       "// Listen for the clearing of the current output cell\n",
       "var outputEl = gd.closest('.output');\n",
       "if (outputEl) {{\n",
       "    x.observe(outputEl, {childList: true});\n",
       "}}\n",
       "\n",
       "                        })\n",
       "                };\n",
       "                });\n",
       "            </script>\n",
       "        </div>"
      ]
     },
     "metadata": {},
     "output_type": "display_data"
    }
   ],
   "source": [
    "# 3 Orgs net data\n",
    "threeOrgs = [0.1879, 0.1903, 0.2257, 0.2603, 0.4653, 1.3312]\n",
    "# 5 Orgs net data\n",
    "fiveOrgs = [0.198, 0.2001, 0.2109, 0.2697, 0.4459, 1.27]\n",
    "\n",
    "avgGetAnalyses(threeOrgs, fiveOrgs)"
   ]
  }
 ],
 "metadata": {
  "kernelspec": {
   "display_name": "Python 3",
   "language": "python",
   "name": "python3"
  },
  "language_info": {
   "codemirror_mode": {
    "name": "ipython",
    "version": 3
   },
   "file_extension": ".py",
   "mimetype": "text/x-python",
   "name": "python",
   "nbconvert_exporter": "python",
   "pygments_lexer": "ipython3",
   "version": "3.6.4"
  }
 },
 "nbformat": 4,
 "nbformat_minor": 2
}
