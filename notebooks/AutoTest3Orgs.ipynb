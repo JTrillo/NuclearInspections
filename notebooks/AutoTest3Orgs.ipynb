{
 "cells": [
  {
   "cell_type": "markdown",
   "metadata": {},
   "source": [
    "# Times obtained during automatic analysis test (3 Orgs - 1 P. Node per Org)"
   ]
  },
  {
   "cell_type": "markdown",
   "metadata": {},
   "source": [
    "### Imports"
   ]
  },
  {
   "cell_type": "code",
   "execution_count": 1,
   "metadata": {},
   "outputs": [],
   "source": [
    "import asyncio\n",
    "import websockets\n",
    "import json\n",
    "import time\n",
    "import hashlib\n",
    "import os\n",
    "import requests\n",
    "import firebase_admin\n",
    "from firebase_admin import credentials\n",
    "from firebase_admin import storage"
   ]
  },
  {
   "cell_type": "markdown",
   "metadata": {},
   "source": [
    "### Global variables"
   ]
  },
  {
   "cell_type": "code",
   "execution_count": 2,
   "metadata": {},
   "outputs": [],
   "source": [
    "API_ENDPOINT = \"http://35.195.161.115:3001/api/\"\n",
    "WS_ENDPOINT = \"ws://35.195.161.115:3000/api/\"\n",
    "NS = \"ertis.uma.nuclear\""
   ]
  },
  {
   "cell_type": "markdown",
   "metadata": {},
   "source": [
    "### Main function"
   ]
  },
  {
   "cell_type": "code",
   "execution_count": 3,
   "metadata": {},
   "outputs": [],
   "source": [
    "async def eventListener(DEBUG=False):\n",
    "    print(\"EVENT LISTENER STARTED\")\n",
    "    cred = credentials.Certificate(\"serviceAccountKey.json\")\n",
    "    firebase_admin.initialize_app(cred)\n",
    "    async with websockets.connect(WS_ENDPOINT) as websocket:\n",
    "        if DEBUG:\n",
    "            print(\"Waiting for new event...\")\n",
    "        cont = 0\n",
    "        time_list = []\n",
    "        while cont<100:\n",
    "            aux = await websocket.recv()\n",
    "            if DEBUG:\n",
    "                print(\"NEW EVENT\")\n",
    "            aux2 = json.loads(aux)\n",
    "            eventId = aux2['eventId']\n",
    "            acqId = aux2['acqId']\n",
    "            filename = aux2['filename']\n",
    "            hash_value = aux2['hash']\n",
    "            if DEBUG:\n",
    "                print(f\"Event ID: {eventId}\")\n",
    "                print(f\"Acquisition ID: {acqId}\")\n",
    "                print(f\"Filename: {filename}\")\n",
    "                print(f\"Hash value: {hash_value}\")\n",
    "\n",
    "            #Waiting a little bit for file upload to repository by acquisitor process\n",
    "            time.sleep(10)\n",
    "\n",
    "            #Download file from repository\n",
    "            downloadFileFromRepository(filename)\n",
    "\n",
    "            #Compare downloaded file hash value with stored hash value\n",
    "            if checkHashSHA256(filename, hash_value):\n",
    "                if DEBUG:\n",
    "                    print(\"Valid hash\")\n",
    "\n",
    "                #Get file content\n",
    "                acqData = getFileContent(filename)\n",
    "\n",
    "                #Delete local file\n",
    "                deleteLocalFile(filename)\n",
    "\n",
    "                #Send transaction\n",
    "                elapsed_time = addAutomaticAnalysis(acqId, acqData)\n",
    "                time_list.append(elapsed_time)\n",
    "                if DEBUG:\n",
    "                    print(f\"Elapsed time adding automatic analysis: {elapsed_time}\\r\\n\")\n",
    "            else:\n",
    "                if DEBUG:\n",
    "                    print(\"Not valid hash\\r\\n\")\n",
    "            cont = cont+1\n",
    "        minimum = min(time_list)\n",
    "        average = sum(time_list)/len(time_list)\n",
    "        maximum = max(time_list)\n",
    "        print(f\"Fastest automatic analysis: {minimum}\")\n",
    "        print(f\"Average time while executing automatic analysis: {average}\")\n",
    "        print(f\"Slowest automatic analysis: {maximum}\")"
   ]
  },
  {
   "cell_type": "markdown",
   "metadata": {},
   "source": [
    "### Auxiliar functions"
   ]
  },
  {
   "cell_type": "code",
   "execution_count": 4,
   "metadata": {},
   "outputs": [],
   "source": [
    "def downloadFileFromRepository(filename):\n",
    "    bucket = storage.bucket(\"hyperledger-jte.appspot.com\")\n",
    "\n",
    "    blob = bucket.get_blob(filename)\n",
    "    blob.download_to_filename(filename)\n",
    "\n",
    "def checkHashSHA256(filename, hashStored):\n",
    "    hashValue = sha256(filename)\n",
    "    return hashValue == hashStored\n",
    "\n",
    "def sha256(fname):\n",
    "    hash_sha256 = hashlib.sha256()\n",
    "    with open(fname, \"rb\") as f:\n",
    "        for chunk in iter(lambda: f.read(4096), b\"\"):\n",
    "            hash_sha256.update(chunk)\n",
    "    return hash_sha256.hexdigest()\n",
    "\n",
    "def getFileContent(filename):\n",
    "    content = []\n",
    "    with open(filename, 'r') as f:\n",
    "        lines = f.readlines()\n",
    "        for i in range(len(lines)):\n",
    "            content.append(int(lines[i]))\n",
    "    return content\n",
    "\n",
    "def deleteLocalFile(filename):\n",
    "    if(os.path.exists(filename)):\n",
    "        os.remove(filename)\n",
    "    else:\n",
    "        print(f\"File {filename} does not exist\")\n",
    "\n",
    "def addAutomaticAnalysis(acqId, acqData, DEBUG=False):\n",
    "    resource_url = f\"{API_ENDPOINT}{NS}.AddAutomaticAnalysis\"\n",
    "    data = {\n",
    "        \"analysisId\": acqId,\n",
    "        \"acqId\": acqId,\n",
    "        \"acqData\": acqData\n",
    "    }\n",
    "    start_time = time.time()\n",
    "    r = requests.post(resource_url, data=data)\n",
    "    elapsed_time = time.time() - start_time\n",
    "    if DEBUG:\n",
    "        print(f\"Elapsed time: {elapsed_time}\")\n",
    "        print(f\"Response status code: {r.status_code}\")\n",
    "        print(r.json())\n",
    "    return elapsed_time"
   ]
  },
  {
   "cell_type": "markdown",
   "metadata": {},
   "source": [
    "### Main function execution"
   ]
  },
  {
   "cell_type": "code",
   "execution_count": 5,
   "metadata": {},
   "outputs": [
    {
     "ename": "RuntimeError",
     "evalue": "This event loop is already running",
     "output_type": "error",
     "traceback": [
      "\u001b[1;31m---------------------------------------------------------------------------\u001b[0m",
      "\u001b[1;31mRuntimeError\u001b[0m                              Traceback (most recent call last)",
      "\u001b[1;32m<ipython-input-5-bac0423c4e21>\u001b[0m in \u001b[0;36m<module>\u001b[1;34m\u001b[0m\n\u001b[1;32m----> 1\u001b[1;33m \u001b[0masyncio\u001b[0m\u001b[1;33m.\u001b[0m\u001b[0mget_event_loop\u001b[0m\u001b[1;33m(\u001b[0m\u001b[1;33m)\u001b[0m\u001b[1;33m.\u001b[0m\u001b[0mrun_until_complete\u001b[0m\u001b[1;33m(\u001b[0m\u001b[0meventListener\u001b[0m\u001b[1;33m(\u001b[0m\u001b[1;32mTrue\u001b[0m\u001b[1;33m)\u001b[0m\u001b[1;33m)\u001b[0m\u001b[1;33m\u001b[0m\u001b[0m\n\u001b[0m",
      "\u001b[1;32mc:\\users\\joaquin\\appdata\\local\\programs\\python\\python36-32\\lib\\asyncio\\base_events.py\u001b[0m in \u001b[0;36mrun_until_complete\u001b[1;34m(self, future)\u001b[0m\n\u001b[0;32m    452\u001b[0m         \u001b[0mfuture\u001b[0m\u001b[1;33m.\u001b[0m\u001b[0madd_done_callback\u001b[0m\u001b[1;33m(\u001b[0m\u001b[0m_run_until_complete_cb\u001b[0m\u001b[1;33m)\u001b[0m\u001b[1;33m\u001b[0m\u001b[0m\n\u001b[0;32m    453\u001b[0m         \u001b[1;32mtry\u001b[0m\u001b[1;33m:\u001b[0m\u001b[1;33m\u001b[0m\u001b[0m\n\u001b[1;32m--> 454\u001b[1;33m             \u001b[0mself\u001b[0m\u001b[1;33m.\u001b[0m\u001b[0mrun_forever\u001b[0m\u001b[1;33m(\u001b[0m\u001b[1;33m)\u001b[0m\u001b[1;33m\u001b[0m\u001b[0m\n\u001b[0m\u001b[0;32m    455\u001b[0m         \u001b[1;32mexcept\u001b[0m\u001b[1;33m:\u001b[0m\u001b[1;33m\u001b[0m\u001b[0m\n\u001b[0;32m    456\u001b[0m             \u001b[1;32mif\u001b[0m \u001b[0mnew_task\u001b[0m \u001b[1;32mand\u001b[0m \u001b[0mfuture\u001b[0m\u001b[1;33m.\u001b[0m\u001b[0mdone\u001b[0m\u001b[1;33m(\u001b[0m\u001b[1;33m)\u001b[0m \u001b[1;32mand\u001b[0m \u001b[1;32mnot\u001b[0m \u001b[0mfuture\u001b[0m\u001b[1;33m.\u001b[0m\u001b[0mcancelled\u001b[0m\u001b[1;33m(\u001b[0m\u001b[1;33m)\u001b[0m\u001b[1;33m:\u001b[0m\u001b[1;33m\u001b[0m\u001b[0m\n",
      "\u001b[1;32mc:\\users\\joaquin\\appdata\\local\\programs\\python\\python36-32\\lib\\asyncio\\base_events.py\u001b[0m in \u001b[0;36mrun_forever\u001b[1;34m(self)\u001b[0m\n\u001b[0;32m    406\u001b[0m         \u001b[0mself\u001b[0m\u001b[1;33m.\u001b[0m\u001b[0m_check_closed\u001b[0m\u001b[1;33m(\u001b[0m\u001b[1;33m)\u001b[0m\u001b[1;33m\u001b[0m\u001b[0m\n\u001b[0;32m    407\u001b[0m         \u001b[1;32mif\u001b[0m \u001b[0mself\u001b[0m\u001b[1;33m.\u001b[0m\u001b[0mis_running\u001b[0m\u001b[1;33m(\u001b[0m\u001b[1;33m)\u001b[0m\u001b[1;33m:\u001b[0m\u001b[1;33m\u001b[0m\u001b[0m\n\u001b[1;32m--> 408\u001b[1;33m             \u001b[1;32mraise\u001b[0m \u001b[0mRuntimeError\u001b[0m\u001b[1;33m(\u001b[0m\u001b[1;34m'This event loop is already running'\u001b[0m\u001b[1;33m)\u001b[0m\u001b[1;33m\u001b[0m\u001b[0m\n\u001b[0m\u001b[0;32m    409\u001b[0m         \u001b[1;32mif\u001b[0m \u001b[0mevents\u001b[0m\u001b[1;33m.\u001b[0m\u001b[0m_get_running_loop\u001b[0m\u001b[1;33m(\u001b[0m\u001b[1;33m)\u001b[0m \u001b[1;32mis\u001b[0m \u001b[1;32mnot\u001b[0m \u001b[1;32mNone\u001b[0m\u001b[1;33m:\u001b[0m\u001b[1;33m\u001b[0m\u001b[0m\n\u001b[0;32m    410\u001b[0m             raise RuntimeError(\n",
      "\u001b[1;31mRuntimeError\u001b[0m: This event loop is already running"
     ]
    },
    {
     "name": "stdout",
     "output_type": "stream",
     "text": [
      "EVENT LISTENER STARTED\n",
      "Waiting for new event...\n"
     ]
    }
   ],
   "source": [
    "asyncio.get_event_loop().run_until_complete(eventListener(True))"
   ]
  },
  {
   "cell_type": "code",
   "execution_count": null,
   "metadata": {},
   "outputs": [],
   "source": []
  }
 ],
 "metadata": {
  "kernelspec": {
   "display_name": "Python 3",
   "language": "python",
   "name": "python3"
  },
  "language_info": {
   "codemirror_mode": {
    "name": "ipython",
    "version": 3
   },
   "file_extension": ".py",
   "mimetype": "text/x-python",
   "name": "python",
   "nbconvert_exporter": "python",
   "pygments_lexer": "ipython3",
   "version": "3.6.4"
  }
 },
 "nbformat": 4,
 "nbformat_minor": 2
}
