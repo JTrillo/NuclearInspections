{
 "cells": [
  {
   "cell_type": "markdown",
   "metadata": {},
   "source": [
    "# Times obtained during analysis test (3 Orgs - 1 Peer Node per Org)"
   ]
  },
  {
   "cell_type": "markdown",
   "metadata": {},
   "source": [
    "### Imports"
   ]
  },
  {
   "cell_type": "code",
   "execution_count": 1,
   "metadata": {},
   "outputs": [],
   "source": [
    "import sys\n",
    "sys.path.insert(1, '..\\code')\n",
    "from analyst import *\n",
    "import threading\n",
    "import requests\n",
    "import json\n",
    "import random\n",
    "import plotly\n",
    "import plotly.graph_objs as go"
   ]
  },
  {
   "cell_type": "markdown",
   "metadata": {},
   "source": [
    "### Global variables"
   ]
  },
  {
   "cell_type": "code",
   "execution_count": 2,
   "metadata": {},
   "outputs": [],
   "source": [
    "API_ENDPOINT = \"http://34.76.123.255:3000/api/\"\n",
    "NS = \"ertis.uma.nuclear\""
   ]
  },
  {
   "cell_type": "markdown",
   "metadata": {},
   "source": [
    "### Function"
   ]
  },
  {
   "cell_type": "code",
   "execution_count": null,
   "metadata": {},
   "outputs": [],
   "source": [
    "def addAnalysisTest(num_analysts, num_acqs):\n",
    "    analyst_threads = []\n",
    "    analysis_per_worker = int(num_acqs/num_analysts)\n",
    "    \n",
    "    # Check for next analysis id\n",
    "    resource_url = f\"{API_ENDPOINT}{NS}.Analysis\"\n",
    "    r = requests.get(resource_url)\n",
    "    next_id = len(r.json()) + 1\n",
    "    \n",
    "    # Create threads\n",
    "    for i in range(num_analysts):\n",
    "        thread = Analyst(i, f\"Analyst-{i}\", analysis_per_worker, next_id+analysis_per_worker*i, API_ENDPOINT, NS)\n",
    "        analyst_threads.append(thread)\n",
    "        \n",
    "    # Start threads\n",
    "    for i in range(num_analysts):\n",
    "        analyst_threads[i].start()\n",
    "        \n",
    "    # Join threads\n",
    "    for i in range(num_analysts):\n",
    "        analyst_threads[i].join()\n",
    "        \n",
    "    # Print results\n",
    "    min_get = analyst_threads[0].min_get\n",
    "    min5avg_get = analyst_threads[0].min5avg_get\n",
    "    avg_get = analyst_threads[0].avg_get\n",
    "    max_get = analyst_threads[0].max_get\n",
    "    max5avg_get = analyst_threads[0].max5avg_get\n",
    "    \n",
    "    min_add = analyst_threads[0].min_add\n",
    "    min5avg_add = analyst_threads[0].min5avg_add\n",
    "    avg_add = analyst_threads[0].avg_add\n",
    "    max_add = analyst_threads[0].max_add\n",
    "    max5avg_add = analyst_threads[0].max5avg_add\n",
    "    \n",
    "    analyst_threads[0].printResults()\n",
    "    for i in range(1, num_analysts):\n",
    "        if analyst_threads[i].min_get < min_get:\n",
    "            min_get = analyst_threads[i].min_get\n",
    "        \n",
    "        min5avg_get = min5avg_get + acquisitor_threads[i].min5avg_get\n",
    "\n",
    "        avg_get = avg_get + analyst_threads[i].avg_get\n",
    "\n",
    "        if analyst_threads[i].max_get > max_get:\n",
    "            max_get = analyst_threads[i].max_get\n",
    "            \n",
    "        max5avg_get = max5avg_get + acquisitor_threads[i].max5avg_get\n",
    "            \n",
    "        if analyst_threads[i].min_add < min_add:\n",
    "            min_add = analyst_threads[i].min_add\n",
    "            \n",
    "        min5avg_add = min5avg_add + acquisitor_threads[i].min5avg_add\n",
    "            \n",
    "        avg_add = avg_add + analyst_threads[i].avg_add\n",
    "        \n",
    "        if analyst_threads[i].max_get > max_get:\n",
    "            max_add = analyst_threads[i].max_add\n",
    "        \n",
    "        max5avg_add = max5avg_add + acquisitor_threads[i].max5avg_add\n",
    "\n",
    "        analyst_threads[i].printResults()\n",
    "\n",
    "    print(f\"MIN GET ACQ --> {min_get}\")\n",
    "    print(f\"MIN 5 GET ACQ --> {min5avg_get/num_analysts}\")\n",
    "    print(f\"AVG GET ACQ --> {avg_get/num_analysts}\")\n",
    "    print(f\"MAX GET ACQ --> {max_get}\")\n",
    "    print(f\"MAX 5 GET ACQ --> {max5avg_get/num_analysts}\")\n",
    "    \n",
    "    print(f\"MIN ADD ANA --> {min_add}\")\n",
    "    print(f\"MIN 5 GET ANA --> {min5avg_add/num_analysts}\")\n",
    "    print(f\"AVG ADD ANA --> {avg_add/num_analysts}\")\n",
    "    print(f\"MAX ADD ANA --> {max_add}\")\n",
    "    print(f\"MAX 5 GET ANA --> {max5avg_add/num_analysts}\")\n",
    "\n",
    "    print(\"Add Analysis Test Finalized\")"
   ]
  }
 ],
 "metadata": {
  "kernelspec": {
   "display_name": "Python 3",
   "language": "python",
   "name": "python3"
  },
  "language_info": {
   "codemirror_mode": {
    "name": "ipython",
    "version": 3
   },
   "file_extension": ".py",
   "mimetype": "text/x-python",
   "name": "python",
   "nbconvert_exporter": "python",
   "pygments_lexer": "ipython3",
   "version": "3.6.4"
  }
 },
 "nbformat": 4,
 "nbformat_minor": 2
}
