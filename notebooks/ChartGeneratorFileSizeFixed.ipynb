{
 "cells": [
  {
   "cell_type": "markdown",
   "metadata": {},
   "source": [
    "# Chart generator. File size fixed (250 KB)"
   ]
  },
  {
   "cell_type": "markdown",
   "metadata": {},
   "source": [
    "### Imports"
   ]
  },
  {
   "cell_type": "code",
   "execution_count": 1,
   "metadata": {},
   "outputs": [
    {
     "data": {
      "text/html": [
       "        <script type=\"text/javascript\">\n",
       "        window.PlotlyConfig = {MathJaxConfig: 'local'};\n",
       "        if (window.MathJax) {MathJax.Hub.Config({SVG: {font: \"STIX-Web\"}});}\n",
       "        if (typeof require !== 'undefined') {\n",
       "        require.undef(\"plotly\");\n",
       "        requirejs.config({\n",
       "            paths: {\n",
       "                'plotly': ['https://cdn.plot.ly/plotly-latest.min']\n",
       "            }\n",
       "        });\n",
       "        require(['plotly'], function(Plotly) {\n",
       "            window._Plotly = Plotly;\n",
       "        });\n",
       "        }\n",
       "        </script>\n",
       "        "
      ]
     },
     "metadata": {},
     "output_type": "display_data"
    }
   ],
   "source": [
    "import sys\n",
    "sys.path.insert(1, '..\\code')\n",
    "from charts import *\n",
    "import plotly\n",
    "plotly.offline.init_notebook_mode(connected=True)"
   ]
  },
  {
   "cell_type": "markdown",
   "metadata": {},
   "source": [
    "### Average times when executing tx 'AddAcquisition'"
   ]
  },
  {
   "cell_type": "code",
   "execution_count": 2,
   "metadata": {},
   "outputs": [
    {
     "data": {
      "application/vnd.plotly.v1+json": {
       "config": {
        "plotlyServerURL": "https://plot.ly"
       },
       "data": [
        {
         "mode": "lines",
         "name": "3 Orgs net",
         "type": "scatter",
         "uid": "86b1ea68-31f6-411c-b300-1d95f9c7c0e6",
         "x": [
          500,
          1000,
          1500
         ],
         "y": [
          1.2557,
          1.2584,
          1.2733
         ]
        },
        {
         "mode": "lines",
         "name": "5 Orgs net",
         "type": "scatter",
         "uid": "401d6a8b-0efc-49b4-ab2e-b9e48593f4de",
         "x": [
          500,
          1000,
          1500
         ],
         "y": [
          1.316,
          1.3037,
          1.2938
         ]
        }
       ],
       "layout": {
        "barmode": "group",
        "title": {
         "text": "Executing transaction 'AddAcquisition' with different number of tubes (250 KB)"
        },
        "xaxis": {
         "range": [
          500,
          1500
         ],
         "title": {
          "text": "Number of tubes"
         }
        },
        "yaxis": {
         "range": [
          1,
          4
         ],
         "title": {
          "text": "Average response time (s)"
         }
        }
       }
      },
      "text/html": [
       "<div>\n",
       "        \n",
       "        \n",
       "            <div id=\"67de1b68-d50a-4a0c-a7ab-2db7e8aa604c\" class=\"plotly-graph-div\" style=\"height:525px; width:100%;\"></div>\n",
       "            <script type=\"text/javascript\">\n",
       "                require([\"plotly\"], function(Plotly) {\n",
       "                    window.PLOTLYENV=window.PLOTLYENV || {};\n",
       "                    window.PLOTLYENV.BASE_URL='https://plot.ly';\n",
       "                    \n",
       "                if (document.getElementById(\"67de1b68-d50a-4a0c-a7ab-2db7e8aa604c\")) {\n",
       "                    Plotly.newPlot(\n",
       "                        '67de1b68-d50a-4a0c-a7ab-2db7e8aa604c',\n",
       "                        [{\"mode\": \"lines\", \"name\": \"3 Orgs net\", \"type\": \"scatter\", \"uid\": \"86b1ea68-31f6-411c-b300-1d95f9c7c0e6\", \"x\": [500, 1000, 1500], \"y\": [1.2557, 1.2584, 1.2733]}, {\"mode\": \"lines\", \"name\": \"5 Orgs net\", \"type\": \"scatter\", \"uid\": \"401d6a8b-0efc-49b4-ab2e-b9e48593f4de\", \"x\": [500, 1000, 1500], \"y\": [1.316, 1.3037, 1.2938]}],\n",
       "                        {\"barmode\": \"group\", \"title\": {\"text\": \"Executing transaction 'AddAcquisition' with different number of tubes (250 KB)\"}, \"xaxis\": {\"range\": [500, 1500], \"title\": {\"text\": \"Number of tubes\"}}, \"yaxis\": {\"range\": [1.0, 4.0], \"title\": {\"text\": \"Average response time (s)\"}}},\n",
       "                        {\"plotlyServerURL\": \"https://plot.ly\", \"responsive\": true}\n",
       "                    ).then(function(){\n",
       "                            \n",
       "var gd = document.getElementById('67de1b68-d50a-4a0c-a7ab-2db7e8aa604c');\n",
       "var x = new MutationObserver(function (mutations, observer) {{\n",
       "        var display = window.getComputedStyle(gd).display;\n",
       "        if (!display || display === 'none') {{\n",
       "            console.log([gd, 'removed!']);\n",
       "            Plotly.purge(gd);\n",
       "            observer.disconnect();\n",
       "        }}\n",
       "}});\n",
       "\n",
       "// Listen for the removal of the full notebook cells\n",
       "var notebookContainer = gd.closest('#notebook-container');\n",
       "if (notebookContainer) {{\n",
       "    x.observe(notebookContainer, {childList: true});\n",
       "}}\n",
       "\n",
       "// Listen for the clearing of the current output cell\n",
       "var outputEl = gd.closest('.output');\n",
       "if (outputEl) {{\n",
       "    x.observe(outputEl, {childList: true});\n",
       "}}\n",
       "\n",
       "                        })\n",
       "                };\n",
       "                });\n",
       "            </script>\n",
       "        </div>"
      ]
     },
     "metadata": {},
     "output_type": "display_data"
    }
   ],
   "source": [
    "# 3 Orgs net data\n",
    "threeOrgs = [1.2557, 1.2584, 1.2733]\n",
    "# 5 Orgs net data\n",
    "fiveOrgs = [1.3160, 1.3037, 1.2938]\n",
    "\n",
    "avgAcquisition(\"250 KB\", threeOrgs, fiveOrgs)"
   ]
  },
  {
   "cell_type": "markdown",
   "metadata": {},
   "source": [
    "### Elapsed time adding one acquisition per tube, with different number of tubes"
   ]
  },
  {
   "cell_type": "code",
   "execution_count": 3,
   "metadata": {},
   "outputs": [
    {
     "data": {
      "application/vnd.plotly.v1+json": {
       "config": {
        "plotlyServerURL": "https://plot.ly"
       },
       "data": [
        {
         "mode": "lines",
         "name": "3 Orgs net",
         "type": "scatter",
         "uid": "ceefe172-fa68-4293-a292-bdd707db92be",
         "x": [
          500,
          1000,
          1500
         ],
         "y": [
          862.7493,
          1738.8425,
          2625.2902
         ]
        },
        {
         "mode": "lines",
         "name": "5 Orgs net",
         "type": "scatter",
         "uid": "5bc0f82c-bacb-445e-8dac-5292bdb51417",
         "x": [
          500,
          1000,
          1500
         ],
         "y": [
          1054.9542,
          1919.9872,
          2711.5517
         ]
        }
       ],
       "layout": {
        "barmode": "group",
        "title": {
         "text": "Elapsed time adding one acquisition per tube, with different number of tubes (250 KB)"
        },
        "xaxis": {
         "range": [
          500,
          1500
         ],
         "title": {
          "text": "Number of tubes"
         }
        },
        "yaxis": {
         "title": {
          "text": "Total elapsed time (s)"
         }
        }
       }
      },
      "text/html": [
       "<div>\n",
       "        \n",
       "        \n",
       "            <div id=\"6c6078b8-8c25-41f6-8d2d-408b2a069c6a\" class=\"plotly-graph-div\" style=\"height:525px; width:100%;\"></div>\n",
       "            <script type=\"text/javascript\">\n",
       "                require([\"plotly\"], function(Plotly) {\n",
       "                    window.PLOTLYENV=window.PLOTLYENV || {};\n",
       "                    window.PLOTLYENV.BASE_URL='https://plot.ly';\n",
       "                    \n",
       "                if (document.getElementById(\"6c6078b8-8c25-41f6-8d2d-408b2a069c6a\")) {\n",
       "                    Plotly.newPlot(\n",
       "                        '6c6078b8-8c25-41f6-8d2d-408b2a069c6a',\n",
       "                        [{\"mode\": \"lines\", \"name\": \"3 Orgs net\", \"type\": \"scatter\", \"uid\": \"ceefe172-fa68-4293-a292-bdd707db92be\", \"x\": [500, 1000, 1500], \"y\": [862.7493, 1738.8425, 2625.2902]}, {\"mode\": \"lines\", \"name\": \"5 Orgs net\", \"type\": \"scatter\", \"uid\": \"5bc0f82c-bacb-445e-8dac-5292bdb51417\", \"x\": [500, 1000, 1500], \"y\": [1054.9542, 1919.9872, 2711.5517]}],\n",
       "                        {\"barmode\": \"group\", \"title\": {\"text\": \"Elapsed time adding one acquisition per tube, with different number of tubes (250 KB)\"}, \"xaxis\": {\"range\": [500, 1500], \"title\": {\"text\": \"Number of tubes\"}}, \"yaxis\": {\"title\": {\"text\": \"Total elapsed time (s)\"}}},\n",
       "                        {\"plotlyServerURL\": \"https://plot.ly\", \"responsive\": true}\n",
       "                    ).then(function(){\n",
       "                            \n",
       "var gd = document.getElementById('6c6078b8-8c25-41f6-8d2d-408b2a069c6a');\n",
       "var x = new MutationObserver(function (mutations, observer) {{\n",
       "        var display = window.getComputedStyle(gd).display;\n",
       "        if (!display || display === 'none') {{\n",
       "            console.log([gd, 'removed!']);\n",
       "            Plotly.purge(gd);\n",
       "            observer.disconnect();\n",
       "        }}\n",
       "}});\n",
       "\n",
       "// Listen for the removal of the full notebook cells\n",
       "var notebookContainer = gd.closest('#notebook-container');\n",
       "if (notebookContainer) {{\n",
       "    x.observe(notebookContainer, {childList: true});\n",
       "}}\n",
       "\n",
       "// Listen for the clearing of the current output cell\n",
       "var outputEl = gd.closest('.output');\n",
       "if (outputEl) {{\n",
       "    x.observe(outputEl, {childList: true});\n",
       "}}\n",
       "\n",
       "                        })\n",
       "                };\n",
       "                });\n",
       "            </script>\n",
       "        </div>"
      ]
     },
     "metadata": {},
     "output_type": "display_data"
    }
   ],
   "source": [
    "# 3 Orgs net data\n",
    "threeOrgs = [862.7493, 1738.8425, 2625.2902]\n",
    "# 5 Orgs net data\n",
    "fiveOrgs = [1054.9542, 1919.9872, 2711.5517]\n",
    "\n",
    "totalAcquisition(\"250 KB\", threeOrgs, fiveOrgs)"
   ]
  },
  {
   "cell_type": "markdown",
   "metadata": {},
   "source": [
    "### Average times when executing tx 'AddAutomaticAnalysis'"
   ]
  },
  {
   "cell_type": "code",
   "execution_count": 4,
   "metadata": {},
   "outputs": [
    {
     "data": {
      "application/vnd.plotly.v1+json": {
       "config": {
        "plotlyServerURL": "https://plot.ly"
       },
       "data": [
        {
         "mode": "lines",
         "name": "3 Orgs net",
         "type": "scatter",
         "uid": "cde38a37-04c9-4118-ad2f-a44b8064b54d",
         "x": [
          500,
          1000,
          1500
         ],
         "y": [
          14.5715,
          14.1668,
          14.8436
         ]
        },
        {
         "mode": "lines",
         "name": "5 Orgs net",
         "type": "scatter",
         "uid": "424357f5-5da2-49bb-a3bb-d2dbd6dbe41b",
         "x": [
          500,
          1000,
          1500
         ],
         "y": [
          15.2297,
          16.172,
          16.3144
         ]
        }
       ],
       "layout": {
        "barmode": "group",
        "title": {
         "text": "Executing transaction 'AddAutomaticAnalysis' with different number of tubes (250 KB)"
        },
        "xaxis": {
         "range": [
          500,
          1500
         ],
         "title": {
          "text": "Number of tubes"
         }
        },
        "yaxis": {
         "range": [
          10,
          17
         ],
         "title": {
          "text": "Average response time (s)"
         }
        }
       }
      },
      "text/html": [
       "<div>\n",
       "        \n",
       "        \n",
       "            <div id=\"a9ba110b-fd40-4fb8-8e6d-0532e1f42059\" class=\"plotly-graph-div\" style=\"height:525px; width:100%;\"></div>\n",
       "            <script type=\"text/javascript\">\n",
       "                require([\"plotly\"], function(Plotly) {\n",
       "                    window.PLOTLYENV=window.PLOTLYENV || {};\n",
       "                    window.PLOTLYENV.BASE_URL='https://plot.ly';\n",
       "                    \n",
       "                if (document.getElementById(\"a9ba110b-fd40-4fb8-8e6d-0532e1f42059\")) {\n",
       "                    Plotly.newPlot(\n",
       "                        'a9ba110b-fd40-4fb8-8e6d-0532e1f42059',\n",
       "                        [{\"mode\": \"lines\", \"name\": \"3 Orgs net\", \"type\": \"scatter\", \"uid\": \"cde38a37-04c9-4118-ad2f-a44b8064b54d\", \"x\": [500, 1000, 1500], \"y\": [14.5715, 14.1668, 14.8436]}, {\"mode\": \"lines\", \"name\": \"5 Orgs net\", \"type\": \"scatter\", \"uid\": \"424357f5-5da2-49bb-a3bb-d2dbd6dbe41b\", \"x\": [500, 1000, 1500], \"y\": [15.2297, 16.172, 16.3144]}],\n",
       "                        {\"barmode\": \"group\", \"title\": {\"text\": \"Executing transaction 'AddAutomaticAnalysis' with different number of tubes (250 KB)\"}, \"xaxis\": {\"range\": [500, 1500], \"title\": {\"text\": \"Number of tubes\"}}, \"yaxis\": {\"range\": [10.0, 17.0], \"title\": {\"text\": \"Average response time (s)\"}}},\n",
       "                        {\"plotlyServerURL\": \"https://plot.ly\", \"responsive\": true}\n",
       "                    ).then(function(){\n",
       "                            \n",
       "var gd = document.getElementById('a9ba110b-fd40-4fb8-8e6d-0532e1f42059');\n",
       "var x = new MutationObserver(function (mutations, observer) {{\n",
       "        var display = window.getComputedStyle(gd).display;\n",
       "        if (!display || display === 'none') {{\n",
       "            console.log([gd, 'removed!']);\n",
       "            Plotly.purge(gd);\n",
       "            observer.disconnect();\n",
       "        }}\n",
       "}});\n",
       "\n",
       "// Listen for the removal of the full notebook cells\n",
       "var notebookContainer = gd.closest('#notebook-container');\n",
       "if (notebookContainer) {{\n",
       "    x.observe(notebookContainer, {childList: true});\n",
       "}}\n",
       "\n",
       "// Listen for the clearing of the current output cell\n",
       "var outputEl = gd.closest('.output');\n",
       "if (outputEl) {{\n",
       "    x.observe(outputEl, {childList: true});\n",
       "}}\n",
       "\n",
       "                        })\n",
       "                };\n",
       "                });\n",
       "            </script>\n",
       "        </div>"
      ]
     },
     "metadata": {},
     "output_type": "display_data"
    }
   ],
   "source": [
    "# 3 Orgs net data\n",
    "threeOrgs = [14.5715, 14.1668, 14.8436]\n",
    "# 5 Orgs net data\n",
    "fiveOrgs = [15.2297, 16.1720, 16.3144]\n",
    "\n",
    "avgAutoAnalysis(\"250 KB\", threeOrgs, fiveOrgs)"
   ]
  },
  {
   "cell_type": "markdown",
   "metadata": {},
   "source": [
    "### Elapsed time adding one automatic analysis per acquisition"
   ]
  },
  {
   "cell_type": "code",
   "execution_count": 5,
   "metadata": {},
   "outputs": [
    {
     "data": {
      "application/vnd.plotly.v1+json": {
       "config": {
        "plotlyServerURL": "https://plot.ly"
       },
       "data": [
        {
         "mode": "lines",
         "name": "3 Orgs net",
         "type": "scatter",
         "uid": "cb3066cd-4133-4fa5-be7b-c5a88f5caca3",
         "x": [
          500,
          1000,
          1500
         ],
         "y": [
          7463.6009,
          14518.7505,
          22794.0377
         ]
        },
        {
         "mode": "lines",
         "name": "5 Orgs net",
         "type": "scatter",
         "uid": "ea4fa902-b438-4768-95e2-bf554503239c",
         "x": [
          500,
          1000,
          1500
         ],
         "y": [
          7797.885,
          16492.8621,
          24951.5748
         ]
        }
       ],
       "layout": {
        "barmode": "group",
        "title": {
         "text": "Elapsed tiem adding one automatic analysis per acquisition, with different number of tubes (250 KB)"
        },
        "xaxis": {
         "range": [
          500,
          1500
         ],
         "title": {
          "text": "Number of tubes"
         }
        },
        "yaxis": {
         "title": {
          "text": "Total elapsed time (s)"
         }
        }
       }
      },
      "text/html": [
       "<div>\n",
       "        \n",
       "        \n",
       "            <div id=\"0a065ad6-59c4-43d6-bd45-800b9c52fdb8\" class=\"plotly-graph-div\" style=\"height:525px; width:100%;\"></div>\n",
       "            <script type=\"text/javascript\">\n",
       "                require([\"plotly\"], function(Plotly) {\n",
       "                    window.PLOTLYENV=window.PLOTLYENV || {};\n",
       "                    window.PLOTLYENV.BASE_URL='https://plot.ly';\n",
       "                    \n",
       "                if (document.getElementById(\"0a065ad6-59c4-43d6-bd45-800b9c52fdb8\")) {\n",
       "                    Plotly.newPlot(\n",
       "                        '0a065ad6-59c4-43d6-bd45-800b9c52fdb8',\n",
       "                        [{\"mode\": \"lines\", \"name\": \"3 Orgs net\", \"type\": \"scatter\", \"uid\": \"cb3066cd-4133-4fa5-be7b-c5a88f5caca3\", \"x\": [500, 1000, 1500], \"y\": [7463.6009, 14518.7505, 22794.0377]}, {\"mode\": \"lines\", \"name\": \"5 Orgs net\", \"type\": \"scatter\", \"uid\": \"ea4fa902-b438-4768-95e2-bf554503239c\", \"x\": [500, 1000, 1500], \"y\": [7797.885, 16492.8621, 24951.5748]}],\n",
       "                        {\"barmode\": \"group\", \"title\": {\"text\": \"Elapsed tiem adding one automatic analysis per acquisition, with different number of tubes (250 KB)\"}, \"xaxis\": {\"range\": [500, 1500], \"title\": {\"text\": \"Number of tubes\"}}, \"yaxis\": {\"title\": {\"text\": \"Total elapsed time (s)\"}}},\n",
       "                        {\"plotlyServerURL\": \"https://plot.ly\", \"responsive\": true}\n",
       "                    ).then(function(){\n",
       "                            \n",
       "var gd = document.getElementById('0a065ad6-59c4-43d6-bd45-800b9c52fdb8');\n",
       "var x = new MutationObserver(function (mutations, observer) {{\n",
       "        var display = window.getComputedStyle(gd).display;\n",
       "        if (!display || display === 'none') {{\n",
       "            console.log([gd, 'removed!']);\n",
       "            Plotly.purge(gd);\n",
       "            observer.disconnect();\n",
       "        }}\n",
       "}});\n",
       "\n",
       "// Listen for the removal of the full notebook cells\n",
       "var notebookContainer = gd.closest('#notebook-container');\n",
       "if (notebookContainer) {{\n",
       "    x.observe(notebookContainer, {childList: true});\n",
       "}}\n",
       "\n",
       "// Listen for the clearing of the current output cell\n",
       "var outputEl = gd.closest('.output');\n",
       "if (outputEl) {{\n",
       "    x.observe(outputEl, {childList: true});\n",
       "}}\n",
       "\n",
       "                        })\n",
       "                };\n",
       "                });\n",
       "            </script>\n",
       "        </div>"
      ]
     },
     "metadata": {},
     "output_type": "display_data"
    }
   ],
   "source": [
    "# 3 Orgs net data\n",
    "threeOrgs = [7463.6009, 14518.7505, 22794.0377]\n",
    "# 5 Orgs net data\n",
    "fiveOrgs = [7797.8850, 16492.8621, 24951.5748]\n",
    "\n",
    "totalAutoAnalysis(\"250 KB\", threeOrgs, fiveOrgs)"
   ]
  },
  {
   "cell_type": "markdown",
   "metadata": {},
   "source": [
    "### Average times when executing tx 'AddAnalysis' by analysts"
   ]
  },
  {
   "cell_type": "code",
   "execution_count": 6,
   "metadata": {},
   "outputs": [
    {
     "data": {
      "application/vnd.plotly.v1+json": {
       "config": {
        "plotlyServerURL": "https://plot.ly"
       },
       "data": [
        {
         "mode": "lines",
         "name": "3 Orgs net (10 analysts per role)",
         "type": "scatter",
         "uid": "0a6ac4ee-49fb-416b-a5bb-bbcc79deaa79",
         "x": [
          500,
          1000,
          1500
         ],
         "y": [
          1.4509,
          1.2117,
          1.2511
         ]
        },
        {
         "mode": "lines",
         "name": "3 Orgs net (20 analysts per role)",
         "type": "scatter",
         "uid": "98fe78f8-7d03-417e-9cec-b378e673835a",
         "x": [
          500,
          1000,
          1500
         ],
         "y": [
          1.6969,
          1.3378,
          1.2801
         ]
        },
        {
         "mode": "lines",
         "name": "5 Orgs net (10 analysts per role)",
         "type": "scatter",
         "uid": "ec8a31e9-8149-4b21-8b69-37e83c26fbc2",
         "x": [
          500,
          1000,
          1500
         ],
         "y": [
          1.5105,
          1.3361,
          1.3891
         ]
        },
        {
         "mode": "lines",
         "name": "5 Orgs net (20 analysts per role)",
         "type": "scatter",
         "uid": "23dad152-c8c7-4a8a-9e56-27245bcc6d13",
         "x": [
          500,
          1000,
          1500
         ],
         "y": [
          1.7422,
          1.5659,
          1.3711
         ]
        }
       ],
       "layout": {
        "barmode": "group",
        "title": {
         "text": "Executing transaction 'AddAnalysis' with different number of tubes and different number of analysts (250 KB)"
        },
        "xaxis": {
         "range": [
          500,
          1500
         ],
         "title": {
          "text": "Number of tubes"
         }
        },
        "yaxis": {
         "range": [
          1,
          4
         ],
         "title": {
          "text": "Average response time (s)"
         }
        }
       }
      },
      "text/html": [
       "<div>\n",
       "        \n",
       "        \n",
       "            <div id=\"7a487667-3cea-4829-bbc3-5fe4523c259f\" class=\"plotly-graph-div\" style=\"height:525px; width:100%;\"></div>\n",
       "            <script type=\"text/javascript\">\n",
       "                require([\"plotly\"], function(Plotly) {\n",
       "                    window.PLOTLYENV=window.PLOTLYENV || {};\n",
       "                    window.PLOTLYENV.BASE_URL='https://plot.ly';\n",
       "                    \n",
       "                if (document.getElementById(\"7a487667-3cea-4829-bbc3-5fe4523c259f\")) {\n",
       "                    Plotly.newPlot(\n",
       "                        '7a487667-3cea-4829-bbc3-5fe4523c259f',\n",
       "                        [{\"mode\": \"lines\", \"name\": \"3 Orgs net (10 analysts per role)\", \"type\": \"scatter\", \"uid\": \"0a6ac4ee-49fb-416b-a5bb-bbcc79deaa79\", \"x\": [500, 1000, 1500], \"y\": [1.4509, 1.2117, 1.2511]}, {\"mode\": \"lines\", \"name\": \"3 Orgs net (20 analysts per role)\", \"type\": \"scatter\", \"uid\": \"98fe78f8-7d03-417e-9cec-b378e673835a\", \"x\": [500, 1000, 1500], \"y\": [1.6969, 1.3378, 1.2801]}, {\"mode\": \"lines\", \"name\": \"5 Orgs net (10 analysts per role)\", \"type\": \"scatter\", \"uid\": \"ec8a31e9-8149-4b21-8b69-37e83c26fbc2\", \"x\": [500, 1000, 1500], \"y\": [1.5105, 1.3361, 1.3891]}, {\"mode\": \"lines\", \"name\": \"5 Orgs net (20 analysts per role)\", \"type\": \"scatter\", \"uid\": \"23dad152-c8c7-4a8a-9e56-27245bcc6d13\", \"x\": [500, 1000, 1500], \"y\": [1.7422, 1.5659, 1.3711]}],\n",
       "                        {\"barmode\": \"group\", \"title\": {\"text\": \"Executing transaction 'AddAnalysis' with different number of tubes and different number of analysts (250 KB)\"}, \"xaxis\": {\"range\": [500, 1500], \"title\": {\"text\": \"Number of tubes\"}}, \"yaxis\": {\"range\": [1.0, 4.0], \"title\": {\"text\": \"Average response time (s)\"}}},\n",
       "                        {\"plotlyServerURL\": \"https://plot.ly\", \"responsive\": true}\n",
       "                    ).then(function(){\n",
       "                            \n",
       "var gd = document.getElementById('7a487667-3cea-4829-bbc3-5fe4523c259f');\n",
       "var x = new MutationObserver(function (mutations, observer) {{\n",
       "        var display = window.getComputedStyle(gd).display;\n",
       "        if (!display || display === 'none') {{\n",
       "            console.log([gd, 'removed!']);\n",
       "            Plotly.purge(gd);\n",
       "            observer.disconnect();\n",
       "        }}\n",
       "}});\n",
       "\n",
       "// Listen for the removal of the full notebook cells\n",
       "var notebookContainer = gd.closest('#notebook-container');\n",
       "if (notebookContainer) {{\n",
       "    x.observe(notebookContainer, {childList: true});\n",
       "}}\n",
       "\n",
       "// Listen for the clearing of the current output cell\n",
       "var outputEl = gd.closest('.output');\n",
       "if (outputEl) {{\n",
       "    x.observe(outputEl, {childList: true});\n",
       "}}\n",
       "\n",
       "                        })\n",
       "                };\n",
       "                });\n",
       "            </script>\n",
       "        </div>"
      ]
     },
     "metadata": {},
     "output_type": "display_data"
    }
   ],
   "source": [
    "# 3 Orgs net data\n",
    "threeOrgs10 = [1.4509, 1.2117, 1.2511]\n",
    "threeOrgs20 = [1.6969, 1.3378, 1.2801]\n",
    "# 5 Orgs net data\n",
    "fiveOrgs10 = [1.5105, 1.3361, 1.3891]\n",
    "fiveOrgs20 = [1.7422, 1.5659, 1.3711]\n",
    "\n",
    "avgAnalysis(\"250 KB\", threeOrgs10, threeOrgs20, fiveOrgs10, fiveOrgs20)"
   ]
  },
  {
   "cell_type": "markdown",
   "metadata": {},
   "source": [
    "### Elapsed time adding two analyses per acquisition with different number of analysts"
   ]
  },
  {
   "cell_type": "code",
   "execution_count": 7,
   "metadata": {},
   "outputs": [
    {
     "data": {
      "application/vnd.plotly.v1+json": {
       "config": {
        "plotlyServerURL": "https://plot.ly"
       },
       "data": [
        {
         "mode": "lines",
         "name": "3 Orgs net (10 analysts per role)",
         "type": "scatter",
         "uid": "240e0cd5-7d85-47ea-9ef0-29fe636c5ce9",
         "x": [
          500,
          1000,
          1500
         ],
         "y": [
          1148.1137,
          2248.1675,
          3363.0079
         ]
        },
        {
         "mode": "lines",
         "name": "3 Orgs net (20 analysts per role)",
         "type": "scatter",
         "uid": "30b1c531-7aac-4352-829e-84f2abfd4571",
         "x": [
          500,
          1000,
          1500
         ],
         "y": [
          598.9733,
          1144.5899,
          1702.0179
         ]
        },
        {
         "mode": "lines",
         "name": "5 Orgs net (10 analysts per role)",
         "type": "scatter",
         "uid": "54112477-6194-4db9-a104-b6ec3de43f73",
         "x": [
          500,
          1000,
          1500
         ],
         "y": [
          1146.1426,
          2280.5195,
          3421.8409
         ]
        },
        {
         "mode": "lines",
         "name": "5 Orgs net (20 analysts per role)",
         "type": "scatter",
         "uid": "ecbbc5b7-b810-4206-b98a-d03d11c1ed3f",
         "x": [
          500,
          1000,
          1500
         ],
         "y": [
          612.9806,
          1179.4412,
          1721.3345
         ]
        }
       ],
       "layout": {
        "barmode": "group",
        "title": {
         "text": "Elapsed time adding one analysis per acquisition by primary and secondary analysts, with different number of tubes and different number of analysts (250 KB)"
        },
        "xaxis": {
         "range": [
          500,
          1500
         ],
         "title": {
          "text": "Number of tubes"
         }
        },
        "yaxis": {
         "title": {
          "text": "Average response time (s)"
         }
        }
       }
      },
      "text/html": [
       "<div>\n",
       "        \n",
       "        \n",
       "            <div id=\"af053b5a-3652-46d0-b1f7-c88500666de0\" class=\"plotly-graph-div\" style=\"height:525px; width:100%;\"></div>\n",
       "            <script type=\"text/javascript\">\n",
       "                require([\"plotly\"], function(Plotly) {\n",
       "                    window.PLOTLYENV=window.PLOTLYENV || {};\n",
       "                    window.PLOTLYENV.BASE_URL='https://plot.ly';\n",
       "                    \n",
       "                if (document.getElementById(\"af053b5a-3652-46d0-b1f7-c88500666de0\")) {\n",
       "                    Plotly.newPlot(\n",
       "                        'af053b5a-3652-46d0-b1f7-c88500666de0',\n",
       "                        [{\"mode\": \"lines\", \"name\": \"3 Orgs net (10 analysts per role)\", \"type\": \"scatter\", \"uid\": \"240e0cd5-7d85-47ea-9ef0-29fe636c5ce9\", \"x\": [500, 1000, 1500], \"y\": [1148.1137, 2248.1675, 3363.0079]}, {\"mode\": \"lines\", \"name\": \"3 Orgs net (20 analysts per role)\", \"type\": \"scatter\", \"uid\": \"30b1c531-7aac-4352-829e-84f2abfd4571\", \"x\": [500, 1000, 1500], \"y\": [598.9733, 1144.5899, 1702.0179]}, {\"mode\": \"lines\", \"name\": \"5 Orgs net (10 analysts per role)\", \"type\": \"scatter\", \"uid\": \"54112477-6194-4db9-a104-b6ec3de43f73\", \"x\": [500, 1000, 1500], \"y\": [1146.1426, 2280.5195, 3421.8409]}, {\"mode\": \"lines\", \"name\": \"5 Orgs net (20 analysts per role)\", \"type\": \"scatter\", \"uid\": \"ecbbc5b7-b810-4206-b98a-d03d11c1ed3f\", \"x\": [500, 1000, 1500], \"y\": [612.9806, 1179.4412, 1721.3345]}],\n",
       "                        {\"barmode\": \"group\", \"title\": {\"text\": \"Elapsed time adding one analysis per acquisition by primary and secondary analysts, with different number of tubes and different number of analysts (250 KB)\"}, \"xaxis\": {\"range\": [500, 1500], \"title\": {\"text\": \"Number of tubes\"}}, \"yaxis\": {\"title\": {\"text\": \"Average response time (s)\"}}},\n",
       "                        {\"plotlyServerURL\": \"https://plot.ly\", \"responsive\": true}\n",
       "                    ).then(function(){\n",
       "                            \n",
       "var gd = document.getElementById('af053b5a-3652-46d0-b1f7-c88500666de0');\n",
       "var x = new MutationObserver(function (mutations, observer) {{\n",
       "        var display = window.getComputedStyle(gd).display;\n",
       "        if (!display || display === 'none') {{\n",
       "            console.log([gd, 'removed!']);\n",
       "            Plotly.purge(gd);\n",
       "            observer.disconnect();\n",
       "        }}\n",
       "}});\n",
       "\n",
       "// Listen for the removal of the full notebook cells\n",
       "var notebookContainer = gd.closest('#notebook-container');\n",
       "if (notebookContainer) {{\n",
       "    x.observe(notebookContainer, {childList: true});\n",
       "}}\n",
       "\n",
       "// Listen for the clearing of the current output cell\n",
       "var outputEl = gd.closest('.output');\n",
       "if (outputEl) {{\n",
       "    x.observe(outputEl, {childList: true});\n",
       "}}\n",
       "\n",
       "                        })\n",
       "                };\n",
       "                });\n",
       "            </script>\n",
       "        </div>"
      ]
     },
     "metadata": {},
     "output_type": "display_data"
    }
   ],
   "source": [
    "# 3 Orgs net data\n",
    "threeOrgs10 = [1148.1137, 2248.1675, 3363.0079]\n",
    "threeOrgs20 = [598.9733, 1144.5899, 1702.0179]\n",
    "# 5 Orgs net data\n",
    "fiveOrgs10 = [1146.1426, 2280.5195, 3421.8409]\n",
    "fiveOrgs20 = [612.9806, 1179.4412, 1721.3345]\n",
    "\n",
    "totalAnalysis(\"250 KB\", threeOrgs10, threeOrgs20, fiveOrgs10, fiveOrgs20)"
   ]
  },
  {
   "cell_type": "markdown",
   "metadata": {},
   "source": [
    "### Average times when executing tx 'AddAnalysis' by advanced analysts"
   ]
  },
  {
   "cell_type": "code",
   "execution_count": 8,
   "metadata": {},
   "outputs": [
    {
     "data": {
      "application/vnd.plotly.v1+json": {
       "config": {
        "plotlyServerURL": "https://plot.ly"
       },
       "data": [
        {
         "mode": "lines",
         "name": "3 Orgs net (10 advanced analysts)",
         "type": "scatter",
         "uid": "16e6f977-78a1-40e6-bc89-8fea318c7c09",
         "x": [
          500,
          1000,
          1500
         ],
         "y": [
          1.2625,
          1.25,
          1.3666
         ]
        },
        {
         "mode": "lines",
         "name": "3 Orgs net (20 advanced analysts)",
         "type": "scatter",
         "uid": "c3ed5d8d-ce5b-41bf-94c9-42128502cfd4",
         "x": [
          500,
          1000,
          1500
         ],
         "y": [
          1.4535,
          1.2945,
          1.2611
         ]
        },
        {
         "mode": "lines",
         "name": "5 Orgs net (10 advanced analysts)",
         "type": "scatter",
         "uid": "df6ef779-a46c-45d0-8ce9-20ab5b08a784",
         "x": [
          500,
          1000,
          1500
         ],
         "y": [
          1.3117,
          1.3353,
          1.3949
         ]
        },
        {
         "mode": "lines",
         "name": "5 Orgs net (20 advanced analysts)",
         "type": "scatter",
         "uid": "113b8578-8180-4ec1-819a-1b4fec1b91f1",
         "x": [
          500,
          1000,
          1500
         ],
         "y": [
          1.6839,
          1.4699,
          1.6484
         ]
        }
       ],
       "layout": {
        "barmode": "group",
        "title": {
         "text": "Executing transaction 'AddAnalysis' with different number of tubes and different number of advanced analysts (250 KB)"
        },
        "xaxis": {
         "range": [
          500,
          1500
         ],
         "title": {
          "text": "Number of tubes"
         }
        },
        "yaxis": {
         "range": [
          1,
          4
         ],
         "title": {
          "text": "Average response time (s)"
         }
        }
       }
      },
      "text/html": [
       "<div>\n",
       "        \n",
       "        \n",
       "            <div id=\"2ffa5823-0e53-4c64-9588-e8973434ec0f\" class=\"plotly-graph-div\" style=\"height:525px; width:100%;\"></div>\n",
       "            <script type=\"text/javascript\">\n",
       "                require([\"plotly\"], function(Plotly) {\n",
       "                    window.PLOTLYENV=window.PLOTLYENV || {};\n",
       "                    window.PLOTLYENV.BASE_URL='https://plot.ly';\n",
       "                    \n",
       "                if (document.getElementById(\"2ffa5823-0e53-4c64-9588-e8973434ec0f\")) {\n",
       "                    Plotly.newPlot(\n",
       "                        '2ffa5823-0e53-4c64-9588-e8973434ec0f',\n",
       "                        [{\"mode\": \"lines\", \"name\": \"3 Orgs net (10 advanced analysts)\", \"type\": \"scatter\", \"uid\": \"16e6f977-78a1-40e6-bc89-8fea318c7c09\", \"x\": [500, 1000, 1500], \"y\": [1.2625, 1.25, 1.3666]}, {\"mode\": \"lines\", \"name\": \"3 Orgs net (20 advanced analysts)\", \"type\": \"scatter\", \"uid\": \"c3ed5d8d-ce5b-41bf-94c9-42128502cfd4\", \"x\": [500, 1000, 1500], \"y\": [1.4535, 1.2945, 1.2611]}, {\"mode\": \"lines\", \"name\": \"5 Orgs net (10 advanced analysts)\", \"type\": \"scatter\", \"uid\": \"df6ef779-a46c-45d0-8ce9-20ab5b08a784\", \"x\": [500, 1000, 1500], \"y\": [1.3117, 1.3353, 1.3949]}, {\"mode\": \"lines\", \"name\": \"5 Orgs net (20 advanced analysts)\", \"type\": \"scatter\", \"uid\": \"113b8578-8180-4ec1-819a-1b4fec1b91f1\", \"x\": [500, 1000, 1500], \"y\": [1.6839, 1.4699, 1.6484]}],\n",
       "                        {\"barmode\": \"group\", \"title\": {\"text\": \"Executing transaction 'AddAnalysis' with different number of tubes and different number of advanced analysts (250 KB)\"}, \"xaxis\": {\"range\": [500, 1500], \"title\": {\"text\": \"Number of tubes\"}}, \"yaxis\": {\"range\": [1.0, 4.0], \"title\": {\"text\": \"Average response time (s)\"}}},\n",
       "                        {\"plotlyServerURL\": \"https://plot.ly\", \"responsive\": true}\n",
       "                    ).then(function(){\n",
       "                            \n",
       "var gd = document.getElementById('2ffa5823-0e53-4c64-9588-e8973434ec0f');\n",
       "var x = new MutationObserver(function (mutations, observer) {{\n",
       "        var display = window.getComputedStyle(gd).display;\n",
       "        if (!display || display === 'none') {{\n",
       "            console.log([gd, 'removed!']);\n",
       "            Plotly.purge(gd);\n",
       "            observer.disconnect();\n",
       "        }}\n",
       "}});\n",
       "\n",
       "// Listen for the removal of the full notebook cells\n",
       "var notebookContainer = gd.closest('#notebook-container');\n",
       "if (notebookContainer) {{\n",
       "    x.observe(notebookContainer, {childList: true});\n",
       "}}\n",
       "\n",
       "// Listen for the clearing of the current output cell\n",
       "var outputEl = gd.closest('.output');\n",
       "if (outputEl) {{\n",
       "    x.observe(outputEl, {childList: true});\n",
       "}}\n",
       "\n",
       "                        })\n",
       "                };\n",
       "                });\n",
       "            </script>\n",
       "        </div>"
      ]
     },
     "metadata": {},
     "output_type": "display_data"
    }
   ],
   "source": [
    "# 3 Orgs net data\n",
    "threeOrgs10 = [1.2625, 1.2500, 1.3666]\n",
    "threeOrgs20 = [1.4535, 1.2945, 1.2611]\n",
    "# 5 Orgs net data\n",
    "fiveOrgs10 = [1.3117, 1.3353, 1.3949]\n",
    "fiveOrgs20 = [1.6839, 1.4699, 1.6484]\n",
    "\n",
    "avgResolution(\"250 KB\", threeOrgs10, threeOrgs20, fiveOrgs10, fiveOrgs20)"
   ]
  },
  {
   "cell_type": "markdown",
   "metadata": {},
   "source": [
    "### Elapsed time adding one resolution per acquisition with different number of advanced analysts"
   ]
  },
  {
   "cell_type": "code",
   "execution_count": 9,
   "metadata": {},
   "outputs": [
    {
     "data": {
      "application/vnd.plotly.v1+json": {
       "config": {
        "plotlyServerURL": "https://plot.ly"
       },
       "data": [
        {
         "mode": "lines",
         "name": "3 Orgs net (10 advanced analysts)",
         "type": "scatter",
         "uid": "9c8f67b8-14f9-4930-b0af-c240d88df1c1",
         "x": [
          500,
          1000,
          1500
         ],
         "y": [
          1127.5345,
          2230.7146,
          3378.8443
         ]
        },
        {
         "mode": "lines",
         "name": "3 Orgs net (20 advanced analysts)",
         "type": "scatter",
         "uid": "ec30393b-81a1-4020-a11d-145dab4edc05",
         "x": [
          500,
          1000,
          1500
         ],
         "y": [
          582.8463,
          1126.3205,
          1696.8571
         ]
        },
        {
         "mode": "lines",
         "name": "5 Orgs net (10 advanced analysts)",
         "type": "scatter",
         "uid": "552f8f7d-2f10-4063-8ff4-f77dce6a3713",
         "x": [
          500,
          1000,
          1500
         ],
         "y": [
          1133.3466,
          2254.7335,
          3420.4332
         ]
        },
        {
         "mode": "lines",
         "name": "5 Orgs net (20 advanced analysts)",
         "type": "scatter",
         "uid": "a35cdac7-b49e-4a1d-9d4f-346206518772",
         "x": [
          500,
          1000,
          1500
         ],
         "y": [
          589.8071,
          1160.539,
          1763.8556
         ]
        }
       ],
       "layout": {
        "barmode": "group",
        "title": {
         "text": "Elapsed time adding one analysis per acquisition by advanced analysts, with different number of tubes and different number of analysts (250 KB)"
        },
        "xaxis": {
         "range": [
          500,
          1500
         ],
         "title": {
          "text": "Number of tubes"
         }
        },
        "yaxis": {
         "title": {
          "text": "Average response time (s)"
         }
        }
       }
      },
      "text/html": [
       "<div>\n",
       "        \n",
       "        \n",
       "            <div id=\"1d0b1e92-ba72-47c1-bc7d-a1b79288aea6\" class=\"plotly-graph-div\" style=\"height:525px; width:100%;\"></div>\n",
       "            <script type=\"text/javascript\">\n",
       "                require([\"plotly\"], function(Plotly) {\n",
       "                    window.PLOTLYENV=window.PLOTLYENV || {};\n",
       "                    window.PLOTLYENV.BASE_URL='https://plot.ly';\n",
       "                    \n",
       "                if (document.getElementById(\"1d0b1e92-ba72-47c1-bc7d-a1b79288aea6\")) {\n",
       "                    Plotly.newPlot(\n",
       "                        '1d0b1e92-ba72-47c1-bc7d-a1b79288aea6',\n",
       "                        [{\"mode\": \"lines\", \"name\": \"3 Orgs net (10 advanced analysts)\", \"type\": \"scatter\", \"uid\": \"9c8f67b8-14f9-4930-b0af-c240d88df1c1\", \"x\": [500, 1000, 1500], \"y\": [1127.5345, 2230.7146, 3378.8443]}, {\"mode\": \"lines\", \"name\": \"3 Orgs net (20 advanced analysts)\", \"type\": \"scatter\", \"uid\": \"ec30393b-81a1-4020-a11d-145dab4edc05\", \"x\": [500, 1000, 1500], \"y\": [582.8463, 1126.3205, 1696.8571]}, {\"mode\": \"lines\", \"name\": \"5 Orgs net (10 advanced analysts)\", \"type\": \"scatter\", \"uid\": \"552f8f7d-2f10-4063-8ff4-f77dce6a3713\", \"x\": [500, 1000, 1500], \"y\": [1133.3466, 2254.7335, 3420.4332]}, {\"mode\": \"lines\", \"name\": \"5 Orgs net (20 advanced analysts)\", \"type\": \"scatter\", \"uid\": \"a35cdac7-b49e-4a1d-9d4f-346206518772\", \"x\": [500, 1000, 1500], \"y\": [589.8071, 1160.539, 1763.8556]}],\n",
       "                        {\"barmode\": \"group\", \"title\": {\"text\": \"Elapsed time adding one analysis per acquisition by advanced analysts, with different number of tubes and different number of analysts (250 KB)\"}, \"xaxis\": {\"range\": [500, 1500], \"title\": {\"text\": \"Number of tubes\"}}, \"yaxis\": {\"title\": {\"text\": \"Average response time (s)\"}}},\n",
       "                        {\"plotlyServerURL\": \"https://plot.ly\", \"responsive\": true}\n",
       "                    ).then(function(){\n",
       "                            \n",
       "var gd = document.getElementById('1d0b1e92-ba72-47c1-bc7d-a1b79288aea6');\n",
       "var x = new MutationObserver(function (mutations, observer) {{\n",
       "        var display = window.getComputedStyle(gd).display;\n",
       "        if (!display || display === 'none') {{\n",
       "            console.log([gd, 'removed!']);\n",
       "            Plotly.purge(gd);\n",
       "            observer.disconnect();\n",
       "        }}\n",
       "}});\n",
       "\n",
       "// Listen for the removal of the full notebook cells\n",
       "var notebookContainer = gd.closest('#notebook-container');\n",
       "if (notebookContainer) {{\n",
       "    x.observe(notebookContainer, {childList: true});\n",
       "}}\n",
       "\n",
       "// Listen for the clearing of the current output cell\n",
       "var outputEl = gd.closest('.output');\n",
       "if (outputEl) {{\n",
       "    x.observe(outputEl, {childList: true});\n",
       "}}\n",
       "\n",
       "                        })\n",
       "                };\n",
       "                });\n",
       "            </script>\n",
       "        </div>"
      ]
     },
     "metadata": {},
     "output_type": "display_data"
    }
   ],
   "source": [
    "# 3 Orgs net data\n",
    "threeOrgs10 = [1127.5345, 2230.7146, 3378.8443]\n",
    "threeOrgs20 = [582.8463, 1126.3205, 1696.8571]\n",
    "# 5 Orgs net data\n",
    "fiveOrgs10 = [1133.3466, 2254.7335, 3420.4332]\n",
    "fiveOrgs20 = [589.8071, 1160.5390, 1763.8556]\n",
    "\n",
    "totalResolution(\"250 KB\", threeOrgs10, threeOrgs20, fiveOrgs10, fiveOrgs20)"
   ]
  }
 ],
 "metadata": {
  "kernelspec": {
   "display_name": "Python 3",
   "language": "python",
   "name": "python3"
  },
  "language_info": {
   "codemirror_mode": {
    "name": "ipython",
    "version": 3
   },
   "file_extension": ".py",
   "mimetype": "text/x-python",
   "name": "python",
   "nbconvert_exporter": "python",
   "pygments_lexer": "ipython3",
   "version": "3.6.4"
  }
 },
 "nbformat": 4,
 "nbformat_minor": 2
}
