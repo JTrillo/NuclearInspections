{
 "cells": [
  {
   "cell_type": "markdown",
   "metadata": {},
   "source": [
    "# Chart generator. File size fixed (250 KB)"
   ]
  },
  {
   "cell_type": "markdown",
   "metadata": {},
   "source": [
    "### Imports"
   ]
  },
  {
   "cell_type": "code",
   "execution_count": 1,
   "metadata": {},
   "outputs": [
    {
     "data": {
      "text/html": [
       "        <script type=\"text/javascript\">\n",
       "        window.PlotlyConfig = {MathJaxConfig: 'local'};\n",
       "        if (window.MathJax) {MathJax.Hub.Config({SVG: {font: \"STIX-Web\"}});}\n",
       "        if (typeof require !== 'undefined') {\n",
       "        require.undef(\"plotly\");\n",
       "        requirejs.config({\n",
       "            paths: {\n",
       "                'plotly': ['https://cdn.plot.ly/plotly-latest.min']\n",
       "            }\n",
       "        });\n",
       "        require(['plotly'], function(Plotly) {\n",
       "            window._Plotly = Plotly;\n",
       "        });\n",
       "        }\n",
       "        </script>\n",
       "        "
      ]
     },
     "metadata": {},
     "output_type": "display_data"
    }
   ],
   "source": [
    "import sys\n",
    "sys.path.insert(1, '..\\code')\n",
    "from charts import *\n",
    "import plotly\n",
    "plotly.offline.init_notebook_mode(connected=True)"
   ]
  },
  {
   "cell_type": "markdown",
   "metadata": {},
   "source": [
    "### Average times when executing tx 'AddAcquisition'"
   ]
  },
  {
   "cell_type": "code",
   "execution_count": 2,
   "metadata": {},
   "outputs": [
    {
     "data": {
      "application/vnd.plotly.v1+json": {
       "config": {
        "plotlyServerURL": "https://plot.ly",
        "toImageButtonOptions": {
         "filename": "avgAcq_fileSizeFixed"
        }
       },
       "data": [
        {
         "mode": "lines",
         "name": "3 Orgs net",
         "type": "scatter",
         "uid": "0bf032ad-985e-4c69-b35b-34254bfc4cb4",
         "x": [
          500,
          1000,
          1500
         ],
         "y": [
          1.2557,
          1.2584,
          1.2733
         ]
        },
        {
         "mode": "lines",
         "name": "5 Orgs net",
         "type": "scatter",
         "uid": "14d35f6a-4514-4f9e-a8c9-af01f777b0be",
         "x": [
          500,
          1000,
          1500
         ],
         "y": [
          1.316,
          1.3037,
          1.2938
         ]
        }
       ],
       "layout": {
        "barmode": "group",
        "title": {
         "text": "Executing transaction 'AddAcquisition' with different number of tubes (250 KB)"
        },
        "xaxis": {
         "range": [
          500,
          1500
         ],
         "title": {
          "text": "Number of tubes"
         }
        },
        "yaxis": {
         "range": [
          1,
          4
         ],
         "title": {
          "text": "Average response time (s)"
         }
        }
       }
      },
      "text/html": [
       "<div>\n",
       "        \n",
       "        \n",
       "            <div id=\"d15a2652-1595-4934-9eb8-0e64b1e3e478\" class=\"plotly-graph-div\" style=\"height:525px; width:100%;\"></div>\n",
       "            <script type=\"text/javascript\">\n",
       "                require([\"plotly\"], function(Plotly) {\n",
       "                    window.PLOTLYENV=window.PLOTLYENV || {};\n",
       "                    window.PLOTLYENV.BASE_URL='https://plot.ly';\n",
       "                    \n",
       "                if (document.getElementById(\"d15a2652-1595-4934-9eb8-0e64b1e3e478\")) {\n",
       "                    Plotly.newPlot(\n",
       "                        'd15a2652-1595-4934-9eb8-0e64b1e3e478',\n",
       "                        [{\"mode\": \"lines\", \"name\": \"3 Orgs net\", \"type\": \"scatter\", \"uid\": \"0bf032ad-985e-4c69-b35b-34254bfc4cb4\", \"x\": [500, 1000, 1500], \"y\": [1.2557, 1.2584, 1.2733]}, {\"mode\": \"lines\", \"name\": \"5 Orgs net\", \"type\": \"scatter\", \"uid\": \"14d35f6a-4514-4f9e-a8c9-af01f777b0be\", \"x\": [500, 1000, 1500], \"y\": [1.316, 1.3037, 1.2938]}],\n",
       "                        {\"barmode\": \"group\", \"title\": {\"text\": \"Executing transaction 'AddAcquisition' with different number of tubes (250 KB)\"}, \"xaxis\": {\"range\": [500, 1500], \"title\": {\"text\": \"Number of tubes\"}}, \"yaxis\": {\"range\": [1.0, 4.0], \"title\": {\"text\": \"Average response time (s)\"}}},\n",
       "                        {\"toImageButtonOptions\": {\"filename\": \"avgAcq_fileSizeFixed\"}, \"plotlyServerURL\": \"https://plot.ly\", \"responsive\": true}\n",
       "                    ).then(function(){\n",
       "                            \n",
       "var gd = document.getElementById('d15a2652-1595-4934-9eb8-0e64b1e3e478');\n",
       "var x = new MutationObserver(function (mutations, observer) {{\n",
       "        var display = window.getComputedStyle(gd).display;\n",
       "        if (!display || display === 'none') {{\n",
       "            console.log([gd, 'removed!']);\n",
       "            Plotly.purge(gd);\n",
       "            observer.disconnect();\n",
       "        }}\n",
       "}});\n",
       "\n",
       "// Listen for the removal of the full notebook cells\n",
       "var notebookContainer = gd.closest('#notebook-container');\n",
       "if (notebookContainer) {{\n",
       "    x.observe(notebookContainer, {childList: true});\n",
       "}}\n",
       "\n",
       "// Listen for the clearing of the current output cell\n",
       "var outputEl = gd.closest('.output');\n",
       "if (outputEl) {{\n",
       "    x.observe(outputEl, {childList: true});\n",
       "}}\n",
       "\n",
       "                        })\n",
       "                };\n",
       "                });\n",
       "            </script>\n",
       "        </div>"
      ]
     },
     "metadata": {},
     "output_type": "display_data"
    }
   ],
   "source": [
    "# 3 Orgs net data\n",
    "threeOrgs = [1.2557, 1.2584, 1.2733]\n",
    "# 5 Orgs net data\n",
    "fiveOrgs = [1.3160, 1.3037, 1.2938]\n",
    "\n",
    "avgAcquisition(\"250 KB\", threeOrgs, fiveOrgs)"
   ]
  },
  {
   "cell_type": "markdown",
   "metadata": {},
   "source": [
    "### Elapsed time adding one acquisition per tube, with different number of tubes"
   ]
  },
  {
   "cell_type": "code",
   "execution_count": 3,
   "metadata": {},
   "outputs": [
    {
     "data": {
      "application/vnd.plotly.v1+json": {
       "config": {
        "plotlyServerURL": "https://plot.ly",
        "toImageButtonOptions": {
         "filename": "totalAcq_fileSizeFixed"
        }
       },
       "data": [
        {
         "mode": "lines",
         "name": "3 Orgs net",
         "type": "scatter",
         "uid": "8bdb9d3a-1c89-41b7-8c0c-29a7344a1801",
         "x": [
          500,
          1000,
          1500
         ],
         "y": [
          862.7493,
          1738.8425,
          2625.2902
         ]
        },
        {
         "mode": "lines",
         "name": "5 Orgs net",
         "type": "scatter",
         "uid": "ee99a1e1-4aa2-41ba-9eba-e377df8bd606",
         "x": [
          500,
          1000,
          1500
         ],
         "y": [
          1054.9542,
          1919.9872,
          2711.5517
         ]
        }
       ],
       "layout": {
        "barmode": "group",
        "title": {
         "text": "Elapsed time adding one acquisition per tube, with different number of tubes (250 KB)"
        },
        "xaxis": {
         "range": [
          500,
          1500
         ],
         "title": {
          "text": "Number of tubes"
         }
        },
        "yaxis": {
         "title": {
          "text": "Total elapsed time (s)"
         }
        }
       }
      },
      "text/html": [
       "<div>\n",
       "        \n",
       "        \n",
       "            <div id=\"5d5f8fd3-d8e6-4440-9ca3-e03c4d8084eb\" class=\"plotly-graph-div\" style=\"height:525px; width:100%;\"></div>\n",
       "            <script type=\"text/javascript\">\n",
       "                require([\"plotly\"], function(Plotly) {\n",
       "                    window.PLOTLYENV=window.PLOTLYENV || {};\n",
       "                    window.PLOTLYENV.BASE_URL='https://plot.ly';\n",
       "                    \n",
       "                if (document.getElementById(\"5d5f8fd3-d8e6-4440-9ca3-e03c4d8084eb\")) {\n",
       "                    Plotly.newPlot(\n",
       "                        '5d5f8fd3-d8e6-4440-9ca3-e03c4d8084eb',\n",
       "                        [{\"mode\": \"lines\", \"name\": \"3 Orgs net\", \"type\": \"scatter\", \"uid\": \"8bdb9d3a-1c89-41b7-8c0c-29a7344a1801\", \"x\": [500, 1000, 1500], \"y\": [862.7493, 1738.8425, 2625.2902]}, {\"mode\": \"lines\", \"name\": \"5 Orgs net\", \"type\": \"scatter\", \"uid\": \"ee99a1e1-4aa2-41ba-9eba-e377df8bd606\", \"x\": [500, 1000, 1500], \"y\": [1054.9542, 1919.9872, 2711.5517]}],\n",
       "                        {\"barmode\": \"group\", \"title\": {\"text\": \"Elapsed time adding one acquisition per tube, with different number of tubes (250 KB)\"}, \"xaxis\": {\"range\": [500, 1500], \"title\": {\"text\": \"Number of tubes\"}}, \"yaxis\": {\"title\": {\"text\": \"Total elapsed time (s)\"}}},\n",
       "                        {\"toImageButtonOptions\": {\"filename\": \"totalAcq_fileSizeFixed\"}, \"plotlyServerURL\": \"https://plot.ly\", \"responsive\": true}\n",
       "                    ).then(function(){\n",
       "                            \n",
       "var gd = document.getElementById('5d5f8fd3-d8e6-4440-9ca3-e03c4d8084eb');\n",
       "var x = new MutationObserver(function (mutations, observer) {{\n",
       "        var display = window.getComputedStyle(gd).display;\n",
       "        if (!display || display === 'none') {{\n",
       "            console.log([gd, 'removed!']);\n",
       "            Plotly.purge(gd);\n",
       "            observer.disconnect();\n",
       "        }}\n",
       "}});\n",
       "\n",
       "// Listen for the removal of the full notebook cells\n",
       "var notebookContainer = gd.closest('#notebook-container');\n",
       "if (notebookContainer) {{\n",
       "    x.observe(notebookContainer, {childList: true});\n",
       "}}\n",
       "\n",
       "// Listen for the clearing of the current output cell\n",
       "var outputEl = gd.closest('.output');\n",
       "if (outputEl) {{\n",
       "    x.observe(outputEl, {childList: true});\n",
       "}}\n",
       "\n",
       "                        })\n",
       "                };\n",
       "                });\n",
       "            </script>\n",
       "        </div>"
      ]
     },
     "metadata": {},
     "output_type": "display_data"
    }
   ],
   "source": [
    "# 3 Orgs net data\n",
    "threeOrgs = [862.7493, 1738.8425, 2625.2902]\n",
    "# 5 Orgs net data\n",
    "fiveOrgs = [1054.9542, 1919.9872, 2711.5517]\n",
    "\n",
    "totalAcquisition(\"250 KB\", threeOrgs, fiveOrgs)"
   ]
  },
  {
   "cell_type": "markdown",
   "metadata": {},
   "source": [
    "### Average times when executing tx 'AddAutomaticAnalysis'"
   ]
  },
  {
   "cell_type": "code",
   "execution_count": 4,
   "metadata": {},
   "outputs": [
    {
     "data": {
      "application/vnd.plotly.v1+json": {
       "config": {
        "plotlyServerURL": "https://plot.ly",
        "toImageButtonOptions": {
         "filename": "avgAuto_fileSizeFixed"
        }
       },
       "data": [
        {
         "mode": "lines",
         "name": "3 Orgs net",
         "type": "scatter",
         "uid": "8004f8e9-aad7-422e-a741-7dd7b7900a17",
         "x": [
          500,
          1000,
          1500
         ],
         "y": [
          14.5715,
          14.1668,
          14.8436
         ]
        },
        {
         "mode": "lines",
         "name": "5 Orgs net",
         "type": "scatter",
         "uid": "cc14e3b2-8f72-4900-9ca3-673ea80360b9",
         "x": [
          500,
          1000,
          1500
         ],
         "y": [
          15.2297,
          16.172,
          16.3144
         ]
        }
       ],
       "layout": {
        "barmode": "group",
        "title": {
         "text": "Executing transaction 'AddAutomaticAnalysis' with different number of tubes (250 KB)"
        },
        "xaxis": {
         "range": [
          500,
          1500
         ],
         "title": {
          "text": "Number of tubes"
         }
        },
        "yaxis": {
         "range": [
          10,
          17
         ],
         "title": {
          "text": "Average response time (s)"
         }
        }
       }
      },
      "text/html": [
       "<div>\n",
       "        \n",
       "        \n",
       "            <div id=\"2485e423-58d5-4720-b534-f40156c498cc\" class=\"plotly-graph-div\" style=\"height:525px; width:100%;\"></div>\n",
       "            <script type=\"text/javascript\">\n",
       "                require([\"plotly\"], function(Plotly) {\n",
       "                    window.PLOTLYENV=window.PLOTLYENV || {};\n",
       "                    window.PLOTLYENV.BASE_URL='https://plot.ly';\n",
       "                    \n",
       "                if (document.getElementById(\"2485e423-58d5-4720-b534-f40156c498cc\")) {\n",
       "                    Plotly.newPlot(\n",
       "                        '2485e423-58d5-4720-b534-f40156c498cc',\n",
       "                        [{\"mode\": \"lines\", \"name\": \"3 Orgs net\", \"type\": \"scatter\", \"uid\": \"8004f8e9-aad7-422e-a741-7dd7b7900a17\", \"x\": [500, 1000, 1500], \"y\": [14.5715, 14.1668, 14.8436]}, {\"mode\": \"lines\", \"name\": \"5 Orgs net\", \"type\": \"scatter\", \"uid\": \"cc14e3b2-8f72-4900-9ca3-673ea80360b9\", \"x\": [500, 1000, 1500], \"y\": [15.2297, 16.172, 16.3144]}],\n",
       "                        {\"barmode\": \"group\", \"title\": {\"text\": \"Executing transaction 'AddAutomaticAnalysis' with different number of tubes (250 KB)\"}, \"xaxis\": {\"range\": [500, 1500], \"title\": {\"text\": \"Number of tubes\"}}, \"yaxis\": {\"range\": [10.0, 17.0], \"title\": {\"text\": \"Average response time (s)\"}}},\n",
       "                        {\"toImageButtonOptions\": {\"filename\": \"avgAuto_fileSizeFixed\"}, \"plotlyServerURL\": \"https://plot.ly\", \"responsive\": true}\n",
       "                    ).then(function(){\n",
       "                            \n",
       "var gd = document.getElementById('2485e423-58d5-4720-b534-f40156c498cc');\n",
       "var x = new MutationObserver(function (mutations, observer) {{\n",
       "        var display = window.getComputedStyle(gd).display;\n",
       "        if (!display || display === 'none') {{\n",
       "            console.log([gd, 'removed!']);\n",
       "            Plotly.purge(gd);\n",
       "            observer.disconnect();\n",
       "        }}\n",
       "}});\n",
       "\n",
       "// Listen for the removal of the full notebook cells\n",
       "var notebookContainer = gd.closest('#notebook-container');\n",
       "if (notebookContainer) {{\n",
       "    x.observe(notebookContainer, {childList: true});\n",
       "}}\n",
       "\n",
       "// Listen for the clearing of the current output cell\n",
       "var outputEl = gd.closest('.output');\n",
       "if (outputEl) {{\n",
       "    x.observe(outputEl, {childList: true});\n",
       "}}\n",
       "\n",
       "                        })\n",
       "                };\n",
       "                });\n",
       "            </script>\n",
       "        </div>"
      ]
     },
     "metadata": {},
     "output_type": "display_data"
    }
   ],
   "source": [
    "# 3 Orgs net data\n",
    "threeOrgs = [14.5715, 14.1668, 14.8436]\n",
    "# 5 Orgs net data\n",
    "fiveOrgs = [15.2297, 16.1720, 16.3144]\n",
    "\n",
    "avgAutoAnalysis(\"250 KB\", threeOrgs, fiveOrgs)"
   ]
  },
  {
   "cell_type": "markdown",
   "metadata": {},
   "source": [
    "### Elapsed time adding one automatic analysis per acquisition"
   ]
  },
  {
   "cell_type": "code",
   "execution_count": 5,
   "metadata": {},
   "outputs": [
    {
     "data": {
      "application/vnd.plotly.v1+json": {
       "config": {
        "plotlyServerURL": "https://plot.ly",
        "toImageButtonOptions": {
         "filename": "totalAuto_fileSizeFixed"
        }
       },
       "data": [
        {
         "mode": "lines",
         "name": "3 Orgs net",
         "type": "scatter",
         "uid": "0d9049e7-ed8c-40db-8a2f-ffec0e8187bd",
         "x": [
          500,
          1000,
          1500
         ],
         "y": [
          7463.6009,
          14518.7505,
          22794.0377
         ]
        },
        {
         "mode": "lines",
         "name": "5 Orgs net",
         "type": "scatter",
         "uid": "353945d2-70cf-41bc-87e7-1f0123dc1c7b",
         "x": [
          500,
          1000,
          1500
         ],
         "y": [
          7797.885,
          16492.8621,
          24951.5748
         ]
        }
       ],
       "layout": {
        "barmode": "group",
        "title": {
         "text": "Elapsed time adding one automatic analysis per acquisition, with different number of tubes (250 KB)"
        },
        "xaxis": {
         "range": [
          500,
          1500
         ],
         "title": {
          "text": "Number of tubes"
         }
        },
        "yaxis": {
         "title": {
          "text": "Total elapsed time (s)"
         }
        }
       }
      },
      "text/html": [
       "<div>\n",
       "        \n",
       "        \n",
       "            <div id=\"ad8fd0c9-a459-4ff0-96d1-fb0b47cd52d0\" class=\"plotly-graph-div\" style=\"height:525px; width:100%;\"></div>\n",
       "            <script type=\"text/javascript\">\n",
       "                require([\"plotly\"], function(Plotly) {\n",
       "                    window.PLOTLYENV=window.PLOTLYENV || {};\n",
       "                    window.PLOTLYENV.BASE_URL='https://plot.ly';\n",
       "                    \n",
       "                if (document.getElementById(\"ad8fd0c9-a459-4ff0-96d1-fb0b47cd52d0\")) {\n",
       "                    Plotly.newPlot(\n",
       "                        'ad8fd0c9-a459-4ff0-96d1-fb0b47cd52d0',\n",
       "                        [{\"mode\": \"lines\", \"name\": \"3 Orgs net\", \"type\": \"scatter\", \"uid\": \"0d9049e7-ed8c-40db-8a2f-ffec0e8187bd\", \"x\": [500, 1000, 1500], \"y\": [7463.6009, 14518.7505, 22794.0377]}, {\"mode\": \"lines\", \"name\": \"5 Orgs net\", \"type\": \"scatter\", \"uid\": \"353945d2-70cf-41bc-87e7-1f0123dc1c7b\", \"x\": [500, 1000, 1500], \"y\": [7797.885, 16492.8621, 24951.5748]}],\n",
       "                        {\"barmode\": \"group\", \"title\": {\"text\": \"Elapsed time adding one automatic analysis per acquisition, with different number of tubes (250 KB)\"}, \"xaxis\": {\"range\": [500, 1500], \"title\": {\"text\": \"Number of tubes\"}}, \"yaxis\": {\"title\": {\"text\": \"Total elapsed time (s)\"}}},\n",
       "                        {\"toImageButtonOptions\": {\"filename\": \"totalAuto_fileSizeFixed\"}, \"plotlyServerURL\": \"https://plot.ly\", \"responsive\": true}\n",
       "                    ).then(function(){\n",
       "                            \n",
       "var gd = document.getElementById('ad8fd0c9-a459-4ff0-96d1-fb0b47cd52d0');\n",
       "var x = new MutationObserver(function (mutations, observer) {{\n",
       "        var display = window.getComputedStyle(gd).display;\n",
       "        if (!display || display === 'none') {{\n",
       "            console.log([gd, 'removed!']);\n",
       "            Plotly.purge(gd);\n",
       "            observer.disconnect();\n",
       "        }}\n",
       "}});\n",
       "\n",
       "// Listen for the removal of the full notebook cells\n",
       "var notebookContainer = gd.closest('#notebook-container');\n",
       "if (notebookContainer) {{\n",
       "    x.observe(notebookContainer, {childList: true});\n",
       "}}\n",
       "\n",
       "// Listen for the clearing of the current output cell\n",
       "var outputEl = gd.closest('.output');\n",
       "if (outputEl) {{\n",
       "    x.observe(outputEl, {childList: true});\n",
       "}}\n",
       "\n",
       "                        })\n",
       "                };\n",
       "                });\n",
       "            </script>\n",
       "        </div>"
      ]
     },
     "metadata": {},
     "output_type": "display_data"
    }
   ],
   "source": [
    "# 3 Orgs net data\n",
    "threeOrgs = [7463.6009, 14518.7505, 22794.0377]\n",
    "# 5 Orgs net data\n",
    "fiveOrgs = [7797.8850, 16492.8621, 24951.5748]\n",
    "\n",
    "totalAutoAnalysis(\"250 KB\", threeOrgs, fiveOrgs)"
   ]
  },
  {
   "cell_type": "markdown",
   "metadata": {},
   "source": [
    "### Average times when executing tx 'AddAnalysis' by analysts"
   ]
  },
  {
   "cell_type": "code",
   "execution_count": 6,
   "metadata": {},
   "outputs": [
    {
     "data": {
      "application/vnd.plotly.v1+json": {
       "config": {
        "plotlyServerURL": "https://plot.ly",
        "toImageButtonOptions": {
         "filename": "avgAnalysis_fileSizeFixed"
        }
       },
       "data": [
        {
         "mode": "lines",
         "name": "3 Orgs net (10 analysts per role)",
         "type": "scatter",
         "uid": "1c1ab7c4-a4d9-48d8-801f-dbc264b151a2",
         "x": [
          500,
          1000,
          1500
         ],
         "y": [
          1.4509,
          1.2117,
          1.2511
         ]
        },
        {
         "mode": "lines",
         "name": "3 Orgs net (20 analysts per role)",
         "type": "scatter",
         "uid": "1e9724c6-20ca-4ec7-ac33-ac48cb01d603",
         "x": [
          500,
          1000,
          1500
         ],
         "y": [
          1.6969,
          1.3378,
          1.2801
         ]
        },
        {
         "mode": "lines",
         "name": "5 Orgs net (10 analysts per role)",
         "type": "scatter",
         "uid": "a587a18b-f81e-4779-b65f-656340ca74c8",
         "x": [
          500,
          1000,
          1500
         ],
         "y": [
          1.5105,
          1.3361,
          1.3891
         ]
        },
        {
         "mode": "lines",
         "name": "5 Orgs net (20 analysts per role)",
         "type": "scatter",
         "uid": "787e4b23-cc24-4642-a187-cf284d628257",
         "x": [
          500,
          1000,
          1500
         ],
         "y": [
          1.7422,
          1.5659,
          1.3711
         ]
        }
       ],
       "layout": {
        "barmode": "group",
        "title": {
         "text": "Executing transaction 'AddAnalysis' with different number of tubes and different number of analysts (250 KB)"
        },
        "xaxis": {
         "range": [
          500,
          1500
         ],
         "title": {
          "text": "Number of tubes"
         }
        },
        "yaxis": {
         "range": [
          1,
          4
         ],
         "title": {
          "text": "Average response time (s)"
         }
        }
       }
      },
      "text/html": [
       "<div>\n",
       "        \n",
       "        \n",
       "            <div id=\"3de1a778-6e87-47dc-a48d-2c9495270e72\" class=\"plotly-graph-div\" style=\"height:525px; width:100%;\"></div>\n",
       "            <script type=\"text/javascript\">\n",
       "                require([\"plotly\"], function(Plotly) {\n",
       "                    window.PLOTLYENV=window.PLOTLYENV || {};\n",
       "                    window.PLOTLYENV.BASE_URL='https://plot.ly';\n",
       "                    \n",
       "                if (document.getElementById(\"3de1a778-6e87-47dc-a48d-2c9495270e72\")) {\n",
       "                    Plotly.newPlot(\n",
       "                        '3de1a778-6e87-47dc-a48d-2c9495270e72',\n",
       "                        [{\"mode\": \"lines\", \"name\": \"3 Orgs net (10 analysts per role)\", \"type\": \"scatter\", \"uid\": \"1c1ab7c4-a4d9-48d8-801f-dbc264b151a2\", \"x\": [500, 1000, 1500], \"y\": [1.4509, 1.2117, 1.2511]}, {\"mode\": \"lines\", \"name\": \"3 Orgs net (20 analysts per role)\", \"type\": \"scatter\", \"uid\": \"1e9724c6-20ca-4ec7-ac33-ac48cb01d603\", \"x\": [500, 1000, 1500], \"y\": [1.6969, 1.3378, 1.2801]}, {\"mode\": \"lines\", \"name\": \"5 Orgs net (10 analysts per role)\", \"type\": \"scatter\", \"uid\": \"a587a18b-f81e-4779-b65f-656340ca74c8\", \"x\": [500, 1000, 1500], \"y\": [1.5105, 1.3361, 1.3891]}, {\"mode\": \"lines\", \"name\": \"5 Orgs net (20 analysts per role)\", \"type\": \"scatter\", \"uid\": \"787e4b23-cc24-4642-a187-cf284d628257\", \"x\": [500, 1000, 1500], \"y\": [1.7422, 1.5659, 1.3711]}],\n",
       "                        {\"barmode\": \"group\", \"title\": {\"text\": \"Executing transaction 'AddAnalysis' with different number of tubes and different number of analysts (250 KB)\"}, \"xaxis\": {\"range\": [500, 1500], \"title\": {\"text\": \"Number of tubes\"}}, \"yaxis\": {\"range\": [1.0, 4.0], \"title\": {\"text\": \"Average response time (s)\"}}},\n",
       "                        {\"toImageButtonOptions\": {\"filename\": \"avgAnalysis_fileSizeFixed\"}, \"plotlyServerURL\": \"https://plot.ly\", \"responsive\": true}\n",
       "                    ).then(function(){\n",
       "                            \n",
       "var gd = document.getElementById('3de1a778-6e87-47dc-a48d-2c9495270e72');\n",
       "var x = new MutationObserver(function (mutations, observer) {{\n",
       "        var display = window.getComputedStyle(gd).display;\n",
       "        if (!display || display === 'none') {{\n",
       "            console.log([gd, 'removed!']);\n",
       "            Plotly.purge(gd);\n",
       "            observer.disconnect();\n",
       "        }}\n",
       "}});\n",
       "\n",
       "// Listen for the removal of the full notebook cells\n",
       "var notebookContainer = gd.closest('#notebook-container');\n",
       "if (notebookContainer) {{\n",
       "    x.observe(notebookContainer, {childList: true});\n",
       "}}\n",
       "\n",
       "// Listen for the clearing of the current output cell\n",
       "var outputEl = gd.closest('.output');\n",
       "if (outputEl) {{\n",
       "    x.observe(outputEl, {childList: true});\n",
       "}}\n",
       "\n",
       "                        })\n",
       "                };\n",
       "                });\n",
       "            </script>\n",
       "        </div>"
      ]
     },
     "metadata": {},
     "output_type": "display_data"
    }
   ],
   "source": [
    "# 3 Orgs net data\n",
    "threeOrgs10 = [1.4509, 1.2117, 1.2511]\n",
    "threeOrgs20 = [1.6969, 1.3378, 1.2801]\n",
    "# 5 Orgs net data\n",
    "fiveOrgs10 = [1.5105, 1.3361, 1.3891]\n",
    "fiveOrgs20 = [1.7422, 1.5659, 1.3711]\n",
    "\n",
    "avgAnalysis(\"250 KB\", threeOrgs10, threeOrgs20, fiveOrgs10, fiveOrgs20)"
   ]
  },
  {
   "cell_type": "markdown",
   "metadata": {},
   "source": [
    "### Elapsed time adding two analyses per acquisition with different number of analysts"
   ]
  },
  {
   "cell_type": "code",
   "execution_count": 7,
   "metadata": {},
   "outputs": [
    {
     "data": {
      "application/vnd.plotly.v1+json": {
       "config": {
        "plotlyServerURL": "https://plot.ly",
        "toImageButtonOptions": {
         "filename": "totalAnalysis_fileSizeFixed"
        }
       },
       "data": [
        {
         "mode": "lines",
         "name": "3 Orgs net (10 analysts per role)",
         "type": "scatter",
         "uid": "7adb94cf-b7b3-4c30-90f6-d57461a6f057",
         "x": [
          500,
          1000,
          1500
         ],
         "y": [
          1148.1137,
          2248.1675,
          3363.0079
         ]
        },
        {
         "mode": "lines",
         "name": "3 Orgs net (20 analysts per role)",
         "type": "scatter",
         "uid": "27b0f24c-6627-4851-8058-4c8069140aa6",
         "x": [
          500,
          1000,
          1500
         ],
         "y": [
          598.9733,
          1144.5899,
          1702.0179
         ]
        },
        {
         "mode": "lines",
         "name": "5 Orgs net (10 analysts per role)",
         "type": "scatter",
         "uid": "8f515165-a188-45e2-9669-15fba6e674ef",
         "x": [
          500,
          1000,
          1500
         ],
         "y": [
          1146.1426,
          2280.5195,
          3421.8409
         ]
        },
        {
         "mode": "lines",
         "name": "5 Orgs net (20 analysts per role)",
         "type": "scatter",
         "uid": "6b5e6125-c5ca-40af-af48-e797ed5ffe52",
         "x": [
          500,
          1000,
          1500
         ],
         "y": [
          612.9806,
          1179.4412,
          1721.3345
         ]
        }
       ],
       "layout": {
        "barmode": "group",
        "title": {
         "text": "Elapsed time adding one analysis per acquisition by primary and secondary analysts, <br> with different number of tubes and different number of analysts (250 KB)"
        },
        "xaxis": {
         "range": [
          500,
          1500
         ],
         "title": {
          "text": "Number of tubes"
         }
        },
        "yaxis": {
         "title": {
          "text": "Average response time (s)"
         }
        }
       }
      },
      "text/html": [
       "<div>\n",
       "        \n",
       "        \n",
       "            <div id=\"0701f70c-86c4-44fb-8389-879d251d0294\" class=\"plotly-graph-div\" style=\"height:525px; width:100%;\"></div>\n",
       "            <script type=\"text/javascript\">\n",
       "                require([\"plotly\"], function(Plotly) {\n",
       "                    window.PLOTLYENV=window.PLOTLYENV || {};\n",
       "                    window.PLOTLYENV.BASE_URL='https://plot.ly';\n",
       "                    \n",
       "                if (document.getElementById(\"0701f70c-86c4-44fb-8389-879d251d0294\")) {\n",
       "                    Plotly.newPlot(\n",
       "                        '0701f70c-86c4-44fb-8389-879d251d0294',\n",
       "                        [{\"mode\": \"lines\", \"name\": \"3 Orgs net (10 analysts per role)\", \"type\": \"scatter\", \"uid\": \"7adb94cf-b7b3-4c30-90f6-d57461a6f057\", \"x\": [500, 1000, 1500], \"y\": [1148.1137, 2248.1675, 3363.0079]}, {\"mode\": \"lines\", \"name\": \"3 Orgs net (20 analysts per role)\", \"type\": \"scatter\", \"uid\": \"27b0f24c-6627-4851-8058-4c8069140aa6\", \"x\": [500, 1000, 1500], \"y\": [598.9733, 1144.5899, 1702.0179]}, {\"mode\": \"lines\", \"name\": \"5 Orgs net (10 analysts per role)\", \"type\": \"scatter\", \"uid\": \"8f515165-a188-45e2-9669-15fba6e674ef\", \"x\": [500, 1000, 1500], \"y\": [1146.1426, 2280.5195, 3421.8409]}, {\"mode\": \"lines\", \"name\": \"5 Orgs net (20 analysts per role)\", \"type\": \"scatter\", \"uid\": \"6b5e6125-c5ca-40af-af48-e797ed5ffe52\", \"x\": [500, 1000, 1500], \"y\": [612.9806, 1179.4412, 1721.3345]}],\n",
       "                        {\"barmode\": \"group\", \"title\": {\"text\": \"Elapsed time adding one analysis per acquisition by primary and secondary analysts, <br> with different number of tubes and different number of analysts (250 KB)\"}, \"xaxis\": {\"range\": [500, 1500], \"title\": {\"text\": \"Number of tubes\"}}, \"yaxis\": {\"title\": {\"text\": \"Average response time (s)\"}}},\n",
       "                        {\"toImageButtonOptions\": {\"filename\": \"totalAnalysis_fileSizeFixed\"}, \"plotlyServerURL\": \"https://plot.ly\", \"responsive\": true}\n",
       "                    ).then(function(){\n",
       "                            \n",
       "var gd = document.getElementById('0701f70c-86c4-44fb-8389-879d251d0294');\n",
       "var x = new MutationObserver(function (mutations, observer) {{\n",
       "        var display = window.getComputedStyle(gd).display;\n",
       "        if (!display || display === 'none') {{\n",
       "            console.log([gd, 'removed!']);\n",
       "            Plotly.purge(gd);\n",
       "            observer.disconnect();\n",
       "        }}\n",
       "}});\n",
       "\n",
       "// Listen for the removal of the full notebook cells\n",
       "var notebookContainer = gd.closest('#notebook-container');\n",
       "if (notebookContainer) {{\n",
       "    x.observe(notebookContainer, {childList: true});\n",
       "}}\n",
       "\n",
       "// Listen for the clearing of the current output cell\n",
       "var outputEl = gd.closest('.output');\n",
       "if (outputEl) {{\n",
       "    x.observe(outputEl, {childList: true});\n",
       "}}\n",
       "\n",
       "                        })\n",
       "                };\n",
       "                });\n",
       "            </script>\n",
       "        </div>"
      ]
     },
     "metadata": {},
     "output_type": "display_data"
    }
   ],
   "source": [
    "# 3 Orgs net data\n",
    "threeOrgs10 = [1148.1137, 2248.1675, 3363.0079]\n",
    "threeOrgs20 = [598.9733, 1144.5899, 1702.0179]\n",
    "# 5 Orgs net data\n",
    "fiveOrgs10 = [1146.1426, 2280.5195, 3421.8409]\n",
    "fiveOrgs20 = [612.9806, 1179.4412, 1721.3345]\n",
    "\n",
    "totalAnalysis(\"250 KB\", threeOrgs10, threeOrgs20, fiveOrgs10, fiveOrgs20)"
   ]
  },
  {
   "cell_type": "markdown",
   "metadata": {},
   "source": [
    "### Average times when executing tx 'AddAnalysis' by advanced analysts"
   ]
  },
  {
   "cell_type": "code",
   "execution_count": 8,
   "metadata": {},
   "outputs": [
    {
     "data": {
      "application/vnd.plotly.v1+json": {
       "config": {
        "plotlyServerURL": "https://plot.ly",
        "toImageButtonOptions": {
         "filename": "avgRes_fileSizeFixed"
        }
       },
       "data": [
        {
         "mode": "lines",
         "name": "3 Orgs net (10 advanced analysts)",
         "type": "scatter",
         "uid": "d4561bb9-2e9a-4cbd-b8d4-077e654957b7",
         "x": [
          500,
          1000,
          1500
         ],
         "y": [
          1.2625,
          1.25,
          1.3666
         ]
        },
        {
         "mode": "lines",
         "name": "3 Orgs net (20 advanced analysts)",
         "type": "scatter",
         "uid": "6bf5e6b3-c18d-4454-a069-096e2f73a49f",
         "x": [
          500,
          1000,
          1500
         ],
         "y": [
          1.4535,
          1.2945,
          1.2611
         ]
        },
        {
         "mode": "lines",
         "name": "5 Orgs net (10 advanced analysts)",
         "type": "scatter",
         "uid": "b15a72f3-935f-4739-a957-c64ae14defe2",
         "x": [
          500,
          1000,
          1500
         ],
         "y": [
          1.3117,
          1.3353,
          1.3949
         ]
        },
        {
         "mode": "lines",
         "name": "5 Orgs net (20 advanced analysts)",
         "type": "scatter",
         "uid": "e34fec69-9223-4d56-986a-63aa70776c15",
         "x": [
          500,
          1000,
          1500
         ],
         "y": [
          1.6839,
          1.4699,
          1.6484
         ]
        }
       ],
       "layout": {
        "barmode": "group",
        "title": {
         "text": "Executing transaction 'AddAnalysis' with different number of tubes <br> and different number of advanced analysts (250 KB)"
        },
        "xaxis": {
         "range": [
          500,
          1500
         ],
         "title": {
          "text": "Number of tubes"
         }
        },
        "yaxis": {
         "range": [
          1,
          4
         ],
         "title": {
          "text": "Average response time (s)"
         }
        }
       }
      },
      "text/html": [
       "<div>\n",
       "        \n",
       "        \n",
       "            <div id=\"613495b0-3190-474e-a5f5-400928d49af9\" class=\"plotly-graph-div\" style=\"height:525px; width:100%;\"></div>\n",
       "            <script type=\"text/javascript\">\n",
       "                require([\"plotly\"], function(Plotly) {\n",
       "                    window.PLOTLYENV=window.PLOTLYENV || {};\n",
       "                    window.PLOTLYENV.BASE_URL='https://plot.ly';\n",
       "                    \n",
       "                if (document.getElementById(\"613495b0-3190-474e-a5f5-400928d49af9\")) {\n",
       "                    Plotly.newPlot(\n",
       "                        '613495b0-3190-474e-a5f5-400928d49af9',\n",
       "                        [{\"mode\": \"lines\", \"name\": \"3 Orgs net (10 advanced analysts)\", \"type\": \"scatter\", \"uid\": \"d4561bb9-2e9a-4cbd-b8d4-077e654957b7\", \"x\": [500, 1000, 1500], \"y\": [1.2625, 1.25, 1.3666]}, {\"mode\": \"lines\", \"name\": \"3 Orgs net (20 advanced analysts)\", \"type\": \"scatter\", \"uid\": \"6bf5e6b3-c18d-4454-a069-096e2f73a49f\", \"x\": [500, 1000, 1500], \"y\": [1.4535, 1.2945, 1.2611]}, {\"mode\": \"lines\", \"name\": \"5 Orgs net (10 advanced analysts)\", \"type\": \"scatter\", \"uid\": \"b15a72f3-935f-4739-a957-c64ae14defe2\", \"x\": [500, 1000, 1500], \"y\": [1.3117, 1.3353, 1.3949]}, {\"mode\": \"lines\", \"name\": \"5 Orgs net (20 advanced analysts)\", \"type\": \"scatter\", \"uid\": \"e34fec69-9223-4d56-986a-63aa70776c15\", \"x\": [500, 1000, 1500], \"y\": [1.6839, 1.4699, 1.6484]}],\n",
       "                        {\"barmode\": \"group\", \"title\": {\"text\": \"Executing transaction 'AddAnalysis' with different number of tubes <br> and different number of advanced analysts (250 KB)\"}, \"xaxis\": {\"range\": [500, 1500], \"title\": {\"text\": \"Number of tubes\"}}, \"yaxis\": {\"range\": [1.0, 4.0], \"title\": {\"text\": \"Average response time (s)\"}}},\n",
       "                        {\"toImageButtonOptions\": {\"filename\": \"avgRes_fileSizeFixed\"}, \"plotlyServerURL\": \"https://plot.ly\", \"responsive\": true}\n",
       "                    ).then(function(){\n",
       "                            \n",
       "var gd = document.getElementById('613495b0-3190-474e-a5f5-400928d49af9');\n",
       "var x = new MutationObserver(function (mutations, observer) {{\n",
       "        var display = window.getComputedStyle(gd).display;\n",
       "        if (!display || display === 'none') {{\n",
       "            console.log([gd, 'removed!']);\n",
       "            Plotly.purge(gd);\n",
       "            observer.disconnect();\n",
       "        }}\n",
       "}});\n",
       "\n",
       "// Listen for the removal of the full notebook cells\n",
       "var notebookContainer = gd.closest('#notebook-container');\n",
       "if (notebookContainer) {{\n",
       "    x.observe(notebookContainer, {childList: true});\n",
       "}}\n",
       "\n",
       "// Listen for the clearing of the current output cell\n",
       "var outputEl = gd.closest('.output');\n",
       "if (outputEl) {{\n",
       "    x.observe(outputEl, {childList: true});\n",
       "}}\n",
       "\n",
       "                        })\n",
       "                };\n",
       "                });\n",
       "            </script>\n",
       "        </div>"
      ]
     },
     "metadata": {},
     "output_type": "display_data"
    }
   ],
   "source": [
    "# 3 Orgs net data\n",
    "threeOrgs10 = [1.2625, 1.2500, 1.3666]\n",
    "threeOrgs20 = [1.4535, 1.2945, 1.2611]\n",
    "# 5 Orgs net data\n",
    "fiveOrgs10 = [1.3117, 1.3353, 1.3949]\n",
    "fiveOrgs20 = [1.6839, 1.4699, 1.6484]\n",
    "\n",
    "avgResolution(\"250 KB\", threeOrgs10, threeOrgs20, fiveOrgs10, fiveOrgs20)"
   ]
  },
  {
   "cell_type": "markdown",
   "metadata": {},
   "source": [
    "### Elapsed time adding one resolution per acquisition with different number of advanced analysts"
   ]
  },
  {
   "cell_type": "code",
   "execution_count": 9,
   "metadata": {},
   "outputs": [
    {
     "data": {
      "application/vnd.plotly.v1+json": {
       "config": {
        "plotlyServerURL": "https://plot.ly",
        "toImageButtonOptions": {
         "filename": "totalRes_fileSizeFixed"
        }
       },
       "data": [
        {
         "mode": "lines",
         "name": "3 Orgs net (10 advanced analysts)",
         "type": "scatter",
         "uid": "7bbf574f-f705-4872-be9f-8f46fef27006",
         "x": [
          500,
          1000,
          1500
         ],
         "y": [
          1127.5345,
          2230.7146,
          3378.8443
         ]
        },
        {
         "mode": "lines",
         "name": "3 Orgs net (20 advanced analysts)",
         "type": "scatter",
         "uid": "def8b407-73a7-4891-beec-87a52e9187e6",
         "x": [
          500,
          1000,
          1500
         ],
         "y": [
          582.8463,
          1126.3205,
          1696.8571
         ]
        },
        {
         "mode": "lines",
         "name": "5 Orgs net (10 advanced analysts)",
         "type": "scatter",
         "uid": "5759991d-e14a-459d-8733-9d498193c427",
         "x": [
          500,
          1000,
          1500
         ],
         "y": [
          1133.3466,
          2254.7335,
          3420.4332
         ]
        },
        {
         "mode": "lines",
         "name": "5 Orgs net (20 advanced analysts)",
         "type": "scatter",
         "uid": "36efc2f7-4ab5-47d4-8bf4-63edd0aaf415",
         "x": [
          500,
          1000,
          1500
         ],
         "y": [
          589.8071,
          1160.539,
          1763.8556
         ]
        }
       ],
       "layout": {
        "barmode": "group",
        "title": {
         "text": "Elapsed time adding one analysis per acquisition by advanced analysts, <br> with different number of tubes and different number of analysts (250 KB)"
        },
        "xaxis": {
         "range": [
          500,
          1500
         ],
         "title": {
          "text": "Number of tubes"
         }
        },
        "yaxis": {
         "title": {
          "text": "Average response time (s)"
         }
        }
       }
      },
      "text/html": [
       "<div>\n",
       "        \n",
       "        \n",
       "            <div id=\"f74ed969-f053-4eff-ad75-7b37eb2505ad\" class=\"plotly-graph-div\" style=\"height:525px; width:100%;\"></div>\n",
       "            <script type=\"text/javascript\">\n",
       "                require([\"plotly\"], function(Plotly) {\n",
       "                    window.PLOTLYENV=window.PLOTLYENV || {};\n",
       "                    window.PLOTLYENV.BASE_URL='https://plot.ly';\n",
       "                    \n",
       "                if (document.getElementById(\"f74ed969-f053-4eff-ad75-7b37eb2505ad\")) {\n",
       "                    Plotly.newPlot(\n",
       "                        'f74ed969-f053-4eff-ad75-7b37eb2505ad',\n",
       "                        [{\"mode\": \"lines\", \"name\": \"3 Orgs net (10 advanced analysts)\", \"type\": \"scatter\", \"uid\": \"7bbf574f-f705-4872-be9f-8f46fef27006\", \"x\": [500, 1000, 1500], \"y\": [1127.5345, 2230.7146, 3378.8443]}, {\"mode\": \"lines\", \"name\": \"3 Orgs net (20 advanced analysts)\", \"type\": \"scatter\", \"uid\": \"def8b407-73a7-4891-beec-87a52e9187e6\", \"x\": [500, 1000, 1500], \"y\": [582.8463, 1126.3205, 1696.8571]}, {\"mode\": \"lines\", \"name\": \"5 Orgs net (10 advanced analysts)\", \"type\": \"scatter\", \"uid\": \"5759991d-e14a-459d-8733-9d498193c427\", \"x\": [500, 1000, 1500], \"y\": [1133.3466, 2254.7335, 3420.4332]}, {\"mode\": \"lines\", \"name\": \"5 Orgs net (20 advanced analysts)\", \"type\": \"scatter\", \"uid\": \"36efc2f7-4ab5-47d4-8bf4-63edd0aaf415\", \"x\": [500, 1000, 1500], \"y\": [589.8071, 1160.539, 1763.8556]}],\n",
       "                        {\"barmode\": \"group\", \"title\": {\"text\": \"Elapsed time adding one analysis per acquisition by advanced analysts, <br> with different number of tubes and different number of analysts (250 KB)\"}, \"xaxis\": {\"range\": [500, 1500], \"title\": {\"text\": \"Number of tubes\"}}, \"yaxis\": {\"title\": {\"text\": \"Average response time (s)\"}}},\n",
       "                        {\"toImageButtonOptions\": {\"filename\": \"totalRes_fileSizeFixed\"}, \"plotlyServerURL\": \"https://plot.ly\", \"responsive\": true}\n",
       "                    ).then(function(){\n",
       "                            \n",
       "var gd = document.getElementById('f74ed969-f053-4eff-ad75-7b37eb2505ad');\n",
       "var x = new MutationObserver(function (mutations, observer) {{\n",
       "        var display = window.getComputedStyle(gd).display;\n",
       "        if (!display || display === 'none') {{\n",
       "            console.log([gd, 'removed!']);\n",
       "            Plotly.purge(gd);\n",
       "            observer.disconnect();\n",
       "        }}\n",
       "}});\n",
       "\n",
       "// Listen for the removal of the full notebook cells\n",
       "var notebookContainer = gd.closest('#notebook-container');\n",
       "if (notebookContainer) {{\n",
       "    x.observe(notebookContainer, {childList: true});\n",
       "}}\n",
       "\n",
       "// Listen for the clearing of the current output cell\n",
       "var outputEl = gd.closest('.output');\n",
       "if (outputEl) {{\n",
       "    x.observe(outputEl, {childList: true});\n",
       "}}\n",
       "\n",
       "                        })\n",
       "                };\n",
       "                });\n",
       "            </script>\n",
       "        </div>"
      ]
     },
     "metadata": {},
     "output_type": "display_data"
    }
   ],
   "source": [
    "# 3 Orgs net data\n",
    "threeOrgs10 = [1127.5345, 2230.7146, 3378.8443]\n",
    "threeOrgs20 = [582.8463, 1126.3205, 1696.8571]\n",
    "# 5 Orgs net data\n",
    "fiveOrgs10 = [1133.3466, 2254.7335, 3420.4332]\n",
    "fiveOrgs20 = [589.8071, 1160.5390, 1763.8556]\n",
    "\n",
    "totalResolution(\"250 KB\", threeOrgs10, threeOrgs20, fiveOrgs10, fiveOrgs20)"
   ]
  }
 ],
 "metadata": {
  "kernelspec": {
   "display_name": "Python 3",
   "language": "python",
   "name": "python3"
  },
  "language_info": {
   "codemirror_mode": {
    "name": "ipython",
    "version": 3
   },
   "file_extension": ".py",
   "mimetype": "text/x-python",
   "name": "python",
   "nbconvert_exporter": "python",
   "pygments_lexer": "ipython3",
   "version": "3.6.4"
  }
 },
 "nbformat": 4,
 "nbformat_minor": 2
}
