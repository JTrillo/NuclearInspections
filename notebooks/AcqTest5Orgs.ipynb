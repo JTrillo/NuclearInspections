{
 "cells": [
  {
   "cell_type": "markdown",
   "metadata": {},
   "source": [
    "# Times obtained during acquisition test (5 Orgs - 1 Peer Node per Org)"
   ]
  },
  {
   "cell_type": "markdown",
   "metadata": {},
   "source": [
    "### Imports"
   ]
  },
  {
   "cell_type": "code",
   "execution_count": 1,
   "metadata": {},
   "outputs": [],
   "source": [
    "import sys\n",
    "sys.path.insert(1, '..\\code')\n",
    "from acquisitor import *\n",
    "import threading\n",
    "import requests\n",
    "import json\n",
    "import random"
   ]
  },
  {
   "cell_type": "markdown",
   "metadata": {},
   "source": [
    "### Global variables"
   ]
  },
  {
   "cell_type": "code",
   "execution_count": 2,
   "metadata": {},
   "outputs": [],
   "source": [
    "API_ENDPOINT = \"http://35.241.200.124:3000/api/\"\n",
    "NS = \"ertis.uma.nuclear\""
   ]
  },
  {
   "cell_type": "markdown",
   "metadata": {},
   "source": [
    "### Function"
   ]
  },
  {
   "cell_type": "code",
   "execution_count": 3,
   "metadata": {},
   "outputs": [],
   "source": [
    "def addAcquisitionTest(num_acquisitors, num_tubes):\n",
    "    acquisitor_threads = []\n",
    "    acquisitions_per_worker = int(num_tubes/num_acquisitors)\n",
    "\n",
    "    # Check for next acquisition id\n",
    "    resource_url = f\"{API_ENDPOINT}{NS}.Acquisition\"\n",
    "    r = requests.get(resource_url)\n",
    "    next_id = len(r.json()) + 1\n",
    "\n",
    "    # Create threads\n",
    "    for i in range(num_acquisitors):\n",
    "        thread = Acquisitor(i, f\"Acquisitor-{i}\", acquisitions_per_worker, next_id+acquisitions_per_worker*i, API_ENDPOINT, NS)\n",
    "        acquisitor_threads.append(thread)\n",
    "\n",
    "    # Start threads\n",
    "    for i in range(num_acquisitors):\n",
    "        acquisitor_threads[i].start()\n",
    "\n",
    "    # Join threads\n",
    "    for i in range(num_acquisitors):\n",
    "        acquisitor_threads[i].join()\n",
    "        \n",
    "    # Print results\n",
    "    min = acquisitor_threads[0].min\n",
    "    min5avg = acquisitor_threads[0].min5avg\n",
    "    avg = acquisitor_threads[0].avg\n",
    "    max = acquisitor_threads[0].max\n",
    "    max5avg = acquisitor_threads[0].max5avg\n",
    "    acquisitor_threads[0].printResults()\n",
    "    for i in range(1, num_acquisitors):\n",
    "        if acquisitor_threads[i].min < min:\n",
    "            min = acquisitor_threads[i].min\n",
    "            \n",
    "        min5avg = min5avg + acquisitor_threads[i].min5avg\n",
    "\n",
    "        avg = avg + acquisitor_threads[i].avg\n",
    "\n",
    "        if acquisitor_threads[i].max > max:\n",
    "            max = acquisitor_threads[i].max\n",
    "            \n",
    "        max5avg = max5avg + acquisitor_threads[i].max5avg\n",
    "\n",
    "        acquisitor_threads[i].printResults()\n",
    "\n",
    "    print(f\"MIN --> {min}\")\n",
    "    print(f\"MIN 5 AVG --> {min5avg/num_acquisitors}\")\n",
    "    print(f\"AVG --> {avg/num_acquisitors}\")\n",
    "    print(f\"MAX --> {max}\")\n",
    "    print(f\"MAX 5 AVG --> {max5avg/num_acquisitors}\")"
   ]
  },
  {
   "cell_type": "markdown",
   "metadata": {},
   "source": [
    "### Execution of the test with one single acquisitor (acquisition tx also triggers the execution of an analysis)"
   ]
  },
  {
   "cell_type": "code",
   "execution_count": null,
   "metadata": {},
   "outputs": [],
   "source": [
    "addAcquisitionTest(1, 100) #Acquisitors, Acquisitions to do"
   ]
  }
 ],
 "metadata": {
  "kernelspec": {
   "display_name": "Python 3",
   "language": "python",
   "name": "python3"
  },
  "language_info": {
   "codemirror_mode": {
    "name": "ipython",
    "version": 3
   },
   "file_extension": ".py",
   "mimetype": "text/x-python",
   "name": "python",
   "nbconvert_exporter": "python",
   "pygments_lexer": "ipython3",
   "version": "3.6.4"
  }
 },
 "nbformat": 4,
 "nbformat_minor": 2
}
