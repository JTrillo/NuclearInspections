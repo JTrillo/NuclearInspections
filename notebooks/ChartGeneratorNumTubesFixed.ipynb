{
 "cells": [
  {
   "cell_type": "markdown",
   "metadata": {},
   "source": [
    "# Chart generator. Num. tubes fixed (500 tubes)"
   ]
  },
  {
   "cell_type": "markdown",
   "metadata": {},
   "source": [
    "### Imports"
   ]
  },
  {
   "cell_type": "code",
   "execution_count": 1,
   "metadata": {},
   "outputs": [
    {
     "data": {
      "text/html": [
       "        <script type=\"text/javascript\">\n",
       "        window.PlotlyConfig = {MathJaxConfig: 'local'};\n",
       "        if (window.MathJax) {MathJax.Hub.Config({SVG: {font: \"STIX-Web\"}});}\n",
       "        if (typeof require !== 'undefined') {\n",
       "        require.undef(\"plotly\");\n",
       "        requirejs.config({\n",
       "            paths: {\n",
       "                'plotly': ['https://cdn.plot.ly/plotly-latest.min']\n",
       "            }\n",
       "        });\n",
       "        require(['plotly'], function(Plotly) {\n",
       "            window._Plotly = Plotly;\n",
       "        });\n",
       "        }\n",
       "        </script>\n",
       "        "
      ]
     },
     "metadata": {},
     "output_type": "display_data"
    }
   ],
   "source": [
    "import sys\n",
    "sys.path.insert(1, '..\\code')\n",
    "from charts2 import *\n",
    "import plotly\n",
    "plotly.offline.init_notebook_mode(connected=True)"
   ]
  },
  {
   "cell_type": "markdown",
   "metadata": {},
   "source": [
    "### Average times when executing tx 'AddAcquisition'"
   ]
  },
  {
   "cell_type": "code",
   "execution_count": 2,
   "metadata": {},
   "outputs": [
    {
     "data": {
      "application/vnd.plotly.v1+json": {
       "config": {
        "plotlyServerURL": "https://plot.ly"
       },
       "data": [
        {
         "mode": "lines",
         "name": "3 Orgs net",
         "type": "scatter",
         "uid": "0adb3cf1-f002-4ff2-b979-537c41a8f9fc",
         "x": [
          250,
          500
         ],
         "y": [
          1.2557,
          1.2265
         ]
        },
        {
         "mode": "lines",
         "name": "5 Orgs net",
         "type": "scatter",
         "uid": "f7c71e75-11f2-463b-b750-e5e04f1665f4",
         "x": [
          250,
          500
         ],
         "y": [
          1.3159,
          1.3018
         ]
        }
       ],
       "layout": {
        "barmode": "group",
        "title": {
         "text": "Executing transaction 'AddAcquisition' with different number of raw data file size (500 tubes)"
        },
        "xaxis": {
         "range": [
          250,
          500
         ],
         "title": {
          "text": "Raw data file size (KB)"
         }
        },
        "yaxis": {
         "range": [
          1,
          4
         ],
         "title": {
          "text": "Average response time (s)"
         }
        }
       }
      },
      "text/html": [
       "<div>\n",
       "        \n",
       "        \n",
       "            <div id=\"2c7df188-b82c-4156-9f12-94ccd99eaa94\" class=\"plotly-graph-div\" style=\"height:525px; width:100%;\"></div>\n",
       "            <script type=\"text/javascript\">\n",
       "                require([\"plotly\"], function(Plotly) {\n",
       "                    window.PLOTLYENV=window.PLOTLYENV || {};\n",
       "                    window.PLOTLYENV.BASE_URL='https://plot.ly';\n",
       "                    \n",
       "                if (document.getElementById(\"2c7df188-b82c-4156-9f12-94ccd99eaa94\")) {\n",
       "                    Plotly.newPlot(\n",
       "                        '2c7df188-b82c-4156-9f12-94ccd99eaa94',\n",
       "                        [{\"mode\": \"lines\", \"name\": \"3 Orgs net\", \"type\": \"scatter\", \"uid\": \"0adb3cf1-f002-4ff2-b979-537c41a8f9fc\", \"x\": [250, 500], \"y\": [1.2557, 1.2265]}, {\"mode\": \"lines\", \"name\": \"5 Orgs net\", \"type\": \"scatter\", \"uid\": \"f7c71e75-11f2-463b-b750-e5e04f1665f4\", \"x\": [250, 500], \"y\": [1.3159, 1.3018]}],\n",
       "                        {\"barmode\": \"group\", \"title\": {\"text\": \"Executing transaction 'AddAcquisition' with different number of raw data file size (500 tubes)\"}, \"xaxis\": {\"range\": [250, 500], \"title\": {\"text\": \"Raw data file size (KB)\"}}, \"yaxis\": {\"range\": [1.0, 4.0], \"title\": {\"text\": \"Average response time (s)\"}}},\n",
       "                        {\"plotlyServerURL\": \"https://plot.ly\", \"responsive\": true}\n",
       "                    ).then(function(){\n",
       "                            \n",
       "var gd = document.getElementById('2c7df188-b82c-4156-9f12-94ccd99eaa94');\n",
       "var x = new MutationObserver(function (mutations, observer) {{\n",
       "        var display = window.getComputedStyle(gd).display;\n",
       "        if (!display || display === 'none') {{\n",
       "            console.log([gd, 'removed!']);\n",
       "            Plotly.purge(gd);\n",
       "            observer.disconnect();\n",
       "        }}\n",
       "}});\n",
       "\n",
       "// Listen for the removal of the full notebook cells\n",
       "var notebookContainer = gd.closest('#notebook-container');\n",
       "if (notebookContainer) {{\n",
       "    x.observe(notebookContainer, {childList: true});\n",
       "}}\n",
       "\n",
       "// Listen for the clearing of the current output cell\n",
       "var outputEl = gd.closest('.output');\n",
       "if (outputEl) {{\n",
       "    x.observe(outputEl, {childList: true});\n",
       "}}\n",
       "\n",
       "                        })\n",
       "                };\n",
       "                });\n",
       "            </script>\n",
       "        </div>"
      ]
     },
     "metadata": {},
     "output_type": "display_data"
    }
   ],
   "source": [
    "# 3 Orgs net data\n",
    "threeOrgs = [1.2557, 1.2265]\n",
    "# 5 Orgs net data\n",
    "fiveOrgs = [1.3159, 1.3018]\n",
    "\n",
    "avgAcquisition(500, threeOrgs, fiveOrgs)"
   ]
  },
  {
   "cell_type": "markdown",
   "metadata": {},
   "source": [
    "### Elapsed time adding one acquisition per tube, with different file sizes"
   ]
  },
  {
   "cell_type": "code",
   "execution_count": 3,
   "metadata": {},
   "outputs": [
    {
     "data": {
      "application/vnd.plotly.v1+json": {
       "config": {
        "plotlyServerURL": "https://plot.ly"
       },
       "data": [
        {
         "mode": "lines",
         "name": "3 Orgs net",
         "type": "scatter",
         "uid": "40f0c47a-5a7b-4b3d-9512-b311df078ed1",
         "x": [
          250,
          500
         ],
         "y": [
          862.7493,
          932.0237
         ]
        },
        {
         "mode": "lines",
         "name": "5 Orgs net",
         "type": "scatter",
         "uid": "8a411176-23a8-47c9-b183-447d6679868a",
         "x": [
          250,
          500
         ],
         "y": [
          1054.9541,
          1107.6653
         ]
        }
       ],
       "layout": {
        "barmode": "group",
        "title": {
         "text": "Elapsed time adding one acquisition per tube, with different raw data file sizes (500 tubes)"
        },
        "xaxis": {
         "range": [
          250,
          500
         ],
         "title": {
          "text": "Raw data file size (KB)"
         }
        },
        "yaxis": {
         "title": {
          "text": "Total elapsed time (s)"
         }
        }
       }
      },
      "text/html": [
       "<div>\n",
       "        \n",
       "        \n",
       "            <div id=\"196a9713-9065-4d0f-a9e6-0014aace7692\" class=\"plotly-graph-div\" style=\"height:525px; width:100%;\"></div>\n",
       "            <script type=\"text/javascript\">\n",
       "                require([\"plotly\"], function(Plotly) {\n",
       "                    window.PLOTLYENV=window.PLOTLYENV || {};\n",
       "                    window.PLOTLYENV.BASE_URL='https://plot.ly';\n",
       "                    \n",
       "                if (document.getElementById(\"196a9713-9065-4d0f-a9e6-0014aace7692\")) {\n",
       "                    Plotly.newPlot(\n",
       "                        '196a9713-9065-4d0f-a9e6-0014aace7692',\n",
       "                        [{\"mode\": \"lines\", \"name\": \"3 Orgs net\", \"type\": \"scatter\", \"uid\": \"40f0c47a-5a7b-4b3d-9512-b311df078ed1\", \"x\": [250, 500], \"y\": [862.7493, 932.0237]}, {\"mode\": \"lines\", \"name\": \"5 Orgs net\", \"type\": \"scatter\", \"uid\": \"8a411176-23a8-47c9-b183-447d6679868a\", \"x\": [250, 500], \"y\": [1054.9541, 1107.6653]}],\n",
       "                        {\"barmode\": \"group\", \"title\": {\"text\": \"Elapsed time adding one acquisition per tube, with different raw data file sizes (500 tubes)\"}, \"xaxis\": {\"range\": [250, 500], \"title\": {\"text\": \"Raw data file size (KB)\"}}, \"yaxis\": {\"title\": {\"text\": \"Total elapsed time (s)\"}}},\n",
       "                        {\"plotlyServerURL\": \"https://plot.ly\", \"responsive\": true}\n",
       "                    ).then(function(){\n",
       "                            \n",
       "var gd = document.getElementById('196a9713-9065-4d0f-a9e6-0014aace7692');\n",
       "var x = new MutationObserver(function (mutations, observer) {{\n",
       "        var display = window.getComputedStyle(gd).display;\n",
       "        if (!display || display === 'none') {{\n",
       "            console.log([gd, 'removed!']);\n",
       "            Plotly.purge(gd);\n",
       "            observer.disconnect();\n",
       "        }}\n",
       "}});\n",
       "\n",
       "// Listen for the removal of the full notebook cells\n",
       "var notebookContainer = gd.closest('#notebook-container');\n",
       "if (notebookContainer) {{\n",
       "    x.observe(notebookContainer, {childList: true});\n",
       "}}\n",
       "\n",
       "// Listen for the clearing of the current output cell\n",
       "var outputEl = gd.closest('.output');\n",
       "if (outputEl) {{\n",
       "    x.observe(outputEl, {childList: true});\n",
       "}}\n",
       "\n",
       "                        })\n",
       "                };\n",
       "                });\n",
       "            </script>\n",
       "        </div>"
      ]
     },
     "metadata": {},
     "output_type": "display_data"
    }
   ],
   "source": [
    "# 3 Orgs net data\n",
    "threeOrgs = [862.7493, 932.0237]\n",
    "# 5 Orgs net data\n",
    "fiveOrgs = [1054.9541, 1107.6653]\n",
    "\n",
    "totalAcquisition(500, threeOrgs, fiveOrgs)"
   ]
  },
  {
   "cell_type": "markdown",
   "metadata": {},
   "source": [
    "### Average times when executing tx 'AddAutomaticAnalysis'"
   ]
  },
  {
   "cell_type": "code",
   "execution_count": null,
   "metadata": {},
   "outputs": [],
   "source": [
    "# 3 Orgs net data\n",
    "threeOrgs = [14.5715, 93.1102]\n",
    "# 5 Orgs net data\n",
    "fiveOrgs = [, ]\n",
    "\n",
    "avgAutoAnalysis(500, threeOrgs, fiveOrgs)"
   ]
  },
  {
   "cell_type": "markdown",
   "metadata": {},
   "source": [
    "### Elapsed time adding one automatic analysis per acquisition"
   ]
  },
  {
   "cell_type": "code",
   "execution_count": null,
   "metadata": {},
   "outputs": [],
   "source": [
    "# 3 Orgs net data\n",
    "threeOrgs = [7463.6008, 46793.8084]\n",
    "# 5 Orgs net data\n",
    "fiveOrgs = [, ]\n",
    "\n",
    "totalAutoAnalysis(500, threeOrgs, fiveOrgs)"
   ]
  },
  {
   "cell_type": "markdown",
   "metadata": {},
   "source": [
    "### Average times when executing tx 'AddAnalysis' by analysts"
   ]
  },
  {
   "cell_type": "code",
   "execution_count": null,
   "metadata": {},
   "outputs": [],
   "source": [
    "# 3 Orgs net data\n",
    "threeOrgs10 = [1.4509, 1.2881]\n",
    "threeOrgs20 = [1.6969, 1.2734]\n",
    "# 5 Orgs net data\n",
    "fiveOrgs10 = [, ]\n",
    "fiveOrgs20 = [, ]\n",
    "\n",
    "avgAnalysis(500, threeOrgs10, threeOrgs20, fiveOrgs10, fiveOrgs20)"
   ]
  },
  {
   "cell_type": "markdown",
   "metadata": {},
   "source": [
    "### Elapsed time adding two analyses per acquisition with different number of analysts"
   ]
  },
  {
   "cell_type": "code",
   "execution_count": null,
   "metadata": {},
   "outputs": [],
   "source": [
    "# 3 Orgs net data\n",
    "threeOrgs10 = [1148.1136, 1128.2235]\n",
    "threeOrgs20 = [598.9732,  569.9285]\n",
    "# 5 Orgs net data\n",
    "fiveOrgs10 = [, ]\n",
    "fiveOrgs20 = [, ]\n",
    "\n",
    "totalAnalysis(500, threeOrgs10, threeOrgs20, fiveOrgs10, fiveOrgs20)"
   ]
  },
  {
   "cell_type": "markdown",
   "metadata": {},
   "source": [
    "### Average times when executing tx 'AddAnalysis' by advanced analysts"
   ]
  },
  {
   "cell_type": "code",
   "execution_count": null,
   "metadata": {},
   "outputs": [],
   "source": [
    "# 3 Orgs net data\n",
    "threeOrgs10 = [1.2624, 1.2773]\n",
    "threeOrgs20 = [1.4534, 1.2783]\n",
    "# 5 Orgs net data\n",
    "fiveOrgs10 = [, ]\n",
    "fiveOrgs20 = [, ]\n",
    "\n",
    "avgResolution(500, threeOrgs10, threeOrgs20, fiveOrgs10, fiveOrgs20)"
   ]
  },
  {
   "cell_type": "markdown",
   "metadata": {},
   "source": [
    "### Elapsed time adding one resolution per acquisition with different number of advanced analysts"
   ]
  },
  {
   "cell_type": "code",
   "execution_count": null,
   "metadata": {},
   "outputs": [],
   "source": [
    "# 3 Orgs net data\n",
    "threeOrgs10 = [1127.5344, 1118.8319]\n",
    "threeOrgs20 = [582.8463, 568.3935]\n",
    "# 5 Orgs net data\n",
    "fiveOrgs10 = [, ]\n",
    "fiveOrgs20 = [, ]\n",
    "\n",
    "totalResolution(500, threeOrgs10, threeOrgs20, fiveOrgs10, fiveOrgs20)"
   ]
  }
 ],
 "metadata": {
  "kernelspec": {
   "display_name": "Python 3",
   "language": "python",
   "name": "python3"
  },
  "language_info": {
   "codemirror_mode": {
    "name": "ipython",
    "version": 3
   },
   "file_extension": ".py",
   "mimetype": "text/x-python",
   "name": "python",
   "nbconvert_exporter": "python",
   "pygments_lexer": "ipython3",
   "version": "3.6.4"
  }
 },
 "nbformat": 4,
 "nbformat_minor": 2
}
