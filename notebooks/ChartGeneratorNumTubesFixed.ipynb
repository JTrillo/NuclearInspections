{
 "cells": [
  {
   "cell_type": "markdown",
   "metadata": {},
   "source": [
    "# Chart generator. Num. tubes fixed (500 tubes)"
   ]
  },
  {
   "cell_type": "markdown",
   "metadata": {},
   "source": [
    "### Imports"
   ]
  },
  {
   "cell_type": "code",
   "execution_count": 1,
   "metadata": {},
   "outputs": [
    {
     "data": {
      "text/html": [
       "        <script type=\"text/javascript\">\n",
       "        window.PlotlyConfig = {MathJaxConfig: 'local'};\n",
       "        if (window.MathJax) {MathJax.Hub.Config({SVG: {font: \"STIX-Web\"}});}\n",
       "        if (typeof require !== 'undefined') {\n",
       "        require.undef(\"plotly\");\n",
       "        requirejs.config({\n",
       "            paths: {\n",
       "                'plotly': ['https://cdn.plot.ly/plotly-latest.min']\n",
       "            }\n",
       "        });\n",
       "        require(['plotly'], function(Plotly) {\n",
       "            window._Plotly = Plotly;\n",
       "        });\n",
       "        }\n",
       "        </script>\n",
       "        "
      ]
     },
     "metadata": {},
     "output_type": "display_data"
    }
   ],
   "source": [
    "import sys\n",
    "sys.path.insert(1, '..\\code')\n",
    "from charts2 import *\n",
    "import plotly\n",
    "plotly.offline.init_notebook_mode(connected=True)"
   ]
  },
  {
   "cell_type": "markdown",
   "metadata": {},
   "source": [
    "### Average times when executing tx 'AddAcquisition'"
   ]
  },
  {
   "cell_type": "code",
   "execution_count": 2,
   "metadata": {},
   "outputs": [
    {
     "data": {
      "application/vnd.plotly.v1+json": {
       "config": {
        "plotlyServerURL": "https://plot.ly",
        "toImageButtonOptions": {
         "filename": "avgAcq_numTubesFixed"
        }
       },
       "data": [
        {
         "mode": "lines",
         "name": "3 Orgs net",
         "type": "scatter",
         "uid": "9bab9854-fd2a-4524-8a88-9a4eff39bad2",
         "x": [
          250,
          500
         ],
         "y": [
          1.2557,
          1.2265
         ]
        },
        {
         "mode": "lines",
         "name": "5 Orgs net",
         "type": "scatter",
         "uid": "ea153300-3b58-4f87-afd7-e7e6db8f443f",
         "x": [
          250,
          500
         ],
         "y": [
          1.3159,
          1.3018
         ]
        }
       ],
       "layout": {
        "barmode": "group",
        "title": {
         "text": "Executing transaction 'AddAcquisition' with different raw data file sizes (500 tubes)"
        },
        "xaxis": {
         "range": [
          250,
          500
         ],
         "title": {
          "text": "Raw data file size (KB)"
         }
        },
        "yaxis": {
         "range": [
          1,
          4
         ],
         "title": {
          "text": "Average response time (s)"
         }
        }
       }
      },
      "text/html": [
       "<div>\n",
       "        \n",
       "        \n",
       "            <div id=\"167a700b-3078-490a-812e-11a0b68355ce\" class=\"plotly-graph-div\" style=\"height:525px; width:100%;\"></div>\n",
       "            <script type=\"text/javascript\">\n",
       "                require([\"plotly\"], function(Plotly) {\n",
       "                    window.PLOTLYENV=window.PLOTLYENV || {};\n",
       "                    window.PLOTLYENV.BASE_URL='https://plot.ly';\n",
       "                    \n",
       "                if (document.getElementById(\"167a700b-3078-490a-812e-11a0b68355ce\")) {\n",
       "                    Plotly.newPlot(\n",
       "                        '167a700b-3078-490a-812e-11a0b68355ce',\n",
       "                        [{\"mode\": \"lines\", \"name\": \"3 Orgs net\", \"type\": \"scatter\", \"uid\": \"9bab9854-fd2a-4524-8a88-9a4eff39bad2\", \"x\": [250, 500], \"y\": [1.2557, 1.2265]}, {\"mode\": \"lines\", \"name\": \"5 Orgs net\", \"type\": \"scatter\", \"uid\": \"ea153300-3b58-4f87-afd7-e7e6db8f443f\", \"x\": [250, 500], \"y\": [1.3159, 1.3018]}],\n",
       "                        {\"barmode\": \"group\", \"title\": {\"text\": \"Executing transaction 'AddAcquisition' with different raw data file sizes (500 tubes)\"}, \"xaxis\": {\"range\": [250, 500], \"title\": {\"text\": \"Raw data file size (KB)\"}}, \"yaxis\": {\"range\": [1.0, 4.0], \"title\": {\"text\": \"Average response time (s)\"}}},\n",
       "                        {\"toImageButtonOptions\": {\"filename\": \"avgAcq_numTubesFixed\"}, \"plotlyServerURL\": \"https://plot.ly\", \"responsive\": true}\n",
       "                    ).then(function(){\n",
       "                            \n",
       "var gd = document.getElementById('167a700b-3078-490a-812e-11a0b68355ce');\n",
       "var x = new MutationObserver(function (mutations, observer) {{\n",
       "        var display = window.getComputedStyle(gd).display;\n",
       "        if (!display || display === 'none') {{\n",
       "            console.log([gd, 'removed!']);\n",
       "            Plotly.purge(gd);\n",
       "            observer.disconnect();\n",
       "        }}\n",
       "}});\n",
       "\n",
       "// Listen for the removal of the full notebook cells\n",
       "var notebookContainer = gd.closest('#notebook-container');\n",
       "if (notebookContainer) {{\n",
       "    x.observe(notebookContainer, {childList: true});\n",
       "}}\n",
       "\n",
       "// Listen for the clearing of the current output cell\n",
       "var outputEl = gd.closest('.output');\n",
       "if (outputEl) {{\n",
       "    x.observe(outputEl, {childList: true});\n",
       "}}\n",
       "\n",
       "                        })\n",
       "                };\n",
       "                });\n",
       "            </script>\n",
       "        </div>"
      ]
     },
     "metadata": {},
     "output_type": "display_data"
    }
   ],
   "source": [
    "# 3 Orgs net data\n",
    "threeOrgs = [1.2557, 1.2265]\n",
    "# 5 Orgs net data\n",
    "fiveOrgs = [1.3159, 1.3018]\n",
    "\n",
    "avgAcquisition(500, threeOrgs, fiveOrgs)"
   ]
  },
  {
   "cell_type": "markdown",
   "metadata": {},
   "source": [
    "### Elapsed time adding one acquisition per tube, with different file sizes"
   ]
  },
  {
   "cell_type": "code",
   "execution_count": 3,
   "metadata": {},
   "outputs": [
    {
     "data": {
      "application/vnd.plotly.v1+json": {
       "config": {
        "plotlyServerURL": "https://plot.ly",
        "toImageButtonOptions": {
         "filename": "totalAcq_numTubesFixed"
        }
       },
       "data": [
        {
         "mode": "lines",
         "name": "3 Orgs net",
         "type": "scatter",
         "uid": "ac29090f-138b-45dd-9f5a-9f008d6dc543",
         "x": [
          250,
          500
         ],
         "y": [
          862.7493,
          932.0237
         ]
        },
        {
         "mode": "lines",
         "name": "5 Orgs net",
         "type": "scatter",
         "uid": "8c83868e-5948-46ec-8d10-a5dc3e6de514",
         "x": [
          250,
          500
         ],
         "y": [
          1054.9541,
          1107.6653
         ]
        }
       ],
       "layout": {
        "barmode": "group",
        "title": {
         "text": "Elapsed time adding one acquisition per tube, with different raw data file sizes (500 tubes)"
        },
        "xaxis": {
         "range": [
          250,
          500
         ],
         "title": {
          "text": "Raw data file size (KB)"
         }
        },
        "yaxis": {
         "title": {
          "text": "Total elapsed time (s)"
         }
        }
       }
      },
      "text/html": [
       "<div>\n",
       "        \n",
       "        \n",
       "            <div id=\"74283153-a818-4d41-b6c0-0aa14105136d\" class=\"plotly-graph-div\" style=\"height:525px; width:100%;\"></div>\n",
       "            <script type=\"text/javascript\">\n",
       "                require([\"plotly\"], function(Plotly) {\n",
       "                    window.PLOTLYENV=window.PLOTLYENV || {};\n",
       "                    window.PLOTLYENV.BASE_URL='https://plot.ly';\n",
       "                    \n",
       "                if (document.getElementById(\"74283153-a818-4d41-b6c0-0aa14105136d\")) {\n",
       "                    Plotly.newPlot(\n",
       "                        '74283153-a818-4d41-b6c0-0aa14105136d',\n",
       "                        [{\"mode\": \"lines\", \"name\": \"3 Orgs net\", \"type\": \"scatter\", \"uid\": \"ac29090f-138b-45dd-9f5a-9f008d6dc543\", \"x\": [250, 500], \"y\": [862.7493, 932.0237]}, {\"mode\": \"lines\", \"name\": \"5 Orgs net\", \"type\": \"scatter\", \"uid\": \"8c83868e-5948-46ec-8d10-a5dc3e6de514\", \"x\": [250, 500], \"y\": [1054.9541, 1107.6653]}],\n",
       "                        {\"barmode\": \"group\", \"title\": {\"text\": \"Elapsed time adding one acquisition per tube, with different raw data file sizes (500 tubes)\"}, \"xaxis\": {\"range\": [250, 500], \"title\": {\"text\": \"Raw data file size (KB)\"}}, \"yaxis\": {\"title\": {\"text\": \"Total elapsed time (s)\"}}},\n",
       "                        {\"toImageButtonOptions\": {\"filename\": \"totalAcq_numTubesFixed\"}, \"plotlyServerURL\": \"https://plot.ly\", \"responsive\": true}\n",
       "                    ).then(function(){\n",
       "                            \n",
       "var gd = document.getElementById('74283153-a818-4d41-b6c0-0aa14105136d');\n",
       "var x = new MutationObserver(function (mutations, observer) {{\n",
       "        var display = window.getComputedStyle(gd).display;\n",
       "        if (!display || display === 'none') {{\n",
       "            console.log([gd, 'removed!']);\n",
       "            Plotly.purge(gd);\n",
       "            observer.disconnect();\n",
       "        }}\n",
       "}});\n",
       "\n",
       "// Listen for the removal of the full notebook cells\n",
       "var notebookContainer = gd.closest('#notebook-container');\n",
       "if (notebookContainer) {{\n",
       "    x.observe(notebookContainer, {childList: true});\n",
       "}}\n",
       "\n",
       "// Listen for the clearing of the current output cell\n",
       "var outputEl = gd.closest('.output');\n",
       "if (outputEl) {{\n",
       "    x.observe(outputEl, {childList: true});\n",
       "}}\n",
       "\n",
       "                        })\n",
       "                };\n",
       "                });\n",
       "            </script>\n",
       "        </div>"
      ]
     },
     "metadata": {},
     "output_type": "display_data"
    }
   ],
   "source": [
    "# 3 Orgs net data\n",
    "threeOrgs = [862.7493, 932.0237]\n",
    "# 5 Orgs net data\n",
    "fiveOrgs = [1054.9541, 1107.6653]\n",
    "\n",
    "totalAcquisition(500, threeOrgs, fiveOrgs)"
   ]
  },
  {
   "cell_type": "markdown",
   "metadata": {},
   "source": [
    "### Average times when executing tx 'AddAutomaticAnalysis'"
   ]
  },
  {
   "cell_type": "code",
   "execution_count": 4,
   "metadata": {},
   "outputs": [
    {
     "data": {
      "application/vnd.plotly.v1+json": {
       "config": {
        "plotlyServerURL": "https://plot.ly",
        "toImageButtonOptions": {
         "filename": "avgAuto_numTubesFixed"
        }
       },
       "data": [
        {
         "mode": "lines",
         "name": "3 Orgs net",
         "type": "scatter",
         "uid": "7bce7c51-af12-4b87-bf62-e9d708cd1f5d",
         "x": [
          250,
          500
         ],
         "y": [
          14.5715,
          93.1102
         ]
        },
        {
         "mode": "lines",
         "name": "5 Orgs net",
         "type": "scatter",
         "uid": "fcd8aa2c-532e-4957-9909-3f1e014e504c",
         "x": [
          250,
          500
         ],
         "y": [
          15.2297,
          109.5888
         ]
        }
       ],
       "layout": {
        "barmode": "group",
        "title": {
         "text": "Executing transaction 'AddAutomaticAnalysis' with different raw data file sizes (500 tubes)"
        },
        "xaxis": {
         "range": [
          250,
          500
         ],
         "title": {
          "text": "Raw data file size (KB)"
         }
        },
        "yaxis": {
         "title": {
          "text": "Average response time (s)"
         }
        }
       }
      },
      "text/html": [
       "<div>\n",
       "        \n",
       "        \n",
       "            <div id=\"3b42d1a5-7f88-463d-8944-7afee710cb6f\" class=\"plotly-graph-div\" style=\"height:525px; width:100%;\"></div>\n",
       "            <script type=\"text/javascript\">\n",
       "                require([\"plotly\"], function(Plotly) {\n",
       "                    window.PLOTLYENV=window.PLOTLYENV || {};\n",
       "                    window.PLOTLYENV.BASE_URL='https://plot.ly';\n",
       "                    \n",
       "                if (document.getElementById(\"3b42d1a5-7f88-463d-8944-7afee710cb6f\")) {\n",
       "                    Plotly.newPlot(\n",
       "                        '3b42d1a5-7f88-463d-8944-7afee710cb6f',\n",
       "                        [{\"mode\": \"lines\", \"name\": \"3 Orgs net\", \"type\": \"scatter\", \"uid\": \"7bce7c51-af12-4b87-bf62-e9d708cd1f5d\", \"x\": [250, 500], \"y\": [14.5715, 93.1102]}, {\"mode\": \"lines\", \"name\": \"5 Orgs net\", \"type\": \"scatter\", \"uid\": \"fcd8aa2c-532e-4957-9909-3f1e014e504c\", \"x\": [250, 500], \"y\": [15.2297, 109.5888]}],\n",
       "                        {\"barmode\": \"group\", \"title\": {\"text\": \"Executing transaction 'AddAutomaticAnalysis' with different raw data file sizes (500 tubes)\"}, \"xaxis\": {\"range\": [250, 500], \"title\": {\"text\": \"Raw data file size (KB)\"}}, \"yaxis\": {\"title\": {\"text\": \"Average response time (s)\"}}},\n",
       "                        {\"toImageButtonOptions\": {\"filename\": \"avgAuto_numTubesFixed\"}, \"plotlyServerURL\": \"https://plot.ly\", \"responsive\": true}\n",
       "                    ).then(function(){\n",
       "                            \n",
       "var gd = document.getElementById('3b42d1a5-7f88-463d-8944-7afee710cb6f');\n",
       "var x = new MutationObserver(function (mutations, observer) {{\n",
       "        var display = window.getComputedStyle(gd).display;\n",
       "        if (!display || display === 'none') {{\n",
       "            console.log([gd, 'removed!']);\n",
       "            Plotly.purge(gd);\n",
       "            observer.disconnect();\n",
       "        }}\n",
       "}});\n",
       "\n",
       "// Listen for the removal of the full notebook cells\n",
       "var notebookContainer = gd.closest('#notebook-container');\n",
       "if (notebookContainer) {{\n",
       "    x.observe(notebookContainer, {childList: true});\n",
       "}}\n",
       "\n",
       "// Listen for the clearing of the current output cell\n",
       "var outputEl = gd.closest('.output');\n",
       "if (outputEl) {{\n",
       "    x.observe(outputEl, {childList: true});\n",
       "}}\n",
       "\n",
       "                        })\n",
       "                };\n",
       "                });\n",
       "            </script>\n",
       "        </div>"
      ]
     },
     "metadata": {},
     "output_type": "display_data"
    }
   ],
   "source": [
    "# 3 Orgs net data\n",
    "threeOrgs = [14.5715, 93.1102]\n",
    "# 5 Orgs net data\n",
    "fiveOrgs = [15.2297, 109.5888]\n",
    "\n",
    "avgAutoAnalysis(500, threeOrgs, fiveOrgs)"
   ]
  },
  {
   "cell_type": "markdown",
   "metadata": {},
   "source": [
    "### Elapsed time adding one automatic analysis per acquisition"
   ]
  },
  {
   "cell_type": "code",
   "execution_count": 5,
   "metadata": {},
   "outputs": [
    {
     "data": {
      "application/vnd.plotly.v1+json": {
       "config": {
        "plotlyServerURL": "https://plot.ly",
        "toImageButtonOptions": {
         "filename": "totalAuto_numTubesFixed"
        }
       },
       "data": [
        {
         "mode": "lines",
         "name": "3 Orgs net",
         "type": "scatter",
         "uid": "03d3edfe-75fe-4802-b51e-54daf9148911",
         "x": [
          250,
          500
         ],
         "y": [
          7463.6008,
          46793.8084
         ]
        },
        {
         "mode": "lines",
         "name": "5 Orgs net",
         "type": "scatter",
         "uid": "5df46131-4df1-40ec-8d93-d3cf5897e4d2",
         "x": [
          250,
          500
         ],
         "y": [
          7797.885,
          55044.4132
         ]
        }
       ],
       "layout": {
        "barmode": "group",
        "title": {
         "text": "Elapsed time adding one automatic analysis per acquisition, with different raw data file sizes (500 tubes)"
        },
        "xaxis": {
         "range": [
          250,
          500
         ],
         "title": {
          "text": "Raw data file size (KB)"
         }
        },
        "yaxis": {
         "title": {
          "text": "Total elapsed time (s)"
         }
        }
       }
      },
      "text/html": [
       "<div>\n",
       "        \n",
       "        \n",
       "            <div id=\"3ef05719-b091-4409-b7ba-d4f1289e73dc\" class=\"plotly-graph-div\" style=\"height:525px; width:100%;\"></div>\n",
       "            <script type=\"text/javascript\">\n",
       "                require([\"plotly\"], function(Plotly) {\n",
       "                    window.PLOTLYENV=window.PLOTLYENV || {};\n",
       "                    window.PLOTLYENV.BASE_URL='https://plot.ly';\n",
       "                    \n",
       "                if (document.getElementById(\"3ef05719-b091-4409-b7ba-d4f1289e73dc\")) {\n",
       "                    Plotly.newPlot(\n",
       "                        '3ef05719-b091-4409-b7ba-d4f1289e73dc',\n",
       "                        [{\"mode\": \"lines\", \"name\": \"3 Orgs net\", \"type\": \"scatter\", \"uid\": \"03d3edfe-75fe-4802-b51e-54daf9148911\", \"x\": [250, 500], \"y\": [7463.6008, 46793.8084]}, {\"mode\": \"lines\", \"name\": \"5 Orgs net\", \"type\": \"scatter\", \"uid\": \"5df46131-4df1-40ec-8d93-d3cf5897e4d2\", \"x\": [250, 500], \"y\": [7797.885, 55044.4132]}],\n",
       "                        {\"barmode\": \"group\", \"title\": {\"text\": \"Elapsed time adding one automatic analysis per acquisition, with different raw data file sizes (500 tubes)\"}, \"xaxis\": {\"range\": [250, 500], \"title\": {\"text\": \"Raw data file size (KB)\"}}, \"yaxis\": {\"title\": {\"text\": \"Total elapsed time (s)\"}}},\n",
       "                        {\"toImageButtonOptions\": {\"filename\": \"totalAuto_numTubesFixed\"}, \"plotlyServerURL\": \"https://plot.ly\", \"responsive\": true}\n",
       "                    ).then(function(){\n",
       "                            \n",
       "var gd = document.getElementById('3ef05719-b091-4409-b7ba-d4f1289e73dc');\n",
       "var x = new MutationObserver(function (mutations, observer) {{\n",
       "        var display = window.getComputedStyle(gd).display;\n",
       "        if (!display || display === 'none') {{\n",
       "            console.log([gd, 'removed!']);\n",
       "            Plotly.purge(gd);\n",
       "            observer.disconnect();\n",
       "        }}\n",
       "}});\n",
       "\n",
       "// Listen for the removal of the full notebook cells\n",
       "var notebookContainer = gd.closest('#notebook-container');\n",
       "if (notebookContainer) {{\n",
       "    x.observe(notebookContainer, {childList: true});\n",
       "}}\n",
       "\n",
       "// Listen for the clearing of the current output cell\n",
       "var outputEl = gd.closest('.output');\n",
       "if (outputEl) {{\n",
       "    x.observe(outputEl, {childList: true});\n",
       "}}\n",
       "\n",
       "                        })\n",
       "                };\n",
       "                });\n",
       "            </script>\n",
       "        </div>"
      ]
     },
     "metadata": {},
     "output_type": "display_data"
    }
   ],
   "source": [
    "# 3 Orgs net data\n",
    "threeOrgs = [7463.6008, 46793.8084]\n",
    "# 5 Orgs net data\n",
    "fiveOrgs = [7797.8850, 55044.4132]\n",
    "\n",
    "totalAutoAnalysis(500, threeOrgs, fiveOrgs)"
   ]
  },
  {
   "cell_type": "markdown",
   "metadata": {},
   "source": [
    "### Average times when executing tx 'AddAnalysis' by analysts"
   ]
  },
  {
   "cell_type": "code",
   "execution_count": 6,
   "metadata": {},
   "outputs": [
    {
     "data": {
      "application/vnd.plotly.v1+json": {
       "config": {
        "plotlyServerURL": "https://plot.ly",
        "toImageButtonOptions": {
         "filename": "avgAnalysis_numTubesFixed"
        }
       },
       "data": [
        {
         "mode": "lines",
         "name": "3 Orgs net (10 analysts per role)",
         "type": "scatter",
         "uid": "e5c6daa7-ee7c-4c30-b42f-d22db84c70ea",
         "x": [
          250,
          500
         ],
         "y": [
          1.4509,
          1.2881
         ]
        },
        {
         "mode": "lines",
         "name": "3 Orgs net (20 analysts per role)",
         "type": "scatter",
         "uid": "708049d6-a6d2-4852-885b-913fa54d2fbe",
         "x": [
          250,
          500
         ],
         "y": [
          1.6969,
          1.2734
         ]
        },
        {
         "mode": "lines",
         "name": "5 Orgs net (10 analysts per role)",
         "type": "scatter",
         "uid": "967c73c9-312c-4387-9436-02b02f63ed46",
         "x": [
          250,
          500
         ],
         "y": [
          1.5105,
          1.5482
         ]
        },
        {
         "mode": "lines",
         "name": "5 Orgs net (20 analysts per role)",
         "type": "scatter",
         "uid": "e5b9f9ed-85f0-4ecc-8381-4736b42c9f0b",
         "x": [
          250,
          500
         ],
         "y": [
          1.7421,
          1.6504
         ]
        }
       ],
       "layout": {
        "barmode": "group",
        "title": {
         "text": "Executing transaction 'AddAnalysis' with different raw data file sizes and different number of analysts (500 tubes)"
        },
        "xaxis": {
         "range": [
          250,
          500
         ],
         "title": {
          "text": "Raw data file size (KB)"
         }
        },
        "yaxis": {
         "range": [
          1,
          4
         ],
         "title": {
          "text": "Average response time (s)"
         }
        }
       }
      },
      "text/html": [
       "<div>\n",
       "        \n",
       "        \n",
       "            <div id=\"4670d448-a9ac-4182-9e84-22ee7814faf1\" class=\"plotly-graph-div\" style=\"height:525px; width:100%;\"></div>\n",
       "            <script type=\"text/javascript\">\n",
       "                require([\"plotly\"], function(Plotly) {\n",
       "                    window.PLOTLYENV=window.PLOTLYENV || {};\n",
       "                    window.PLOTLYENV.BASE_URL='https://plot.ly';\n",
       "                    \n",
       "                if (document.getElementById(\"4670d448-a9ac-4182-9e84-22ee7814faf1\")) {\n",
       "                    Plotly.newPlot(\n",
       "                        '4670d448-a9ac-4182-9e84-22ee7814faf1',\n",
       "                        [{\"mode\": \"lines\", \"name\": \"3 Orgs net (10 analysts per role)\", \"type\": \"scatter\", \"uid\": \"e5c6daa7-ee7c-4c30-b42f-d22db84c70ea\", \"x\": [250, 500], \"y\": [1.4509, 1.2881]}, {\"mode\": \"lines\", \"name\": \"3 Orgs net (20 analysts per role)\", \"type\": \"scatter\", \"uid\": \"708049d6-a6d2-4852-885b-913fa54d2fbe\", \"x\": [250, 500], \"y\": [1.6969, 1.2734]}, {\"mode\": \"lines\", \"name\": \"5 Orgs net (10 analysts per role)\", \"type\": \"scatter\", \"uid\": \"967c73c9-312c-4387-9436-02b02f63ed46\", \"x\": [250, 500], \"y\": [1.5105, 1.5482]}, {\"mode\": \"lines\", \"name\": \"5 Orgs net (20 analysts per role)\", \"type\": \"scatter\", \"uid\": \"e5b9f9ed-85f0-4ecc-8381-4736b42c9f0b\", \"x\": [250, 500], \"y\": [1.7421, 1.6504]}],\n",
       "                        {\"barmode\": \"group\", \"title\": {\"text\": \"Executing transaction 'AddAnalysis' with different raw data file sizes and different number of analysts (500 tubes)\"}, \"xaxis\": {\"range\": [250, 500], \"title\": {\"text\": \"Raw data file size (KB)\"}}, \"yaxis\": {\"range\": [1.0, 4.0], \"title\": {\"text\": \"Average response time (s)\"}}},\n",
       "                        {\"toImageButtonOptions\": {\"filename\": \"avgAnalysis_numTubesFixed\"}, \"plotlyServerURL\": \"https://plot.ly\", \"responsive\": true}\n",
       "                    ).then(function(){\n",
       "                            \n",
       "var gd = document.getElementById('4670d448-a9ac-4182-9e84-22ee7814faf1');\n",
       "var x = new MutationObserver(function (mutations, observer) {{\n",
       "        var display = window.getComputedStyle(gd).display;\n",
       "        if (!display || display === 'none') {{\n",
       "            console.log([gd, 'removed!']);\n",
       "            Plotly.purge(gd);\n",
       "            observer.disconnect();\n",
       "        }}\n",
       "}});\n",
       "\n",
       "// Listen for the removal of the full notebook cells\n",
       "var notebookContainer = gd.closest('#notebook-container');\n",
       "if (notebookContainer) {{\n",
       "    x.observe(notebookContainer, {childList: true});\n",
       "}}\n",
       "\n",
       "// Listen for the clearing of the current output cell\n",
       "var outputEl = gd.closest('.output');\n",
       "if (outputEl) {{\n",
       "    x.observe(outputEl, {childList: true});\n",
       "}}\n",
       "\n",
       "                        })\n",
       "                };\n",
       "                });\n",
       "            </script>\n",
       "        </div>"
      ]
     },
     "metadata": {},
     "output_type": "display_data"
    }
   ],
   "source": [
    "# 3 Orgs net data\n",
    "threeOrgs10 = [1.4509, 1.2881]\n",
    "threeOrgs20 = [1.6969, 1.2734]\n",
    "# 5 Orgs net data\n",
    "fiveOrgs10 = [1.5105, 1.5482]\n",
    "fiveOrgs20 = [1.7421, 1.6504]\n",
    "\n",
    "avgAnalysis(500, threeOrgs10, threeOrgs20, fiveOrgs10, fiveOrgs20)"
   ]
  },
  {
   "cell_type": "markdown",
   "metadata": {},
   "source": [
    "### Elapsed time adding two analyses per acquisition with different number of analysts"
   ]
  },
  {
   "cell_type": "code",
   "execution_count": 7,
   "metadata": {},
   "outputs": [
    {
     "data": {
      "application/vnd.plotly.v1+json": {
       "config": {
        "plotlyServerURL": "https://plot.ly",
        "toImageButtonOptions": {
         "filename": "totalAnalysis_numTubesFixed"
        }
       },
       "data": [
        {
         "mode": "lines",
         "name": "3 Orgs net (10 analysts per role)",
         "type": "scatter",
         "uid": "dc90c67c-c42d-46c2-b5f8-4c8618a3b018",
         "x": [
          250,
          500
         ],
         "y": [
          1148.1136,
          1128.2235
         ]
        },
        {
         "mode": "lines",
         "name": "3 Orgs net (20 analysts per role)",
         "type": "scatter",
         "uid": "6fa9dfbe-b38d-4a0e-9ac1-389845b2636a",
         "x": [
          250,
          500
         ],
         "y": [
          598.9732,
          569.9285
         ]
        },
        {
         "mode": "lines",
         "name": "5 Orgs net (10 analysts per role)",
         "type": "scatter",
         "uid": "efceeec5-52c5-44ea-9891-b07ffdd1553e",
         "x": [
          250,
          500
         ],
         "y": [
          1146.1426,
          1153.6861
         ]
        },
        {
         "mode": "lines",
         "name": "5 Orgs net (20 analysts per role)",
         "type": "scatter",
         "uid": "40e92c92-6022-4c31-a711-c54c6a52569e",
         "x": [
          250,
          500
         ],
         "y": [
          612.9805,
          596.3063
         ]
        }
       ],
       "layout": {
        "barmode": "group",
        "title": {
         "text": "Elapsed time adding one analysis per acquisition by primary and secondary analysts, <br> with different raw data file sizes and different number of analysts (500 tubes)"
        },
        "xaxis": {
         "range": [
          250,
          500
         ],
         "title": {
          "text": "Raw data file size (KB)"
         }
        },
        "yaxis": {
         "title": {
          "text": "Total elapsed time (s)"
         }
        }
       }
      },
      "text/html": [
       "<div>\n",
       "        \n",
       "        \n",
       "            <div id=\"781fd0d7-cf1b-4f06-80ae-c6298a77551d\" class=\"plotly-graph-div\" style=\"height:525px; width:100%;\"></div>\n",
       "            <script type=\"text/javascript\">\n",
       "                require([\"plotly\"], function(Plotly) {\n",
       "                    window.PLOTLYENV=window.PLOTLYENV || {};\n",
       "                    window.PLOTLYENV.BASE_URL='https://plot.ly';\n",
       "                    \n",
       "                if (document.getElementById(\"781fd0d7-cf1b-4f06-80ae-c6298a77551d\")) {\n",
       "                    Plotly.newPlot(\n",
       "                        '781fd0d7-cf1b-4f06-80ae-c6298a77551d',\n",
       "                        [{\"mode\": \"lines\", \"name\": \"3 Orgs net (10 analysts per role)\", \"type\": \"scatter\", \"uid\": \"dc90c67c-c42d-46c2-b5f8-4c8618a3b018\", \"x\": [250, 500], \"y\": [1148.1136, 1128.2235]}, {\"mode\": \"lines\", \"name\": \"3 Orgs net (20 analysts per role)\", \"type\": \"scatter\", \"uid\": \"6fa9dfbe-b38d-4a0e-9ac1-389845b2636a\", \"x\": [250, 500], \"y\": [598.9732, 569.9285]}, {\"mode\": \"lines\", \"name\": \"5 Orgs net (10 analysts per role)\", \"type\": \"scatter\", \"uid\": \"efceeec5-52c5-44ea-9891-b07ffdd1553e\", \"x\": [250, 500], \"y\": [1146.1426, 1153.6861]}, {\"mode\": \"lines\", \"name\": \"5 Orgs net (20 analysts per role)\", \"type\": \"scatter\", \"uid\": \"40e92c92-6022-4c31-a711-c54c6a52569e\", \"x\": [250, 500], \"y\": [612.9805, 596.3063]}],\n",
       "                        {\"barmode\": \"group\", \"title\": {\"text\": \"Elapsed time adding one analysis per acquisition by primary and secondary analysts, <br> with different raw data file sizes and different number of analysts (500 tubes)\"}, \"xaxis\": {\"range\": [250, 500], \"title\": {\"text\": \"Raw data file size (KB)\"}}, \"yaxis\": {\"title\": {\"text\": \"Total elapsed time (s)\"}}},\n",
       "                        {\"toImageButtonOptions\": {\"filename\": \"totalAnalysis_numTubesFixed\"}, \"plotlyServerURL\": \"https://plot.ly\", \"responsive\": true}\n",
       "                    ).then(function(){\n",
       "                            \n",
       "var gd = document.getElementById('781fd0d7-cf1b-4f06-80ae-c6298a77551d');\n",
       "var x = new MutationObserver(function (mutations, observer) {{\n",
       "        var display = window.getComputedStyle(gd).display;\n",
       "        if (!display || display === 'none') {{\n",
       "            console.log([gd, 'removed!']);\n",
       "            Plotly.purge(gd);\n",
       "            observer.disconnect();\n",
       "        }}\n",
       "}});\n",
       "\n",
       "// Listen for the removal of the full notebook cells\n",
       "var notebookContainer = gd.closest('#notebook-container');\n",
       "if (notebookContainer) {{\n",
       "    x.observe(notebookContainer, {childList: true});\n",
       "}}\n",
       "\n",
       "// Listen for the clearing of the current output cell\n",
       "var outputEl = gd.closest('.output');\n",
       "if (outputEl) {{\n",
       "    x.observe(outputEl, {childList: true});\n",
       "}}\n",
       "\n",
       "                        })\n",
       "                };\n",
       "                });\n",
       "            </script>\n",
       "        </div>"
      ]
     },
     "metadata": {},
     "output_type": "display_data"
    }
   ],
   "source": [
    "# 3 Orgs net data\n",
    "threeOrgs10 = [1148.1136, 1128.2235]\n",
    "threeOrgs20 = [598.9732,  569.9285]\n",
    "# 5 Orgs net data\n",
    "fiveOrgs10 = [1146.1426, 1153.6861]\n",
    "fiveOrgs20 = [612.9805, 596.3063]\n",
    "\n",
    "totalAnalysis(500, threeOrgs10, threeOrgs20, fiveOrgs10, fiveOrgs20)"
   ]
  },
  {
   "cell_type": "markdown",
   "metadata": {},
   "source": [
    "### Average times when executing tx 'AddAnalysis' by advanced analysts"
   ]
  },
  {
   "cell_type": "code",
   "execution_count": 8,
   "metadata": {},
   "outputs": [
    {
     "data": {
      "application/vnd.plotly.v1+json": {
       "config": {
        "plotlyServerURL": "https://plot.ly",
        "toImageButtonOptions": {
         "filename": "avgRes_numTubesFixed"
        }
       },
       "data": [
        {
         "mode": "lines",
         "name": "3 Orgs net (10 advanced analysts)",
         "type": "scatter",
         "uid": "73337c64-61c1-441b-862a-e3bd1208fa1b",
         "x": [
          250,
          500
         ],
         "y": [
          1.2624,
          1.2773
         ]
        },
        {
         "mode": "lines",
         "name": "3 Orgs net (20 advanced analysts)",
         "type": "scatter",
         "uid": "33ac74bc-bb44-4256-9bac-0a9488ca61fc",
         "x": [
          250,
          500
         ],
         "y": [
          1.4534,
          1.2783
         ]
        },
        {
         "mode": "lines",
         "name": "5 Orgs net (10 advanced analysts)",
         "type": "scatter",
         "uid": "69135b45-dd42-4761-9c65-ef91e6baf9d3",
         "x": [
          250,
          500
         ],
         "y": [
          1.3117,
          1.3346
         ]
        },
        {
         "mode": "lines",
         "name": "5 Orgs net (20 advanced analysts)",
         "type": "scatter",
         "uid": "ebe9c335-eaaf-4ce2-9152-691a3a0974b0",
         "x": [
          250,
          500
         ],
         "y": [
          1.6839,
          1.4591
         ]
        }
       ],
       "layout": {
        "barmode": "group",
        "title": {
         "text": "Executing transaction 'AddAnalysis' with different raw data file sizes <br> and different number of advanced analysts (500 tubes)"
        },
        "xaxis": {
         "range": [
          250,
          500
         ],
         "title": {
          "text": "Raw data file size (KB)"
         }
        },
        "yaxis": {
         "range": [
          1,
          4
         ],
         "title": {
          "text": "Average response time (s)"
         }
        }
       }
      },
      "text/html": [
       "<div>\n",
       "        \n",
       "        \n",
       "            <div id=\"95a60268-c971-4596-bcf7-256dc513ac97\" class=\"plotly-graph-div\" style=\"height:525px; width:100%;\"></div>\n",
       "            <script type=\"text/javascript\">\n",
       "                require([\"plotly\"], function(Plotly) {\n",
       "                    window.PLOTLYENV=window.PLOTLYENV || {};\n",
       "                    window.PLOTLYENV.BASE_URL='https://plot.ly';\n",
       "                    \n",
       "                if (document.getElementById(\"95a60268-c971-4596-bcf7-256dc513ac97\")) {\n",
       "                    Plotly.newPlot(\n",
       "                        '95a60268-c971-4596-bcf7-256dc513ac97',\n",
       "                        [{\"mode\": \"lines\", \"name\": \"3 Orgs net (10 advanced analysts)\", \"type\": \"scatter\", \"uid\": \"73337c64-61c1-441b-862a-e3bd1208fa1b\", \"x\": [250, 500], \"y\": [1.2624, 1.2773]}, {\"mode\": \"lines\", \"name\": \"3 Orgs net (20 advanced analysts)\", \"type\": \"scatter\", \"uid\": \"33ac74bc-bb44-4256-9bac-0a9488ca61fc\", \"x\": [250, 500], \"y\": [1.4534, 1.2783]}, {\"mode\": \"lines\", \"name\": \"5 Orgs net (10 advanced analysts)\", \"type\": \"scatter\", \"uid\": \"69135b45-dd42-4761-9c65-ef91e6baf9d3\", \"x\": [250, 500], \"y\": [1.3117, 1.3346]}, {\"mode\": \"lines\", \"name\": \"5 Orgs net (20 advanced analysts)\", \"type\": \"scatter\", \"uid\": \"ebe9c335-eaaf-4ce2-9152-691a3a0974b0\", \"x\": [250, 500], \"y\": [1.6839, 1.4591]}],\n",
       "                        {\"barmode\": \"group\", \"title\": {\"text\": \"Executing transaction 'AddAnalysis' with different raw data file sizes <br> and different number of advanced analysts (500 tubes)\"}, \"xaxis\": {\"range\": [250, 500], \"title\": {\"text\": \"Raw data file size (KB)\"}}, \"yaxis\": {\"range\": [1.0, 4.0], \"title\": {\"text\": \"Average response time (s)\"}}},\n",
       "                        {\"toImageButtonOptions\": {\"filename\": \"avgRes_numTubesFixed\"}, \"plotlyServerURL\": \"https://plot.ly\", \"responsive\": true}\n",
       "                    ).then(function(){\n",
       "                            \n",
       "var gd = document.getElementById('95a60268-c971-4596-bcf7-256dc513ac97');\n",
       "var x = new MutationObserver(function (mutations, observer) {{\n",
       "        var display = window.getComputedStyle(gd).display;\n",
       "        if (!display || display === 'none') {{\n",
       "            console.log([gd, 'removed!']);\n",
       "            Plotly.purge(gd);\n",
       "            observer.disconnect();\n",
       "        }}\n",
       "}});\n",
       "\n",
       "// Listen for the removal of the full notebook cells\n",
       "var notebookContainer = gd.closest('#notebook-container');\n",
       "if (notebookContainer) {{\n",
       "    x.observe(notebookContainer, {childList: true});\n",
       "}}\n",
       "\n",
       "// Listen for the clearing of the current output cell\n",
       "var outputEl = gd.closest('.output');\n",
       "if (outputEl) {{\n",
       "    x.observe(outputEl, {childList: true});\n",
       "}}\n",
       "\n",
       "                        })\n",
       "                };\n",
       "                });\n",
       "            </script>\n",
       "        </div>"
      ]
     },
     "metadata": {},
     "output_type": "display_data"
    }
   ],
   "source": [
    "# 3 Orgs net data\n",
    "threeOrgs10 = [1.2624, 1.2773]\n",
    "threeOrgs20 = [1.4534, 1.2783]\n",
    "# 5 Orgs net data\n",
    "fiveOrgs10 = [1.3117, 1.3346]\n",
    "fiveOrgs20 = [1.6839, 1.4591]\n",
    "\n",
    "avgResolution(500, threeOrgs10, threeOrgs20, fiveOrgs10, fiveOrgs20)"
   ]
  },
  {
   "cell_type": "markdown",
   "metadata": {},
   "source": [
    "### Elapsed time adding one resolution per acquisition with different number of advanced analysts"
   ]
  },
  {
   "cell_type": "code",
   "execution_count": 9,
   "metadata": {},
   "outputs": [
    {
     "data": {
      "application/vnd.plotly.v1+json": {
       "config": {
        "plotlyServerURL": "https://plot.ly",
        "toImageButtonOptions": {
         "filename": "totalRes_numTubesFixed"
        }
       },
       "data": [
        {
         "mode": "lines",
         "name": "3 Orgs net (10 advanced analysts)",
         "type": "scatter",
         "uid": "6797f840-07bf-4447-84de-98d56a14a709",
         "x": [
          250,
          500
         ],
         "y": [
          1127.5344,
          1118.8319
         ]
        },
        {
         "mode": "lines",
         "name": "3 Orgs net (20 advanced analysts)",
         "type": "scatter",
         "uid": "6b66ae22-2eba-4d7a-b07e-40622e67d46c",
         "x": [
          250,
          500
         ],
         "y": [
          582.8463,
          568.3935
         ]
        },
        {
         "mode": "lines",
         "name": "5 Orgs net (10 advanced analysts)",
         "type": "scatter",
         "uid": "e63c610f-ece6-4953-a566-7b4b4321bc5f",
         "x": [
          250,
          500
         ],
         "y": [
          1133.3466,
          1139.7193
         ]
        },
        {
         "mode": "lines",
         "name": "5 Orgs net (20 advanced analysts)",
         "type": "scatter",
         "uid": "c7f0c4fa-a096-4c7b-8a69-3571dec431e0",
         "x": [
          250,
          500
         ],
         "y": [
          589.8071,
          579.0952
         ]
        }
       ],
       "layout": {
        "barmode": "group",
        "title": {
         "text": "Elapsed time adding one analysis per acquisition by advanced analysts, <br> with different raw data file sizes and different number of analysts (500 tubes)"
        },
        "xaxis": {
         "range": [
          250,
          500
         ],
         "title": {
          "text": "Raw data file size (KB)"
         }
        },
        "yaxis": {
         "title": {
          "text": "Total elapsed time (s)"
         }
        }
       }
      },
      "text/html": [
       "<div>\n",
       "        \n",
       "        \n",
       "            <div id=\"90cc39fe-12b7-4628-9f74-92537e3fa76f\" class=\"plotly-graph-div\" style=\"height:525px; width:100%;\"></div>\n",
       "            <script type=\"text/javascript\">\n",
       "                require([\"plotly\"], function(Plotly) {\n",
       "                    window.PLOTLYENV=window.PLOTLYENV || {};\n",
       "                    window.PLOTLYENV.BASE_URL='https://plot.ly';\n",
       "                    \n",
       "                if (document.getElementById(\"90cc39fe-12b7-4628-9f74-92537e3fa76f\")) {\n",
       "                    Plotly.newPlot(\n",
       "                        '90cc39fe-12b7-4628-9f74-92537e3fa76f',\n",
       "                        [{\"mode\": \"lines\", \"name\": \"3 Orgs net (10 advanced analysts)\", \"type\": \"scatter\", \"uid\": \"6797f840-07bf-4447-84de-98d56a14a709\", \"x\": [250, 500], \"y\": [1127.5344, 1118.8319]}, {\"mode\": \"lines\", \"name\": \"3 Orgs net (20 advanced analysts)\", \"type\": \"scatter\", \"uid\": \"6b66ae22-2eba-4d7a-b07e-40622e67d46c\", \"x\": [250, 500], \"y\": [582.8463, 568.3935]}, {\"mode\": \"lines\", \"name\": \"5 Orgs net (10 advanced analysts)\", \"type\": \"scatter\", \"uid\": \"e63c610f-ece6-4953-a566-7b4b4321bc5f\", \"x\": [250, 500], \"y\": [1133.3466, 1139.7193]}, {\"mode\": \"lines\", \"name\": \"5 Orgs net (20 advanced analysts)\", \"type\": \"scatter\", \"uid\": \"c7f0c4fa-a096-4c7b-8a69-3571dec431e0\", \"x\": [250, 500], \"y\": [589.8071, 579.0952]}],\n",
       "                        {\"barmode\": \"group\", \"title\": {\"text\": \"Elapsed time adding one analysis per acquisition by advanced analysts, <br> with different raw data file sizes and different number of analysts (500 tubes)\"}, \"xaxis\": {\"range\": [250, 500], \"title\": {\"text\": \"Raw data file size (KB)\"}}, \"yaxis\": {\"title\": {\"text\": \"Total elapsed time (s)\"}}},\n",
       "                        {\"toImageButtonOptions\": {\"filename\": \"totalRes_numTubesFixed\"}, \"plotlyServerURL\": \"https://plot.ly\", \"responsive\": true}\n",
       "                    ).then(function(){\n",
       "                            \n",
       "var gd = document.getElementById('90cc39fe-12b7-4628-9f74-92537e3fa76f');\n",
       "var x = new MutationObserver(function (mutations, observer) {{\n",
       "        var display = window.getComputedStyle(gd).display;\n",
       "        if (!display || display === 'none') {{\n",
       "            console.log([gd, 'removed!']);\n",
       "            Plotly.purge(gd);\n",
       "            observer.disconnect();\n",
       "        }}\n",
       "}});\n",
       "\n",
       "// Listen for the removal of the full notebook cells\n",
       "var notebookContainer = gd.closest('#notebook-container');\n",
       "if (notebookContainer) {{\n",
       "    x.observe(notebookContainer, {childList: true});\n",
       "}}\n",
       "\n",
       "// Listen for the clearing of the current output cell\n",
       "var outputEl = gd.closest('.output');\n",
       "if (outputEl) {{\n",
       "    x.observe(outputEl, {childList: true});\n",
       "}}\n",
       "\n",
       "                        })\n",
       "                };\n",
       "                });\n",
       "            </script>\n",
       "        </div>"
      ]
     },
     "metadata": {},
     "output_type": "display_data"
    }
   ],
   "source": [
    "# 3 Orgs net data\n",
    "threeOrgs10 = [1127.5344, 1118.8319]\n",
    "threeOrgs20 = [582.8463, 568.3935]\n",
    "# 5 Orgs net data\n",
    "fiveOrgs10 = [1133.3466, 1139.7193]\n",
    "fiveOrgs20 = [589.8071, 579.0952]\n",
    "\n",
    "totalResolution(500, threeOrgs10, threeOrgs20, fiveOrgs10, fiveOrgs20)"
   ]
  }
 ],
 "metadata": {
  "kernelspec": {
   "display_name": "Python 3",
   "language": "python",
   "name": "python3"
  },
  "language_info": {
   "codemirror_mode": {
    "name": "ipython",
    "version": 3
   },
   "file_extension": ".py",
   "mimetype": "text/x-python",
   "name": "python",
   "nbconvert_exporter": "python",
   "pygments_lexer": "ipython3",
   "version": "3.6.4"
  }
 },
 "nbformat": 4,
 "nbformat_minor": 2
}
